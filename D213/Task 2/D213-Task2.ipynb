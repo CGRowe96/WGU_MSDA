{
 "cells": [
  {
   "cell_type": "code",
   "execution_count": 5,
   "id": "08d2a94f",
   "metadata": {},
   "outputs": [
    {
     "name": "stderr",
     "output_type": "stream",
     "text": [
      "[nltk_data] Downloading package punkt to\n",
      "[nltk_data]     C:\\Users\\cgrow\\AppData\\Roaming\\nltk_data...\n",
      "[nltk_data]   Unzipping tokenizers\\punkt.zip.\n",
      "[nltk_data] Downloading package stopwords to\n",
      "[nltk_data]     C:\\Users\\cgrow\\AppData\\Roaming\\nltk_data...\n",
      "[nltk_data]   Unzipping corpora\\stopwords.zip.\n"
     ]
    }
   ],
   "source": [
    "import pandas as pd\n",
    "import numpy as np\n",
    "import matplotlib.pyplot as plt\n",
    "import re\n",
    "from sklearn.model_selection import train_test_split\n",
    "from sklearn.metrics import confusion_matrix\n",
    "from tensorflow.keras.preprocessing.text import Tokenizer\n",
    "from tensorflow.keras.preprocessing.sequence import pad_sequences\n",
    "from tensorflow.keras.callbacks import EarlyStopping\n",
    "from tensorflow.keras.layers import Dense, Embedding, Flatten\n",
    "from tensorflow.keras.models import Sequential\n",
    "import nltk\n",
    "import string\n",
    "from nltk import word_tokenize, sent_tokenize\n",
    "from nltk.corpus import stopwords\n",
    "nltk.download('punkt')\n",
    "nltk.download('stopwords')\n",
    "pd.set_option(\"display.max_columns\", None)"
   ]
  },
  {
   "cell_type": "code",
   "execution_count": 6,
   "id": "8b1d2e31",
   "metadata": {},
   "outputs": [
    {
     "name": "stdout",
     "output_type": "stream",
     "text": [
      "    A very, very, very slow-moving, aimless movie about a distressed, drifting young man.    \\\n",
      "0    Not sure who was more lost - the flat characte...                                        \n",
      "1    Attempting artiness with black & white and cle...                                        \n",
      "2         Very little music or anything to speak of.                                          \n",
      "3    The best scene in the movie was when Gerardo i...                                        \n",
      "4    The rest of the movie lacks art, charm, meanin...                                        \n",
      "..                                                 ...                                        \n",
      "742  I just got bored watching Jessice Lange take h...                                        \n",
      "743  Unfortunately, any virtue in this film's produ...                                        \n",
      "744                   In a word, it is embarrassing.                                          \n",
      "745                               Exceptionally bad!                                          \n",
      "746  All in all its an insult to one's intelligence...                                        \n",
      "\n",
      "     0  \n",
      "0    0  \n",
      "1    0  \n",
      "2    0  \n",
      "3    1  \n",
      "4    0  \n",
      "..  ..  \n",
      "742  0  \n",
      "743  0  \n",
      "744  0  \n",
      "745  0  \n",
      "746  0  \n",
      "\n",
      "[747 rows x 2 columns]\n"
     ]
    }
   ],
   "source": [
    "imdb_db = pd.read_csv('imdb_labelled.txt', sep='\\t')\n",
    "n_cols = imdb_db.shape[1]\n",
    "model = Sequential()\n",
    "\n",
    "print(imdb_db)"
   ]
  }
 ],
 "metadata": {
  "kernelspec": {
   "display_name": "Python 3",
   "language": "python",
   "name": "python3"
  },
  "language_info": {
   "codemirror_mode": {
    "name": "ipython",
    "version": 3
   },
   "file_extension": ".py",
   "mimetype": "text/x-python",
   "name": "python",
   "nbconvert_exporter": "python",
   "pygments_lexer": "ipython3",
   "version": "3.12.2"
  }
 },
 "nbformat": 4,
 "nbformat_minor": 5
}
