{
 "cells": [
  {
   "cell_type": "markdown",
   "metadata": {},
   "source": [
    "Time Series Analysis"
   ]
  },
  {
   "cell_type": "code",
   "execution_count": null,
   "metadata": {},
   "outputs": [
    {
     "name": "stdout",
     "output_type": "stream",
     "text": [
      "<bound method NDFrame.head of      Day    Revenue\n",
      "0      1   0.000000\n",
      "1      2  -0.292356\n",
      "2      3  -0.327772\n",
      "3      4  -0.339987\n",
      "4      5  -0.124888\n",
      "..   ...        ...\n",
      "726  727  15.722056\n",
      "727  728  15.865822\n",
      "728  729  15.708988\n",
      "729  730  15.822867\n",
      "730  731  16.069429\n",
      "\n",
      "[731 rows x 2 columns]>\n"
     ]
    }
   ],
   "source": [
    "import pandas as pd\n",
    "\n",
    "#Printing head of med_df (time series data)\n",
    "\n",
    "med_df = pd.read_csv('medical_time_series .csv')\n",
    "print(med_df.head)"
   ]
  }
 ],
 "metadata": {
  "kernelspec": {
   "display_name": "Python 3",
   "language": "python",
   "name": "python3"
  },
  "language_info": {
   "codemirror_mode": {
    "name": "ipython",
    "version": 3
   },
   "file_extension": ".py",
   "mimetype": "text/x-python",
   "name": "python",
   "nbconvert_exporter": "python",
   "pygments_lexer": "ipython3",
   "version": "3.12.2"
  }
 },
 "nbformat": 4,
 "nbformat_minor": 2
}
