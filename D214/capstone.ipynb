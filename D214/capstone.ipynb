{
 "cells": [
  {
   "cell_type": "markdown",
   "id": "20f94527",
   "metadata": {},
   "source": [
    "<font size='10'>Opinions of Medical Facilities: A Regional Comparison</font><br>\n",
    "<font size='6'>Companion Notebook</font>\n",
    "\n",
    "<font size='4'>WGU MSDA Program D214 - Charles G. Rowe 006539689</font>"
   ]
  },
  {
   "cell_type": "code",
   "execution_count": 1,
   "id": "fd020e07",
   "metadata": {},
   "outputs": [
    {
     "name": "stderr",
     "output_type": "stream",
     "text": [
      "<>:4: SyntaxWarning: invalid escape sequence '\\M'\n",
      "<>:4: SyntaxWarning: invalid escape sequence '\\M'\n",
      "C:\\Users\\charlesrowe\\AppData\\Local\\Temp\\ipykernel_14388\\1295670377.py:4: SyntaxWarning: invalid escape sequence '\\M'\n",
      "  directory = os.chdir(\"G:\\My Drive\\Capstone Files\\Datasets\")\n"
     ]
    }
   ],
   "source": [
    "import os\n",
    "import pandas as pd\n",
    "\n",
    "directory = os.chdir(\"G:\\My Drive\\Capstone Files\\Datasets\")"
   ]
  },
  {
   "cell_type": "code",
   "execution_count": 2,
   "id": "e2a8483a",
   "metadata": {},
   "outputs": [
    {
     "data": {
      "text/plain": [
       "Index(['Unnamed: 0', 'Author', 'Review Text', 'Review Rating', 'Date',\n",
       "       'Owner Answer', 'Owner Answer Date', 'Author Profile', 'Author Image',\n",
       "       'Review URL', 'label', 'zip', 'spill1', 'spill2', 'spill3', 'spill4',\n",
       "       'spill5', 'spill7', 'spill7.1', 'spill8', 'state'],\n",
       "      dtype='object')"
      ]
     },
     "execution_count": 2,
     "metadata": {},
     "output_type": "execute_result"
    }
   ],
   "source": [
    "df = pd.read_csv(\"full.csv\")\n",
    "df.columns"
   ]
  },
  {
   "cell_type": "code",
   "execution_count": 3,
   "id": "3a24d0c0",
   "metadata": {},
   "outputs": [
    {
     "data": {
      "text/plain": [
       "Index(['Unnamed: 0', 'Author', 'Review Text', 'Review Rating', 'Date',\n",
       "       'Owner Answer', 'Owner Answer Date', 'Author Profile', 'Author Image',\n",
       "       'Review URL', 'label', 'zip', 'state'],\n",
       "      dtype='object')"
      ]
     },
     "execution_count": 3,
     "metadata": {},
     "output_type": "execute_result"
    }
   ],
   "source": [
    "df = df.drop(columns=[\"spill1\",\"spill2\",\"spill3\",\"spill4\",\"spill5\",\"spill7\",\"spill7.1\",\"spill8\"])\n",
    "df.columns"
   ]
  },
  {
   "cell_type": "code",
   "execution_count": 4,
   "id": "1f0e9869",
   "metadata": {},
   "outputs": [
    {
     "data": {
      "text/plain": [
       "Unnamed: 0                2\n",
       "Author                    9\n",
       "Review Text           24595\n",
       "Review Rating             2\n",
       "Date                      2\n",
       "Owner Answer         118405\n",
       "Owner Answer Date    118405\n",
       "Author Profile            2\n",
       "Author Image              2\n",
       "Review URL                2\n",
       "label                     2\n",
       "zip                       2\n",
       "state                     2\n",
       "dtype: int64"
      ]
     },
     "execution_count": 4,
     "metadata": {},
     "output_type": "execute_result"
    }
   ],
   "source": [
    "num_missing_vals = df.isna().sum()\n",
    "num_missing_vals"
   ]
  },
  {
   "cell_type": "code",
   "execution_count": 5,
   "id": "0b9db5f3",
   "metadata": {},
   "outputs": [
    {
     "data": {
      "text/plain": [
       "24595"
      ]
     },
     "execution_count": 5,
     "metadata": {},
     "output_type": "execute_result"
    }
   ],
   "source": [
    "num_missing_reviews = df['Review Text'].isna().sum()\n",
    "num_missing_reviews"
   ]
  },
  {
   "cell_type": "code",
   "execution_count": 6,
   "id": "b382a328",
   "metadata": {},
   "outputs": [
    {
     "data": {
      "text/plain": [
       "Index(['Unnamed: 0', 'Author', 'Review Text', 'Review Rating', 'Date',\n",
       "       'Owner Answer', 'Owner Answer Date', 'Author Profile', 'Author Image',\n",
       "       'Review URL', 'label', 'zip', 'state'],\n",
       "      dtype='object')"
      ]
     },
     "execution_count": 6,
     "metadata": {},
     "output_type": "execute_result"
    }
   ],
   "source": [
    "df = df.dropna(subset=['Review Text'])\n",
    "df.columns"
   ]
  },
  {
   "cell_type": "code",
   "execution_count": 7,
   "id": "9c830858",
   "metadata": {},
   "outputs": [
    {
     "data": {
      "text/plain": [
       "0"
      ]
     },
     "execution_count": 7,
     "metadata": {},
     "output_type": "execute_result"
    }
   ],
   "source": [
    "num_missing_reviews = df['Review Text'].isna().sum()\n",
    "num_missing_reviews"
   ]
  },
  {
   "cell_type": "code",
   "execution_count": 8,
   "id": "fc5e0192",
   "metadata": {},
   "outputs": [
    {
     "data": {
      "text/plain": [
       "101024"
      ]
     },
     "execution_count": 8,
     "metadata": {},
     "output_type": "execute_result"
    }
   ],
   "source": [
    "num_missing_replies = df['Owner Answer'].isna().sum()\n",
    "num_missing_replies"
   ]
  },
  {
   "cell_type": "code",
   "execution_count": 9,
   "id": "dfda8797",
   "metadata": {},
   "outputs": [
    {
     "data": {
      "text/plain": [
       "0"
      ]
     },
     "execution_count": 9,
     "metadata": {},
     "output_type": "execute_result"
    }
   ],
   "source": [
    "df['Owner Answer'] = df[\"Owner Answer\"].fillna('no answer')\n",
    "num_missing_replies = df['Owner Answer'].isna().sum()\n",
    "num_missing_replies"
   ]
  },
  {
   "cell_type": "code",
   "execution_count": 10,
   "id": "dd49a2ad",
   "metadata": {},
   "outputs": [
    {
     "data": {
      "text/plain": [
       "0"
      ]
     },
     "execution_count": 10,
     "metadata": {},
     "output_type": "execute_result"
    }
   ],
   "source": [
    "df['Owner Answer Date'] = df[\"Owner Answer Date\"].fillna('no date')\n",
    "num_missing_replies = df['Owner Answer Date'].isna().sum()\n",
    "num_missing_replies"
   ]
  },
  {
   "cell_type": "code",
   "execution_count": 11,
   "id": "734ca124",
   "metadata": {},
   "outputs": [
    {
     "data": {
      "text/plain": [
       "0"
      ]
     },
     "execution_count": 11,
     "metadata": {},
     "output_type": "execute_result"
    }
   ],
   "source": [
    "df['Author'] = df[\"Author\"].fillna('anonymous')\n",
    "num_missing_replies = df['Author'].isna().sum()\n",
    "num_missing_replies"
   ]
  },
  {
   "cell_type": "code",
   "execution_count": 12,
   "id": "0f1ba059",
   "metadata": {},
   "outputs": [
    {
     "data": {
      "text/plain": [
       "Unnamed: 0           0\n",
       "Author               0\n",
       "Review Text          0\n",
       "Review Rating        0\n",
       "Date                 0\n",
       "Owner Answer         0\n",
       "Owner Answer Date    0\n",
       "Author Profile       0\n",
       "Author Image         0\n",
       "Review URL           0\n",
       "label                0\n",
       "zip                  0\n",
       "state                0\n",
       "dtype: int64"
      ]
     },
     "execution_count": 12,
     "metadata": {},
     "output_type": "execute_result"
    }
   ],
   "source": [
    "num_missing_vals = df.isna().sum()\n",
    "num_missing_vals"
   ]
  },
  {
   "cell_type": "code",
   "execution_count": 13,
   "id": "9ee3ae27",
   "metadata": {},
   "outputs": [
    {
     "data": {
      "text/plain": [
       "Unnamed: 0.1           int64\n",
       "Unnamed: 0           float64\n",
       "Author                object\n",
       "Review Text           object\n",
       "Review Rating        float64\n",
       "Date                  object\n",
       "Owner Answer          object\n",
       "Owner Answer Date     object\n",
       "Author Profile        object\n",
       "Author Image          object\n",
       "Review URL            object\n",
       "label                 object\n",
       "zip                  float64\n",
       "state                 object\n",
       "dtype: object"
      ]
     },
     "execution_count": 13,
     "metadata": {},
     "output_type": "execute_result"
    }
   ],
   "source": [
    "df.to_csv(\"cleaned_full_df.csv\")\n",
    "df = pd.read_csv(\"cleaned_full_df.csv\")\n",
    "df.dtypes"
   ]
  },
  {
   "cell_type": "code",
   "execution_count": 14,
   "id": "783466a6",
   "metadata": {},
   "outputs": [
    {
     "data": {
      "text/plain": [
       "Index(['Unnamed: 0', 'Author', 'Review Text', 'Review Rating', 'Date',\n",
       "       'Owner Answer', 'Owner Answer Date', 'Author Profile', 'Author Image',\n",
       "       'Review URL', 'label', 'zip', 'state'],\n",
       "      dtype='object')"
      ]
     },
     "execution_count": 14,
     "metadata": {},
     "output_type": "execute_result"
    }
   ],
   "source": [
    "df2 = pd.read_csv(\"new_data.csv\")\n",
    "\n",
    "df2 = df2.drop(columns=[\"spill1\",\"spill2\",\"spill3\",\"spill4\",\"spill5\",\"spill6\",\"spill7\"])\n",
    "df2.columns"
   ]
  },
  {
   "cell_type": "code",
   "execution_count": 15,
   "id": "399542c3",
   "metadata": {},
   "outputs": [
    {
     "data": {
      "text/plain": [
       "Unnamed: 0              0\n",
       "Author                  0\n",
       "Review Text          1185\n",
       "Review Rating           0\n",
       "Date                    0\n",
       "Owner Answer         6377\n",
       "Owner Answer Date    6377\n",
       "Author Profile          0\n",
       "Author Image            0\n",
       "Review URL              0\n",
       "label                   0\n",
       "zip                     0\n",
       "state                   0\n",
       "dtype: int64"
      ]
     },
     "execution_count": 15,
     "metadata": {},
     "output_type": "execute_result"
    }
   ],
   "source": [
    "num_missing_vals = df2.isna().sum()\n",
    "num_missing_vals"
   ]
  },
  {
   "cell_type": "code",
   "execution_count": 16,
   "id": "ca7cc438",
   "metadata": {},
   "outputs": [
    {
     "data": {
      "text/plain": [
       "1185"
      ]
     },
     "execution_count": 16,
     "metadata": {},
     "output_type": "execute_result"
    }
   ],
   "source": [
    "num_missing_reviews = df2['Review Text'].isna().sum()\n",
    "num_missing_reviews"
   ]
  },
  {
   "cell_type": "code",
   "execution_count": 17,
   "id": "83dcc184",
   "metadata": {},
   "outputs": [
    {
     "data": {
      "text/plain": [
       "0"
      ]
     },
     "execution_count": 17,
     "metadata": {},
     "output_type": "execute_result"
    }
   ],
   "source": [
    "df2 = df2.dropna(subset=['Review Text'])\n",
    "num_missing_reviews = df2['Review Text'].isna().sum()\n",
    "num_missing_reviews"
   ]
  },
  {
   "cell_type": "code",
   "execution_count": 18,
   "id": "bc2ad0c7",
   "metadata": {},
   "outputs": [
    {
     "data": {
      "text/plain": [
       "5684"
      ]
     },
     "execution_count": 18,
     "metadata": {},
     "output_type": "execute_result"
    }
   ],
   "source": [
    "num_missing_replies = df2['Owner Answer'].isna().sum()\n",
    "num_missing_replies"
   ]
  },
  {
   "cell_type": "code",
   "execution_count": 19,
   "id": "3fbe155e",
   "metadata": {},
   "outputs": [
    {
     "data": {
      "text/plain": [
       "0"
      ]
     },
     "execution_count": 19,
     "metadata": {},
     "output_type": "execute_result"
    }
   ],
   "source": [
    "df2['Owner Answer'] = df2[\"Owner Answer\"].fillna('no answer')\n",
    "num_missing_replies = df2['Owner Answer'].isna().sum()\n",
    "num_missing_replies"
   ]
  },
  {
   "cell_type": "code",
   "execution_count": 20,
   "id": "e4e84b7b",
   "metadata": {},
   "outputs": [
    {
     "data": {
      "text/plain": [
       "0"
      ]
     },
     "execution_count": 20,
     "metadata": {},
     "output_type": "execute_result"
    }
   ],
   "source": [
    "df2['Owner Answer Date'] = df2[\"Owner Answer Date\"].fillna('no date')\n",
    "num_missing_replies = df2['Owner Answer Date'].isna().sum()\n",
    "num_missing_replies"
   ]
  },
  {
   "cell_type": "code",
   "execution_count": 21,
   "id": "b329ca5f",
   "metadata": {},
   "outputs": [
    {
     "data": {
      "text/plain": [
       "0"
      ]
     },
     "execution_count": 21,
     "metadata": {},
     "output_type": "execute_result"
    }
   ],
   "source": [
    "df2['Author'] = df2[\"Author\"].fillna('anonymous')\n",
    "num_missing_replies = df2['Author'].isna().sum()\n",
    "num_missing_replies"
   ]
  },
  {
   "cell_type": "code",
   "execution_count": 22,
   "id": "08b0cb81",
   "metadata": {},
   "outputs": [
    {
     "data": {
      "text/plain": [
       "Unnamed: 0           0\n",
       "Author               0\n",
       "Review Text          0\n",
       "Review Rating        0\n",
       "Date                 0\n",
       "Owner Answer         0\n",
       "Owner Answer Date    0\n",
       "Author Profile       0\n",
       "Author Image         0\n",
       "Review URL           0\n",
       "label                0\n",
       "zip                  0\n",
       "state                0\n",
       "dtype: int64"
      ]
     },
     "execution_count": 22,
     "metadata": {},
     "output_type": "execute_result"
    }
   ],
   "source": [
    "num_missing_vals = df2.isna().sum()\n",
    "num_missing_vals"
   ]
  },
  {
   "cell_type": "code",
   "execution_count": 23,
   "id": "339916b7",
   "metadata": {},
   "outputs": [
    {
     "data": {
      "text/plain": [
       "Unnamed: 0.1          int64\n",
       "Unnamed: 0            int64\n",
       "Author               object\n",
       "Review Text          object\n",
       "Review Rating         int64\n",
       "Date                 object\n",
       "Owner Answer         object\n",
       "Owner Answer Date    object\n",
       "Author Profile       object\n",
       "Author Image         object\n",
       "Review URL           object\n",
       "label                object\n",
       "zip                   int64\n",
       "state                object\n",
       "dtype: object"
      ]
     },
     "execution_count": 23,
     "metadata": {},
     "output_type": "execute_result"
    }
   ],
   "source": [
    "df2.to_csv(\"cleaned_full_df2.csv\")\n",
    "df2 = pd.read_csv(\"cleaned_full_df2.csv\")\n",
    "df2.dtypes"
   ]
  },
  {
   "cell_type": "code",
   "execution_count": 24,
   "id": "fb852dd4",
   "metadata": {},
   "outputs": [],
   "source": [
    "import numpy as np\n",
    "df['has owner answer'] = np.where(df[\"Owner Answer\"] != \"no answer\", '1', '0')\n",
    "df2['has owner answer'] = np.where(df2[\"Owner Answer\"] != \"no answer\", '1', '0')"
   ]
  },
  {
   "cell_type": "code",
   "execution_count": 25,
   "id": "886eb07d",
   "metadata": {},
   "outputs": [
    {
     "data": {
      "text/plain": [
       "0         1\n",
       "1         1\n",
       "2         1\n",
       "3         1\n",
       "4         1\n",
       "         ..\n",
       "208426    0\n",
       "208427    0\n",
       "208428    0\n",
       "208429    0\n",
       "208430    0\n",
       "Name: has owner answer, Length: 208431, dtype: object"
      ]
     },
     "execution_count": 25,
     "metadata": {},
     "output_type": "execute_result"
    }
   ],
   "source": [
    "df['has owner answer']"
   ]
  },
  {
   "cell_type": "code",
   "execution_count": 26,
   "id": "15313531",
   "metadata": {},
   "outputs": [
    {
     "data": {
      "text/plain": [
       "0        1\n",
       "1        1\n",
       "2        1\n",
       "3        1\n",
       "4        1\n",
       "        ..\n",
       "13964    0\n",
       "13965    0\n",
       "13966    1\n",
       "13967    1\n",
       "13968    0\n",
       "Name: has owner answer, Length: 13969, dtype: object"
      ]
     },
     "execution_count": 26,
     "metadata": {},
     "output_type": "execute_result"
    }
   ],
   "source": [
    "df2['has owner answer']"
   ]
  },
  {
   "cell_type": "code",
   "execution_count": 27,
   "id": "5f2830fb",
   "metadata": {},
   "outputs": [
    {
     "data": {
      "text/plain": [
       "array(['District of Columbia', 'Virginia', 'Maryland', 'Hawaii', 'Alaska',\n",
       "       'California', 'New York', 'Nevada', 'Oregon', 'Pennsylvania',\n",
       "       'Washington', 'Arizona', 'Florida', 'Utah', 'Idaho', 'Montana',\n",
       "       'Colorado', 'New Mexico', 'Texas', 'Oklahoma', 'Kansas',\n",
       "       'Missouri', 'Nebraska', 'South Dakota', 'North Dakota',\n",
       "       'Minnesota', 'Iowa', 'Wisconsin', 'Michigan', 'Alabama', 'Indiana',\n",
       "       'Illinois', 'Arkansas', 'Lousiana', 'Louisiana', 'Mississippi',\n",
       "       'Kentucky', 'Tennessee', 'Georgia', 'South Carolina',\n",
       "       'North Carolina', 'Maine', 'Vermont', 'New Hampshire',\n",
       "       'Massachusetts', 'Rhode Island', 'Connecticut', 'New Jersey',\n",
       "       'Delaware', 'Ohio', 'West Virginia', 'Wyoming'], dtype=object)"
      ]
     },
     "execution_count": 27,
     "metadata": {},
     "output_type": "execute_result"
    }
   ],
   "source": [
    "df['state'].unique()"
   ]
  },
  {
   "cell_type": "code",
   "execution_count": 28,
   "id": "3a05d822",
   "metadata": {},
   "outputs": [
    {
     "data": {
      "text/plain": [
       "state\n",
       "Tennessee               9360\n",
       "New Jersey              8522\n",
       "Pennsylvania            8177\n",
       "South Carolina          7902\n",
       "North Carolina          7308\n",
       "New York                6997\n",
       "Alabama                 6080\n",
       "Georgia                 5949\n",
       "Maryland                5808\n",
       "Kentucky                5737\n",
       "Texas                   5712\n",
       "Missouri                5613\n",
       "Washington              5186\n",
       "Connecticut             5185\n",
       "Ohio                    5135\n",
       "Illinois                4982\n",
       "Michigan                4808\n",
       "Florida                 4793\n",
       "Arkansas                4699\n",
       "Arizona                 4601\n",
       "Nevada                  4545\n",
       "West Virginia           4396\n",
       "California              4098\n",
       "Utah                    4095\n",
       "Wisconsin               3990\n",
       "Massachusetts           3936\n",
       "Mississippi             3843\n",
       "Virginia                3732\n",
       "New Mexico              3633\n",
       "Oregon                  3374\n",
       "Nebraska                3309\n",
       "Idaho                   3288\n",
       "Maine                   2942\n",
       "Wyoming                 2927\n",
       "South Dakota            2916\n",
       "Indiana                 2872\n",
       "Rhode Island            2644\n",
       "Kansas                  2610\n",
       "Iowa                    2559\n",
       "Minnesota               2538\n",
       "District of Columbia    2478\n",
       "Oklahoma                2428\n",
       "Delaware                2341\n",
       "Hawaii                  2234\n",
       "Alaska                  2113\n",
       "Louisiana               1971\n",
       "North Dakota            1252\n",
       "Vermont                 1131\n",
       "Colorado                1000\n",
       "New Hampshire            578\n",
       "Montana                  104\n",
       "Name: count, dtype: int64"
      ]
     },
     "execution_count": 28,
     "metadata": {},
     "output_type": "execute_result"
    }
   ],
   "source": [
    "df.replace('Lousiana','Louisiana',inplace=True)\n",
    "df['state'].value_counts()"
   ]
  },
  {
   "cell_type": "code",
   "execution_count": 29,
   "id": "6f622319",
   "metadata": {},
   "outputs": [
    {
     "data": {
      "text/plain": [
       "array(['California', 'Arizona', 'Montana', 'Oregon', 'Alaska', 'Wyoming',\n",
       "       'New Mexico', 'Colorado'], dtype=object)"
      ]
     },
     "execution_count": 29,
     "metadata": {},
     "output_type": "execute_result"
    }
   ],
   "source": [
    "df2['state'].unique()"
   ]
  },
  {
   "cell_type": "code",
   "execution_count": 30,
   "id": "71d71d8b",
   "metadata": {},
   "outputs": [
    {
     "data": {
      "text/plain": [
       "state\n",
       "Arizona       3864\n",
       "Colorado      3261\n",
       "New Mexico    2952\n",
       "California    1931\n",
       "Montana       1455\n",
       "Oregon         360\n",
       "Wyoming        129\n",
       "Alaska          17\n",
       "Name: count, dtype: int64"
      ]
     },
     "execution_count": 30,
     "metadata": {},
     "output_type": "execute_result"
    }
   ],
   "source": [
    "df2['state'].value_counts()"
   ]
  },
  {
   "cell_type": "code",
   "execution_count": 31,
   "id": "31588b41",
   "metadata": {},
   "outputs": [
    {
     "data": {
      "text/plain": [
       "census region\n",
       "southern     84537\n",
       "west         55167\n",
       "midwest      42584\n",
       "northeast    40112\n",
       "Name: count, dtype: int64"
      ]
     },
     "execution_count": 31,
     "metadata": {},
     "output_type": "execute_result"
    }
   ],
   "source": [
    "df = pd.concat([df,df2],ignore_index=True)\n",
    "\n",
    "df['census region'] = np.where((df['state'] == 'Maine')|(df['state'] == 'New Hampshire')|(df['state'] == 'Vermont')|(df['state'] == 'Massachusetts')|\n",
    "                              (df['state'] == 'Connecticut')|(df['state'] == 'Rhode Island')|(df['state'] == 'New York')|(df['state'] == 'Pennsylvania')|\n",
    "                              (df['state'] == 'New Jersey'),'northeast',np.where((df['state'] == 'Delaware')|(df['state'] == 'Maryland')|(df['state'] == 'District of Columbia')|\n",
    "                              (df['state'] == 'Virginia')|(df['state'] == 'West Virginia')|(df['state'] == 'Kentucky')|(df['state'] == 'Tennessee')|(df['state'] == 'North Carolina')|\n",
    "                              (df['state'] == 'South Carolina')|(df['state'] == 'Georgia')|(df['state'] == 'Florida')|(df['state'] == 'Alabama')|(df['state'] == 'Mississippi')|\n",
    "                              (df['state'] == 'Louisiana')|(df['state'] == 'Oklahoma')|(df['state'] == 'Arkansas')|(df['state'] == 'Texas'),'southern',\n",
    "                              np.where((df['state'] == 'Michigan')|(df['state'] == 'Ohio')|(df['state'] == 'Indiana')|(df['state'] == 'Illinois')|(df['state'] == 'Wisconsin')|\n",
    "                              (df['state'] == 'Missouri')|(df['state'] == 'Iowa')|(df['state'] == 'Minnesota')|(df['state'] == 'North Dakota')|(df['state'] == 'South Dakota')|\n",
    "                              (df['state'] == 'Nebraska')|(df['state'] == 'Kansas'),'midwest',np.where((df['state'] == 'Montana')|(df['state'] == 'Wyoming')|(df['state'] == 'Colorado')|\n",
    "                              (df['state'] == 'New Mexico')|(df['state'] == 'Arizona')|(df['state'] == 'Utah')|(df['state'] == 'Idaho')|(df['state'] == 'Nevada')|(df['state'] == 'Washington')|\n",
    "                              (df['state'] == 'Oregon')|(df['state'] == 'California')|(df['state'] == 'Alaska')|(df['state'] == 'Hawaii'),'west','?'))))\n",
    "\n",
    "df['census region'].value_counts()"
   ]
  },
  {
   "cell_type": "code",
   "execution_count": 32,
   "id": "d550c40e",
   "metadata": {},
   "outputs": [
    {
     "data": {
      "text/plain": [
       "Author                object\n",
       "Review Text           object\n",
       "Review Rating        float64\n",
       "Date                  object\n",
       "Owner Answer          object\n",
       "Owner Answer Date     object\n",
       "Author Profile        object\n",
       "Author Image          object\n",
       "Review URL            object\n",
       "label                 object\n",
       "zip                  float64\n",
       "state                 object\n",
       "has owner answer      object\n",
       "census region         object\n",
       "dtype: object"
      ]
     },
     "execution_count": 32,
     "metadata": {},
     "output_type": "execute_result"
    }
   ],
   "source": [
    "df = df.drop(columns='Unnamed: 0')\n",
    "df = df.drop(columns='Unnamed: 0.1')\n",
    "df.dtypes"
   ]
  },
  {
   "cell_type": "code",
   "execution_count": 33,
   "id": "2f9cf1e6",
   "metadata": {},
   "outputs": [
    {
     "data": {
      "text/plain": [
       "0"
      ]
     },
     "execution_count": 33,
     "metadata": {},
     "output_type": "execute_result"
    }
   ],
   "source": [
    "df['Author'] = df[\"Author\"].replace({\"#NAME?\":\"anonymous\"})\n",
    "num_missing_replies = df['Author'].isna().sum()\n",
    "num_missing_replies"
   ]
  },
  {
   "cell_type": "code",
   "execution_count": 34,
   "id": "44888074",
   "metadata": {},
   "outputs": [
    {
     "name": "stdout",
     "output_type": "stream",
     "text": [
      "                                              Review Text  \\\n",
      "20898   \"Best hospital in the state\" Somehow my MRI is...   \n",
      "25353   \"Best hospital in the state\" Somehow my MRI is...   \n",
      "21731   \"Capital’s unlawful collections practices prev...   \n",
      "24370   \"Capital’s unlawful collections practices prev...   \n",
      "216971  \"Not the Patient\", My sister was admitted on 1...   \n",
      "...                                                   ...   \n",
      "153207                                                  👍   \n",
      "21853   😁👍👍👍 good   nice nurse and doctors  good  bles...   \n",
      "24966   😁👍👍👍 good   nice nurse and doctors  good  bles...   \n",
      "40928   🤬😡01/02/2019 WHY BE IN THIS FEILD IF YOU'RE GO...   \n",
      "217022  🤬😡01/02/2019 WHY BE IN THIS FEILD IF YOU'RE GO...   \n",
      "\n",
      "                                           Author Profile  \n",
      "20898   https://www.google.com/maps/contrib/1082131836...  \n",
      "25353   https://www.google.com/maps/contrib/1082131836...  \n",
      "21731   https://www.google.com/maps/contrib/1137279277...  \n",
      "24370   https://www.google.com/maps/contrib/1137279277...  \n",
      "216971  https://www.google.com/maps/contrib/1007726409...  \n",
      "...                                                   ...  \n",
      "153207  https://www.google.com/maps/contrib/1048326174...  \n",
      "21853   https://www.google.com/maps/contrib/1172655352...  \n",
      "24966   https://www.google.com/maps/contrib/1172655352...  \n",
      "40928   https://www.google.com/maps/contrib/1049841758...  \n",
      "217022  https://www.google.com/maps/contrib/1049841758...  \n",
      "\n",
      "[13770 rows x 2 columns]\n",
      "Empty DataFrame\n",
      "Columns: [Review Text, Author Profile]\n",
      "Index: []\n"
     ]
    }
   ],
   "source": [
    "def dupe_detection(column1, column2):\n",
    "    dupes = df.duplicated(subset = column1, keep = False)\n",
    "    duped_reviews = df[dupes].sort_values(by = column1)\n",
    "    print(duped_reviews[[column1,column2]])\n",
    "\n",
    "dupe_detection('Review Text','Author Profile')\n",
    "df = df.drop_duplicates(subset=['Review Text'])\n",
    "dupe_detection('Review Text','Author Profile')\n",
    "\n",
    "df.to_csv(\"cleaned_full_df_with_census_regions.csv\")"
   ]
  },
  {
   "cell_type": "code",
   "execution_count": 35,
   "id": "af637781",
   "metadata": {},
   "outputs": [
    {
     "data": {
      "image/png": "[encoded data removed]",
      "text/plain": [
       "<Figure size 640x480 with 1 Axes>"
      ]
     },
     "metadata": {},
     "output_type": "display_data"
    }
   ],
   "source": [
    "import matplotlib.pyplot as plt\n",
    "\n",
    "x = df['label']\n",
    "values, bins, bars = plt.hist(x)\n",
    "plt.xlabel('label')\n",
    "plt.bar_label(bars, fontsize=10)\n",
    "plt.show()"
   ]
  },
  {
   "cell_type": "code",
   "execution_count": 36,
   "id": "bd288b10",
   "metadata": {},
   "outputs": [
    {
     "data": {
      "text/plain": [
       "census region\n",
       "southern    83476\n",
       "west        51483\n",
       "Name: count, dtype: int64"
      ]
     },
     "execution_count": 36,
     "metadata": {},
     "output_type": "execute_result"
    }
   ],
   "source": [
    "cols_to_drop = df[(df['census region'] == 'northeast') | (df['census region'] == 'midwest')].index\n",
    "df.drop(cols_to_drop, inplace=True)\n",
    "\n",
    "df['census region'].value_counts()"
   ]
  },
  {
   "cell_type": "code",
   "execution_count": 37,
   "id": "3599763e",
   "metadata": {},
   "outputs": [],
   "source": [
    "import scipy.stats as stats\n",
    "#alpha = 0.05\n",
    "\n",
    "#region_v_label = pd.crosstab(df['census region'],df['label'],margins=True)\n",
    "#chi2, p_value, degrees_of_freedom, expected_values = stats.chi2_contingency(region_v_label)\n",
    "\n",
    "#if p_value < alpha:\n",
    "    #print(\"Significance Found\")\n",
    "\n",
    "#print(p_value)"
   ]
  },
  {
   "cell_type": "code",
   "execution_count": 38,
   "id": "605760d7",
   "metadata": {},
   "outputs": [],
   "source": [
    "#region_v_answer = pd.crosstab(df['census region'],df['has owner answer'],margins=True)\n",
    "#chi2, p_value, degrees_of_freedom, expected_values = stats.chi2_contingency(region_v_answer)\n",
    "\n",
    "#if p_value < alpha:\n",
    "    #print(\"Significance Found\")\n",
    "\n",
    "#print(p_value)"
   ]
  },
  {
   "cell_type": "code",
   "execution_count": 39,
   "id": "75b0d9a2",
   "metadata": {},
   "outputs": [],
   "source": [
    "#label_v_answer = pd.crosstab(df['label'],df['has owner answer'],margins=True)\n",
    "#chi2, p_value, degrees_of_freedom, expected_values = stats.chi2_contingency(label_v_answer)\n",
    "\n",
    "#if p_value < alpha:\n",
    "    #print(\"Significance Found\")\n",
    "\n",
    "#print(p_value)"
   ]
  },
  {
   "cell_type": "code",
   "execution_count": 40,
   "id": "e5540d49",
   "metadata": {},
   "outputs": [],
   "source": [
    "#three_way_contingency = pd.crosstab([df['census region'],df['label']],df['has owner answer'],margins=True)\n",
    "#three_way_contingency"
   ]
  },
  {
   "cell_type": "code",
   "execution_count": 41,
   "id": "df16246d",
   "metadata": {},
   "outputs": [],
   "source": [
    "#alpha = 0.05\n",
    "\n",
    "#chi2, p_value, degrees_of_freedom, expected_values = stats.chi2_contingency(three_way_contingency)\n",
    "\n",
    "#if p_value < alpha:\n",
    "    #print(\"Significance Found\")\n",
    "\n",
    "#print(p_value)"
   ]
  },
  {
   "cell_type": "code",
   "execution_count": 42,
   "id": "76792cab",
   "metadata": {},
   "outputs": [],
   "source": [
    "#pd.crosstab(df['census region'],df['label'],margins=True)"
   ]
  },
  {
   "cell_type": "code",
   "execution_count": 43,
   "id": "7e285a0d",
   "metadata": {},
   "outputs": [],
   "source": [
    "#pd.crosstab(df['census region'],df['label'],margins=True,normalize='all')"
   ]
  },
  {
   "cell_type": "code",
   "execution_count": 44,
   "id": "373c8960",
   "metadata": {},
   "outputs": [],
   "source": [
    "#pd.crosstab(df['census region'],df['label'],margins=True,normalize='columns')"
   ]
  },
  {
   "cell_type": "code",
   "execution_count": 45,
   "id": "124acfd7",
   "metadata": {},
   "outputs": [],
   "source": [
    "#pd.crosstab(df['census region'],df['label'],margins=True,normalize='index')"
   ]
  },
  {
   "cell_type": "code",
   "execution_count": 46,
   "id": "f6ca1ad8",
   "metadata": {},
   "outputs": [],
   "source": [
    "#pd.crosstab(df['label'],df['has owner answer'],margins=True)"
   ]
  },
  {
   "cell_type": "code",
   "execution_count": 47,
   "id": "41ceac21",
   "metadata": {},
   "outputs": [],
   "source": [
    "#pd.crosstab(df['label'],df['has owner answer'],margins=True, normalize='all')"
   ]
  },
  {
   "cell_type": "code",
   "execution_count": 48,
   "id": "b64a40c0",
   "metadata": {},
   "outputs": [],
   "source": [
    "#pd.crosstab(df['label'],df['has owner answer'],margins=True,normalize='columns')"
   ]
  },
  {
   "cell_type": "code",
   "execution_count": 49,
   "id": "96086f07",
   "metadata": {},
   "outputs": [],
   "source": [
    "#pd.crosstab(df['label'],df['has owner answer'],margins=True,normalize='index')"
   ]
  },
  {
   "cell_type": "code",
   "execution_count": 50,
   "id": "e51c9fb2",
   "metadata": {},
   "outputs": [],
   "source": [
    "#pd.crosstab([df['census region'],df['label']],df['has owner answer'],margins=True)"
   ]
  },
  {
   "cell_type": "code",
   "execution_count": 51,
   "id": "d8b11f5a",
   "metadata": {},
   "outputs": [],
   "source": [
    "#pd.crosstab([df['census region'],df['label']],df['has owner answer'],margins=True, normalize='all')"
   ]
  },
  {
   "cell_type": "code",
   "execution_count": 52,
   "id": "09613ade",
   "metadata": {},
   "outputs": [],
   "source": [
    "#pd.crosstab([df['census region'],df['label']],df['has owner answer'],margins=True, normalize='index')"
   ]
  },
  {
   "cell_type": "code",
   "execution_count": 53,
   "id": "ccb0ea2c",
   "metadata": {},
   "outputs": [],
   "source": [
    "#pd.crosstab([df['census region'],df['label']],df['has owner answer'],margins=True, normalize='columns')"
   ]
  },
  {
   "cell_type": "code",
   "execution_count": 54,
   "id": "afad6c4f",
   "metadata": {},
   "outputs": [
    {
     "data": {
      "text/plain": [
       "0    MedStar Navy Yard is my new go-to for urgent h...\n",
       "1    Dr. Kalra is a very good Doctor. He's all abou...\n",
       "2    Dr. Janelle Leuschen is knowledgeable, patient...\n",
       "3    Very efficient operation - making an appointme...\n",
       "4    Everything from check in to Dr. visit to lab w...\n",
       "Name: cleaned text, dtype: object"
      ]
     },
     "execution_count": 54,
     "metadata": {},
     "output_type": "execute_result"
    }
   ],
   "source": [
    "import demoji\n",
    "import re\n",
    "\n",
    "def remove_emoji(string):\n",
    "    return demoji.replace(string, '')\n",
    "\n",
    "def remove_extra_spaces(string):\n",
    "    return re.sub(r'\\s{2,}',' ',str(string))\n",
    "\n",
    "df['cleaned text'] = df['Review Text'].apply(remove_emoji)\n",
    "df['cleaned text'] = df['cleaned text'].apply(remove_extra_spaces)\n",
    "\n",
    "df['cleaned text'].head()\n"
   ]
  },
  {
   "cell_type": "code",
   "execution_count": 55,
   "id": "2cf63526",
   "metadata": {},
   "outputs": [
    {
     "name": "stderr",
     "output_type": "stream",
     "text": [
      "[nltk_data] Downloading package punkt to\n",
      "[nltk_data]     C:\\Users\\charlesrowe\\AppData\\Roaming\\nltk_data...\n",
      "[nltk_data]   Package punkt is already up-to-date!\n",
      "[nltk_data] Downloading package punkt_tab to\n",
      "[nltk_data]     C:\\Users\\charlesrowe\\AppData\\Roaming\\nltk_data...\n",
      "[nltk_data]   Package punkt_tab is already up-to-date!\n",
      "[nltk_data] Downloading package stopwords to\n",
      "[nltk_data]     C:\\Users\\charlesrowe\\AppData\\Roaming\\nltk_data...\n",
      "[nltk_data]   Package stopwords is already up-to-date!\n",
      "[nltk_data] Downloading package wordnet to\n",
      "[nltk_data]     C:\\Users\\charlesrowe\\AppData\\Roaming\\nltk_data...\n",
      "[nltk_data]   Package wordnet is already up-to-date!\n"
     ]
    }
   ],
   "source": [
    "'''\n",
    "Uses code from Ednalyn C. De Dios (2022)\n",
    "https://github.com/ecdedios/d213-advanced-data-analytics/blob/main/task2/notebooks/D213%20Performance%20Assessment%20Task%202%20(Rev.%200)-Copy2.ipynb\n",
    "and\n",
    "William J. Townsend (2022)\n",
    "https://github.com/WJTownsend/WGU_Portfolio/blob/main/D213/d213task2.ipynb\n",
    "and\n",
    "Charles G. Rowe (2025)\n",
    "https://github.com/CGRowe96/WGU_MSDA/blob/main/D213/Task%202/D213-Task2.ipynb\n",
    "'''\n",
    "\n",
    "import nltk\n",
    "import string\n",
    "import unicodedata\n",
    "import nltk.corpus\n",
    "nltk.download('punkt')\n",
    "nltk.download('punkt_tab')\n",
    "nltk.download('stopwords')\n",
    "nltk.download('wordnet')\n",
    "\n",
    "def clean_sentence(sentence):\n",
    "    stops = nltk.corpus.stopwords.words('english') + list(string.punctuation) + ['...',' - ', 'ca', 'wo', \"'s\", \"'ing\",\"'ll\", \"'re\"]\n",
    "    negation = ['but', 'not', \"don't\", \"aren't\", \"couldn't\", \"doesn't\", \"hadn't\", \"hasn't\", \"haven't\", \n",
    "                  \"isn't\", \"shouldn't\", \"wouldn't\"]\n",
    "    for word in negation:\n",
    "        stops.remove(word)\n",
    "    sentence = (unicodedata.normalize('NFKD', sentence)\n",
    "        .encode('ascii', 'ignore')\n",
    "        .decode('utf-8', 'ignore')\n",
    "        .lower())\n",
    "    words = re.sub(r'[^\\w\\s]', '', sentence).split()\n",
    "    word_list = [word for word in words if word not in stops]\n",
    "    return word_list\n",
    "\n",
    "def get_words(df, column):\n",
    "    return clean_sentence(''.join(str(df[column].tolist())))"
   ]
  },
  {
   "cell_type": "code",
   "execution_count": 56,
   "id": "5d664103",
   "metadata": {},
   "outputs": [],
   "source": [
    "#mask = df['census region'] == 'southern'\n",
    "#south_df = df[mask]\n",
    "#south_df"
   ]
  },
  {
   "cell_type": "code",
   "execution_count": 57,
   "id": "7ef7e524",
   "metadata": {},
   "outputs": [],
   "source": [
    "#west_df = df[~mask]\n",
    "#west_df"
   ]
  },
  {
   "cell_type": "code",
   "execution_count": 58,
   "id": "3a816489",
   "metadata": {},
   "outputs": [
    {
     "data": {
      "text/plain": [
       "\"all_words = get_words(df, 'cleaned text')\\nall_freq = pd.Series(all_words).value_counts()\\nvocab_size = len(all_freq)\\n\\nprint('Vocabulary size: ' + str(vocab_size))\""
      ]
     },
     "execution_count": 58,
     "metadata": {},
     "output_type": "execute_result"
    }
   ],
   "source": [
    "'''all_words = get_words(df, 'cleaned text')\n",
    "all_freq = pd.Series(all_words).value_counts()\n",
    "vocab_size = len(all_freq)\n",
    "\n",
    "print('Vocabulary size: ' + str(vocab_size))'''"
   ]
  },
  {
   "cell_type": "code",
   "execution_count": 59,
   "id": "84131217",
   "metadata": {},
   "outputs": [
    {
     "data": {
      "text/plain": [
       "\"pos_mask = df['label'] == 'positive'\\nneg_mask = df['label'] == 'negative'\\nneu_mask = df['label'] == 'neutral'\\n\\nall_pos_words = df[pos_mask]\\nall_neg_words = df[neg_mask]\\nall_neu_words = df[neu_mask]\\n\\na_pos_word_list = get_words(all_pos_words, 'cleaned text')\\na_neg_word_list = get_words(all_neg_words, 'cleaned text')\\na_neu_word_list = get_words(all_neu_words, 'cleaned text')\\n\\na_pos_word_freq = pd.Series(a_pos_word_list).value_counts()\\na_neg_word_freq = pd.Series(a_neg_word_list).value_counts()\\na_neu_word_freq = pd.Series(a_neu_word_list).value_counts()\\n\\nword_counts_df = (pd.concat([all_freq, a_pos_word_freq, a_neg_word_freq, a_neu_word_freq],\\n                            axis=1, sort=True).set_axis(['all','pos','neg','neu'], axis=1)\\n                            .apply(lambda s: s.astype(str)))\\n\\nword_counts_df.fillna(0)\\nword_counts_df.sort_values(by='all', ascending=False).head(10)\""
      ]
     },
     "execution_count": 59,
     "metadata": {},
     "output_type": "execute_result"
    }
   ],
   "source": [
    "'''pos_mask = df['label'] == 'positive'\n",
    "neg_mask = df['label'] == 'negative'\n",
    "neu_mask = df['label'] == 'neutral'\n",
    "\n",
    "all_pos_words = df[pos_mask]\n",
    "all_neg_words = df[neg_mask]\n",
    "all_neu_words = df[neu_mask]\n",
    "\n",
    "a_pos_word_list = get_words(all_pos_words, 'cleaned text')\n",
    "a_neg_word_list = get_words(all_neg_words, 'cleaned text')\n",
    "a_neu_word_list = get_words(all_neu_words, 'cleaned text')\n",
    "\n",
    "a_pos_word_freq = pd.Series(a_pos_word_list).value_counts()\n",
    "a_neg_word_freq = pd.Series(a_neg_word_list).value_counts()\n",
    "a_neu_word_freq = pd.Series(a_neu_word_list).value_counts()\n",
    "\n",
    "word_counts_df = (pd.concat([all_freq, a_pos_word_freq, a_neg_word_freq, a_neu_word_freq],\n",
    "                            axis=1, sort=True).set_axis(['all','pos','neg','neu'], axis=1)\n",
    "                            .apply(lambda s: s.astype(str)))\n",
    "\n",
    "word_counts_df.fillna(0)\n",
    "word_counts_df.sort_values(by='all', ascending=False).head(10)'''"
   ]
  },
  {
   "cell_type": "code",
   "execution_count": 60,
   "id": "b74467b7",
   "metadata": {},
   "outputs": [
    {
     "data": {
      "text/plain": [
       "\"all_words_south = get_words(south_df, 'cleaned text')\\nall_freq_south = pd.Series(all_words_south).value_counts()\\nvocab_size_south = len(all_freq_south)\\n\\nprint('Vocabulary size: ' + str(vocab_size_south))\""
      ]
     },
     "execution_count": 60,
     "metadata": {},
     "output_type": "execute_result"
    }
   ],
   "source": [
    "'''all_words_south = get_words(south_df, 'cleaned text')\n",
    "all_freq_south = pd.Series(all_words_south).value_counts()\n",
    "vocab_size_south = len(all_freq_south)\n",
    "\n",
    "print('Vocabulary size: ' + str(vocab_size_south))'''"
   ]
  },
  {
   "cell_type": "code",
   "execution_count": 61,
   "id": "e4069097",
   "metadata": {},
   "outputs": [
    {
     "data": {
      "text/plain": [
       "\"pos_mask = south_df['label'] == 'positive'\\nneg_mask = south_df['label'] == 'negative'\\nneu_mask = south_df['label'] == 'neutral'\\n\\nsouth_pos_words = south_df[pos_mask]\\nsouth_neg_words = south_df[neg_mask]\\nsouth_neu_words = south_df[neu_mask]\\n\\ns_pos_word_list = get_words(south_pos_words, 'cleaned text')\\ns_neg_word_list = get_words(south_neg_words, 'cleaned text')\\ns_neu_word_list = get_words(south_neu_words, 'cleaned text')\\n\\ns_pos_word_freq = pd.Series(s_pos_word_list).value_counts()\\ns_neg_word_freq = pd.Series(s_neg_word_list).value_counts()\\ns_neu_word_freq = pd.Series(s_neu_word_list).value_counts()\\n\\nword_counts_df = (pd.concat([all_freq_south, s_pos_word_freq, s_neg_word_freq, s_neu_word_freq],\\n                            axis=1, sort=True).set_axis(['all','pos','neg','neu'], axis=1)\\n                            .apply(lambda s: s.astype(str)))\\n\\nword_counts_df.fillna(0)\\nword_counts_df.sort_values(by='all', ascending=False).head(10)\""
      ]
     },
     "execution_count": 61,
     "metadata": {},
     "output_type": "execute_result"
    }
   ],
   "source": [
    "'''pos_mask = south_df['label'] == 'positive'\n",
    "neg_mask = south_df['label'] == 'negative'\n",
    "neu_mask = south_df['label'] == 'neutral'\n",
    "\n",
    "south_pos_words = south_df[pos_mask]\n",
    "south_neg_words = south_df[neg_mask]\n",
    "south_neu_words = south_df[neu_mask]\n",
    "\n",
    "s_pos_word_list = get_words(south_pos_words, 'cleaned text')\n",
    "s_neg_word_list = get_words(south_neg_words, 'cleaned text')\n",
    "s_neu_word_list = get_words(south_neu_words, 'cleaned text')\n",
    "\n",
    "s_pos_word_freq = pd.Series(s_pos_word_list).value_counts()\n",
    "s_neg_word_freq = pd.Series(s_neg_word_list).value_counts()\n",
    "s_neu_word_freq = pd.Series(s_neu_word_list).value_counts()\n",
    "\n",
    "word_counts_df = (pd.concat([all_freq_south, s_pos_word_freq, s_neg_word_freq, s_neu_word_freq],\n",
    "                            axis=1, sort=True).set_axis(['all','pos','neg','neu'], axis=1)\n",
    "                            .apply(lambda s: s.astype(str)))\n",
    "\n",
    "word_counts_df.fillna(0)\n",
    "word_counts_df.sort_values(by='all', ascending=False).head(10)'''"
   ]
  },
  {
   "cell_type": "code",
   "execution_count": 62,
   "id": "872ada08",
   "metadata": {},
   "outputs": [
    {
     "data": {
      "text/plain": [
       "\"all_words_west = get_words(west_df, 'cleaned text')\\nall_freq_west = pd.Series(all_words_west).value_counts()\\nvocab_size_west = len(all_freq_west)\\n\\nprint('Vocabulary size: ' + str(vocab_size_west))\""
      ]
     },
     "execution_count": 62,
     "metadata": {},
     "output_type": "execute_result"
    }
   ],
   "source": [
    "'''all_words_west = get_words(west_df, 'cleaned text')\n",
    "all_freq_west = pd.Series(all_words_west).value_counts()\n",
    "vocab_size_west = len(all_freq_west)\n",
    "\n",
    "print('Vocabulary size: ' + str(vocab_size_west))'''"
   ]
  },
  {
   "cell_type": "code",
   "execution_count": 63,
   "id": "ee367429",
   "metadata": {},
   "outputs": [
    {
     "data": {
      "text/plain": [
       "\"pos_mask = west_df['label'] == 'positive'\\nneg_mask = west_df['label'] == 'negative'\\nneu_mask = west_df['label'] == 'neutral'\\n\\nwest_pos_words = west_df[pos_mask]\\nwest_neg_words = west_df[neg_mask]\\nwest_neu_words = west_df[neu_mask]\\n\\nw_pos_word_list = get_words(west_pos_words, 'cleaned text')\\nw_neg_word_list = get_words(west_neg_words, 'cleaned text')\\nw_neu_word_list = get_words(west_neu_words, 'cleaned text')\\n\\nw_pos_word_freq = pd.Series(w_pos_word_list).value_counts()\\nw_neg_word_freq = pd.Series(w_neg_word_list).value_counts()\\nw_neu_word_freq = pd.Series(w_neu_word_list).value_counts()\\n\\nword_counts_df = (pd.concat([all_freq_west, w_pos_word_freq, w_neg_word_freq, w_neu_word_freq],\\n                            axis=1, sort=True).set_axis(['all','pos','neg','neu'], axis=1)\\n                            .apply(lambda s: s.astype(str)))\\n\\nword_counts_df.fillna(0)\\nword_counts_df.sort_values(by='all', ascending=False).head(10)\""
      ]
     },
     "execution_count": 63,
     "metadata": {},
     "output_type": "execute_result"
    }
   ],
   "source": [
    "'''pos_mask = west_df['label'] == 'positive'\n",
    "neg_mask = west_df['label'] == 'negative'\n",
    "neu_mask = west_df['label'] == 'neutral'\n",
    "\n",
    "west_pos_words = west_df[pos_mask]\n",
    "west_neg_words = west_df[neg_mask]\n",
    "west_neu_words = west_df[neu_mask]\n",
    "\n",
    "w_pos_word_list = get_words(west_pos_words, 'cleaned text')\n",
    "w_neg_word_list = get_words(west_neg_words, 'cleaned text')\n",
    "w_neu_word_list = get_words(west_neu_words, 'cleaned text')\n",
    "\n",
    "w_pos_word_freq = pd.Series(w_pos_word_list).value_counts()\n",
    "w_neg_word_freq = pd.Series(w_neg_word_list).value_counts()\n",
    "w_neu_word_freq = pd.Series(w_neu_word_list).value_counts()\n",
    "\n",
    "word_counts_df = (pd.concat([all_freq_west, w_pos_word_freq, w_neg_word_freq, w_neu_word_freq],\n",
    "                            axis=1, sort=True).set_axis(['all','pos','neg','neu'], axis=1)\n",
    "                            .apply(lambda s: s.astype(str)))\n",
    "\n",
    "word_counts_df.fillna(0)\n",
    "word_counts_df.sort_values(by='all', ascending=False).head(10)'''"
   ]
  },
  {
   "cell_type": "code",
   "execution_count": 64,
   "id": "47a7cf81",
   "metadata": {},
   "outputs": [
    {
     "data": {
      "text/plain": [
       "\"def get_bigrams(words):\\n    return (pd.Series(nltk.ngrams(words, 2)).value_counts())[:20]\\n\\ndef get_trigrams(words):\\n    return (pd.Series(nltk.ngrams(words, 3)).value_counts())[:20]\\n\\ndef get_qualgrams(words):\\n    return (pd.Series(nltk.ngrams(words, 4)).value_counts())[:20]\\n\\ndef viz_bigrams(df, column, title):\\n    get_bigrams(get_words(df,column)).sort_values().plot.barh(color='blue', width=.9, figsize=(12, 8))\\n\\n    plt.title(title)\\n    plt.ylabel('Bigram')\\n    plt.xlabel('# Occurances')\\n\\ndef viz_trigrams(df, column, title):\\n    get_trigrams(get_words(df,column)).sort_values().plot.barh(color='blue', width=.9, figsize=(12, 8))\\n\\n    plt.title(title)\\n    plt.ylabel('Trigram')\\n    plt.xlabel('# Occurances')\\n\\ndef viz_qualgrams(df, column, title):\\n    get_qualgrams(get_words(df,column)).sort_values().plot.barh(color='blue', width=.9, figsize=(12, 8))\\n\\n    plt.title(title)\\n    plt.ylabel('Qualgram')\\n    plt.xlabel('# Occurances')\""
      ]
     },
     "execution_count": 64,
     "metadata": {},
     "output_type": "execute_result"
    }
   ],
   "source": [
    "'''\n",
    "Uses code from Ednalyn C. De Dios (2022)\n",
    "https://github.com/ecdedios/d213-advanced-data-analytics/blob/main/task2/notebooks/D213%20Performance%20Assessment%20Task%202%20(Rev.%200)-Copy2.ipynb\n",
    "'''\n",
    "\n",
    "'''def get_bigrams(words):\n",
    "    return (pd.Series(nltk.ngrams(words, 2)).value_counts())[:20]\n",
    "\n",
    "def get_trigrams(words):\n",
    "    return (pd.Series(nltk.ngrams(words, 3)).value_counts())[:20]\n",
    "\n",
    "def get_qualgrams(words):\n",
    "    return (pd.Series(nltk.ngrams(words, 4)).value_counts())[:20]\n",
    "\n",
    "def viz_bigrams(df, column, title):\n",
    "    get_bigrams(get_words(df,column)).sort_values().plot.barh(color='blue', width=.9, figsize=(12, 8))\n",
    "\n",
    "    plt.title(title)\n",
    "    plt.ylabel('Bigram')\n",
    "    plt.xlabel('# Occurances')\n",
    "\n",
    "def viz_trigrams(df, column, title):\n",
    "    get_trigrams(get_words(df,column)).sort_values().plot.barh(color='blue', width=.9, figsize=(12, 8))\n",
    "\n",
    "    plt.title(title)\n",
    "    plt.ylabel('Trigram')\n",
    "    plt.xlabel('# Occurances')\n",
    "    \n",
    "def viz_qualgrams(df, column, title):\n",
    "    get_qualgrams(get_words(df,column)).sort_values().plot.barh(color='blue', width=.9, figsize=(12, 8))\n",
    "\n",
    "    plt.title(title)\n",
    "    plt.ylabel('Qualgram')\n",
    "    plt.xlabel('# Occurances')'''"
   ]
  },
  {
   "cell_type": "code",
   "execution_count": 65,
   "id": "b2c196ee",
   "metadata": {},
   "outputs": [],
   "source": [
    "#viz_bigrams(df,'cleaned text','Most Frequent Bigrams (All)')"
   ]
  },
  {
   "cell_type": "code",
   "execution_count": 66,
   "id": "e01c3b9d",
   "metadata": {},
   "outputs": [],
   "source": [
    "#viz_trigrams(df,'cleaned text','Most Frequent Trigrams (All)')"
   ]
  },
  {
   "cell_type": "code",
   "execution_count": 67,
   "id": "85380438",
   "metadata": {},
   "outputs": [],
   "source": [
    "#viz_qualgrams(df,'cleaned text','Most Frequent Qualgrams (All)')"
   ]
  },
  {
   "cell_type": "code",
   "execution_count": 68,
   "id": "af71a2df",
   "metadata": {},
   "outputs": [],
   "source": [
    "#viz_bigrams(south_df,'cleaned text','Most Frequent Bigrams (South)')"
   ]
  },
  {
   "cell_type": "code",
   "execution_count": 69,
   "id": "c0fca8b8",
   "metadata": {},
   "outputs": [],
   "source": [
    "#viz_trigrams(south_df,'cleaned text','Most Frequent Trigrams (South)')"
   ]
  },
  {
   "cell_type": "code",
   "execution_count": 70,
   "id": "a44b583d",
   "metadata": {},
   "outputs": [],
   "source": [
    "#viz_qualgrams(south_df,'cleaned text','Most Frequent Qualgrams (South)')"
   ]
  },
  {
   "cell_type": "code",
   "execution_count": 71,
   "id": "2688f372",
   "metadata": {},
   "outputs": [],
   "source": [
    "#viz_bigrams(west_df,'cleaned text','Most Frequent Bigrams (West)')"
   ]
  },
  {
   "cell_type": "code",
   "execution_count": 72,
   "id": "7a99ee11",
   "metadata": {},
   "outputs": [],
   "source": [
    "#viz_trigrams(west_df,'cleaned text','Most Frequent Trigrams (West)')"
   ]
  },
  {
   "cell_type": "code",
   "execution_count": 73,
   "id": "dc6a0a55",
   "metadata": {},
   "outputs": [],
   "source": [
    "#viz_qualgrams(west_df,'cleaned text','Most Frequent Qualgrams (West)')"
   ]
  },
  {
   "cell_type": "code",
   "execution_count": 74,
   "id": "d62305ff",
   "metadata": {},
   "outputs": [
    {
     "data": {
      "text/plain": [
       "'from nltk.collocations import BigramCollocationFinder\\nfrom nltk.metrics import BigramAssocMeasures\\nfrom nltk.collocations import TrigramCollocationFinder\\nfrom nltk.metrics import TrigramAssocMeasures\\n\\nstopset = nltk.corpus.stopwords.words(\\'english\\') + list(string.punctuation) + [\\'...\\',\\' - \\', \\'ca\\', \\'wo\\', \"\\'s\", \"\\'ing\",\"\\'ll\", \"\\'re\"]\\nfilter_stops = lambda w: len(w) < 3 or w in stopset\\n\\ndef get_bi_collocations(list):\\n    list_col = [a.lower() for a in list]\\n    biagram_collocation = BigramCollocationFinder.from_words(list_col)\\n    biagram_collocation.apply_word_filter(filter_stops)\\n    biagram_collocation.apply_freq_filter(3)\\n    return biagram_collocation.nbest(BigramAssocMeasures.likelihood_ratio, 15)\\n\\ndef get_tri_collocation(list):\\n    list_col = [a.lower() for a in list]\\n    trigram_collocation = TrigramCollocationFinder.from_words(list_col)\\n    trigram_collocation.apply_word_filter(filter_stops)\\n    trigram_collocation.apply_freq_filter(3)\\n    return trigram_collocation.nbest(TrigramAssocMeasures.likelihood_ratio, 15)'"
      ]
     },
     "execution_count": 74,
     "metadata": {},
     "output_type": "execute_result"
    }
   ],
   "source": [
    "'''\n",
    "Uses code from GeekForGeeks (2022)\n",
    "https://www.geeksforgeeks.org/nlp-word-collocations/\n",
    "'''\n",
    "\n",
    "'''from nltk.collocations import BigramCollocationFinder\n",
    "from nltk.metrics import BigramAssocMeasures\n",
    "from nltk.collocations import TrigramCollocationFinder\n",
    "from nltk.metrics import TrigramAssocMeasures\n",
    "\n",
    "stopset = nltk.corpus.stopwords.words('english') + list(string.punctuation) + ['...',' - ', 'ca', 'wo', \"'s\", \"'ing\",\"'ll\", \"'re\"]\n",
    "filter_stops = lambda w: len(w) < 3 or w in stopset\n",
    "\n",
    "def get_bi_collocations(list):\n",
    "    list_col = [a.lower() for a in list]\n",
    "    biagram_collocation = BigramCollocationFinder.from_words(list_col)\n",
    "    biagram_collocation.apply_word_filter(filter_stops)\n",
    "    biagram_collocation.apply_freq_filter(3)\n",
    "    return biagram_collocation.nbest(BigramAssocMeasures.likelihood_ratio, 15)\n",
    "\n",
    "def get_tri_collocation(list):\n",
    "    list_col = [a.lower() for a in list]\n",
    "    trigram_collocation = TrigramCollocationFinder.from_words(list_col)\n",
    "    trigram_collocation.apply_word_filter(filter_stops)\n",
    "    trigram_collocation.apply_freq_filter(3)\n",
    "    return trigram_collocation.nbest(TrigramAssocMeasures.likelihood_ratio, 15)'''"
   ]
  },
  {
   "cell_type": "code",
   "execution_count": 75,
   "id": "103e5e9c",
   "metadata": {},
   "outputs": [],
   "source": [
    "#get_bi_collocations(all_words)"
   ]
  },
  {
   "cell_type": "code",
   "execution_count": 76,
   "id": "ebacd68c",
   "metadata": {},
   "outputs": [],
   "source": [
    "#get_tri_collocation(all_words)"
   ]
  },
  {
   "cell_type": "code",
   "execution_count": 77,
   "id": "535ec86c",
   "metadata": {},
   "outputs": [],
   "source": [
    "#get_bi_collocations(a_pos_word_list)"
   ]
  },
  {
   "cell_type": "code",
   "execution_count": 78,
   "id": "2e4f77ea",
   "metadata": {},
   "outputs": [],
   "source": [
    "#get_tri_collocation(a_pos_word_list)"
   ]
  },
  {
   "cell_type": "code",
   "execution_count": 79,
   "id": "f257502a",
   "metadata": {},
   "outputs": [],
   "source": [
    "#get_bi_collocations(a_neg_word_list)"
   ]
  },
  {
   "cell_type": "code",
   "execution_count": 80,
   "id": "bb1ccd48",
   "metadata": {},
   "outputs": [],
   "source": [
    "#get_tri_collocation(a_neg_word_list)"
   ]
  },
  {
   "cell_type": "code",
   "execution_count": 81,
   "id": "91d7de29",
   "metadata": {},
   "outputs": [],
   "source": [
    "#get_bi_collocations(a_neu_word_list)"
   ]
  },
  {
   "cell_type": "code",
   "execution_count": 82,
   "id": "cc8fe0a3",
   "metadata": {},
   "outputs": [],
   "source": [
    "#get_tri_collocation(a_neu_word_list)"
   ]
  },
  {
   "cell_type": "code",
   "execution_count": 83,
   "id": "56ce6818",
   "metadata": {},
   "outputs": [],
   "source": [
    "#get_bi_collocations(all_words_south)"
   ]
  },
  {
   "cell_type": "code",
   "execution_count": 84,
   "id": "163ca1c6",
   "metadata": {},
   "outputs": [],
   "source": [
    "#get_tri_collocation(all_words_south)"
   ]
  },
  {
   "cell_type": "code",
   "execution_count": 85,
   "id": "949ec143",
   "metadata": {},
   "outputs": [],
   "source": [
    "#get_bi_collocations(s_pos_word_list)"
   ]
  },
  {
   "cell_type": "code",
   "execution_count": 86,
   "id": "c0bde484",
   "metadata": {},
   "outputs": [],
   "source": [
    "#get_tri_collocation(s_pos_word_list)"
   ]
  },
  {
   "cell_type": "code",
   "execution_count": 87,
   "id": "76364d3a",
   "metadata": {},
   "outputs": [],
   "source": [
    "#get_bi_collocations(s_neg_word_list)"
   ]
  },
  {
   "cell_type": "code",
   "execution_count": 88,
   "id": "58ba53aa",
   "metadata": {},
   "outputs": [],
   "source": [
    "#get_tri_collocation(s_neg_word_list)"
   ]
  },
  {
   "cell_type": "code",
   "execution_count": 89,
   "id": "89d06179",
   "metadata": {},
   "outputs": [],
   "source": [
    "#get_bi_collocations(s_neu_word_list)"
   ]
  },
  {
   "cell_type": "code",
   "execution_count": 90,
   "id": "0e19c1e2",
   "metadata": {},
   "outputs": [],
   "source": [
    "#get_tri_collocation(s_neu_word_list)"
   ]
  },
  {
   "cell_type": "code",
   "execution_count": 91,
   "id": "0f7604a9",
   "metadata": {},
   "outputs": [],
   "source": [
    "#get_bi_collocations(all_words_west)"
   ]
  },
  {
   "cell_type": "code",
   "execution_count": 92,
   "id": "c0e8802f",
   "metadata": {},
   "outputs": [],
   "source": [
    "#get_tri_collocation(all_words_west)"
   ]
  },
  {
   "cell_type": "code",
   "execution_count": 93,
   "id": "daeccc3b",
   "metadata": {},
   "outputs": [],
   "source": [
    "#get_bi_collocations(w_pos_word_list)"
   ]
  },
  {
   "cell_type": "code",
   "execution_count": 94,
   "id": "d87a54cd",
   "metadata": {},
   "outputs": [],
   "source": [
    "#get_tri_collocation(w_pos_word_list)"
   ]
  },
  {
   "cell_type": "code",
   "execution_count": 95,
   "id": "de2a026c",
   "metadata": {},
   "outputs": [],
   "source": [
    "#get_bi_collocations(w_neg_word_list)"
   ]
  },
  {
   "cell_type": "code",
   "execution_count": 96,
   "id": "54ddd32f",
   "metadata": {},
   "outputs": [],
   "source": [
    "#get_tri_collocation(w_neg_word_list)"
   ]
  },
  {
   "cell_type": "code",
   "execution_count": 97,
   "id": "5f322ebd",
   "metadata": {},
   "outputs": [],
   "source": [
    "#get_bi_collocations(w_neu_word_list)"
   ]
  },
  {
   "cell_type": "code",
   "execution_count": 98,
   "id": "94f7e2b2",
   "metadata": {},
   "outputs": [],
   "source": [
    "#get_tri_collocation(w_neu_word_list)"
   ]
  },
  {
   "cell_type": "code",
   "execution_count": 99,
   "id": "2aef0cea",
   "metadata": {},
   "outputs": [
    {
     "data": {
      "text/plain": [
       "['’', '’', '’', '’', '’', '’', '’', '’', '’', '’']"
      ]
     },
     "execution_count": 99,
     "metadata": {},
     "output_type": "execute_result"
    }
   ],
   "source": [
    "def isEnglish(c):\n",
    "    try:\n",
    "        c.encode(encoding='utf-8').decode('ascii')\n",
    "    except UnicodeDecodeError:\n",
    "        return False\n",
    "    else:\n",
    "        return True\n",
    "\n",
    "non_english = []\n",
    "for index, row in df.iterrows():\n",
    "    for l in list(row['cleaned text']):\n",
    "        for c in l:\n",
    "            if isEnglish(c) == True:\n",
    "                pass\n",
    "            else:\n",
    "                non_english.append(c)\n",
    "non_english[:10]"
   ]
  },
  {
   "cell_type": "code",
   "execution_count": 100,
   "id": "5a46e357",
   "metadata": {},
   "outputs": [
    {
     "data": {
      "text/plain": [
       "label           float64\n",
       "cleaned text     object\n",
       "dtype: object"
      ]
     },
     "execution_count": 100,
     "metadata": {},
     "output_type": "execute_result"
    }
   ],
   "source": [
    "sentiment_df = df.drop(columns=[\"Author\",\"Review Text\",\"Date\",\"Owner Answer\",\"Owner Answer Date\",\"Author Profile\",\"Author Image\",\"Review URL\",\"label\",\"zip\",\"state\",\"has owner answer\",\"census region\"])\n",
    "sentiment_df = sentiment_df.rename(columns={'Review Rating':'label'})\n",
    "sentiment_df.dtypes"
   ]
  },
  {
   "cell_type": "code",
   "execution_count": 101,
   "id": "025ea321",
   "metadata": {},
   "outputs": [
    {
     "name": "stdout",
     "output_type": "stream",
     "text": [
      "Vocabulary size: 137804\n",
      "Max sequence embedding: 19\n"
     ]
    }
   ],
   "source": [
    "all_words_sent = get_words(sentiment_df, 'cleaned text')\n",
    "all_freq_sent = pd.Series(all_words_sent).value_counts()\n",
    "vocab_size_sent = len(all_freq_sent)\n",
    "\n",
    "print('Vocabulary size: ' + str(vocab_size_sent))\n",
    "\n",
    "max_sequence_embedding = int(round(np.sqrt(np.sqrt(vocab_size_sent)), 0))\n",
    "print('Max sequence embedding: ' + str(max_sequence_embedding))"
   ]
  },
  {
   "cell_type": "code",
   "execution_count": 102,
   "id": "dddab120",
   "metadata": {},
   "outputs": [
    {
     "name": "stdout",
     "output_type": "stream",
     "text": [
      "Sequence length: 425\n"
     ]
    }
   ],
   "source": [
    "list_of_lens = []\n",
    "for index, row in sentiment_df.iterrows():\n",
    "    list_of_lens.append(len(clean_sentence(row['cleaned text'])))\n",
    "sequence_length = max(list_of_lens)\n",
    "print('Sequence length: ' + str(sequence_length))"
   ]
  },
  {
   "cell_type": "code",
   "execution_count": 103,
   "id": "1d0cf395",
   "metadata": {},
   "outputs": [],
   "source": [
    "from sklearn.model_selection import train_test_split\n",
    "\n",
    "X_train, X_remaining, y_train, y_remaining = train_test_split(sentiment_df['cleaned text'], sentiment_df['label'], train_size=.7, random_state = 1987)\n",
    "X_valid, X_test, y_valid, y_test = train_test_split(X_remaining, y_remaining, test_size=0.5, random_state = 1987) "
   ]
  },
  {
   "cell_type": "code",
   "execution_count": 104,
   "id": "98b2a64e",
   "metadata": {},
   "outputs": [],
   "source": [
    "vocab_size = 137804\n",
    "embedding_dim = 19\n",
    "max_length = 425"
   ]
  },
  {
   "cell_type": "code",
   "execution_count": 105,
   "id": "bd642c3c",
   "metadata": {},
   "outputs": [
    {
     "name": "stdout",
     "output_type": "stream",
     "text": [
      "Vocab is 85434 elements long.\n"
     ]
    },
    {
     "data": {
      "text/plain": [
       "{'and': 1,\n",
       " 'the': 2,\n",
       " 'to': 3,\n",
       " 'I': 4,\n",
       " 'was': 5,\n",
       " 'a': 6,\n",
       " 'in': 7,\n",
       " 'my': 8,\n",
       " 'for': 9,\n",
       " 'of': 10,\n",
       " 'me': 11,\n",
       " 'that': 12,\n",
       " 'is': 13,\n",
       " 'they': 14,\n",
       " 'with': 15,\n",
       " 'have': 16,\n",
       " 'br': 17,\n",
       " 'had': 18,\n",
       " 'you': 19,\n",
       " 'The': 20,\n",
       " 'on': 21,\n",
       " 'not': 22,\n",
       " 'at': 23,\n",
       " 'this': 24,\n",
       " 'it': 25,\n",
       " 'care': 26,\n",
       " 'were': 27,\n",
       " 'hospital': 28,\n",
       " 'very': 29,\n",
       " 'staff': 30,\n",
       " 'be': 31,\n",
       " 'her': 32,\n",
       " 'so': 33,\n",
       " 'all': 34,\n",
       " 'are': 35,\n",
       " 'but': 36,\n",
       " 'there': 37,\n",
       " 'she': 38,\n",
       " 'an': 39,\n",
       " 'They': 40,\n",
       " 'as': 41,\n",
       " 'time': 42,\n",
       " 'from': 43,\n",
       " 'get': 44,\n",
       " 'out': 45,\n",
       " 'would': 46,\n",
       " 'been': 47,\n",
       " 'room': 48,\n",
       " 'we': 49,\n",
       " 'nurses': 50,\n",
       " 'about': 51,\n",
       " 'here': 52,\n",
       " 'he': 53,\n",
       " 'or': 54,\n",
       " 'nurse': 55,\n",
       " 'My': 56,\n",
       " 'ER': 57,\n",
       " 'no': 58,\n",
       " 'go': 59,\n",
       " 'one': 60,\n",
       " 'Dr': 61,\n",
       " 'up': 62,\n",
       " 'when': 63,\n",
       " 'back': 64,\n",
       " 'if': 65,\n",
       " 'just': 66,\n",
       " 'doctor': 67,\n",
       " 'them': 68,\n",
       " 'experience': 69,\n",
       " 'like': 70,\n",
       " 'do': 71,\n",
       " 'because': 72,\n",
       " 'their': 73,\n",
       " 'great': 74,\n",
       " 'pain': 75,\n",
       " 'told': 76,\n",
       " 'what': 77,\n",
       " 'did': 78,\n",
       " 'even': 79,\n",
       " 'hours': 80,\n",
       " 'by': 81,\n",
       " 'who': 82,\n",
       " 'your': 83,\n",
       " 'will': 84,\n",
       " 'could': 85,\n",
       " 'after': 86,\n",
       " 'went': 87,\n",
       " 'has': 88,\n",
       " 'people': 89,\n",
       " 'never': 90,\n",
       " 'his': 91,\n",
       " 'him': 92,\n",
       " 'This': 93,\n",
       " 'good': 94,\n",
       " 'She': 95,\n",
       " 'surgery': 96,\n",
       " 'got': 97,\n",
       " 'patient': 98,\n",
       " 'said': 99,\n",
       " 'only': 100,\n",
       " 'took': 101,\n",
       " 'waiting': 102,\n",
       " 'place': 103,\n",
       " 'came': 104,\n",
       " 'made': 105,\n",
       " 'being': 106,\n",
       " 'well': 107,\n",
       " 'going': 108,\n",
       " 'am': 109,\n",
       " 'help': 110,\n",
       " 'more': 111,\n",
       " 'us': 112,\n",
       " 'doctors': 113,\n",
       " 'over': 114,\n",
       " 'patients': 115,\n",
       " '2': 116,\n",
       " 'any': 117,\n",
       " 'can': 118,\n",
       " 'We': 119,\n",
       " 'know': 120,\n",
       " 'medical': 121,\n",
       " 'ever': 122,\n",
       " 'day': 123,\n",
       " 'how': 124,\n",
       " 'then': 125,\n",
       " 'He': 126,\n",
       " 'other': 127,\n",
       " 'professional': 128,\n",
       " 'our': 129,\n",
       " 'kind': 130,\n",
       " 'Thank': 131,\n",
       " 'wait': 132,\n",
       " 'feel': 133,\n",
       " 'take': 134,\n",
       " 'see': 135,\n",
       " 'before': 136,\n",
       " 'best': 137,\n",
       " 'need': 138,\n",
       " 'friendly': 139,\n",
       " 'nice': 140,\n",
       " 'i': 141,\n",
       " 'give': 142,\n",
       " 'recommend': 143,\n",
       " 'much': 144,\n",
       " 'home': 145,\n",
       " 'amazing': 146,\n",
       " 'seen': 147,\n",
       " 'than': 148,\n",
       " 'asked': 149,\n",
       " 'also': 150,\n",
       " 'really': 151,\n",
       " 'which': 152,\n",
       " 'better': 153,\n",
       " 'It': 154,\n",
       " 'call': 155,\n",
       " '3': 156,\n",
       " 'still': 157,\n",
       " 'emergency': 158,\n",
       " 'come': 159,\n",
       " 'treated': 160,\n",
       " 'work': 161,\n",
       " 'first': 162,\n",
       " 'again': 163,\n",
       " 'make': 164,\n",
       " 'say': 165,\n",
       " 'left': 166,\n",
       " 'caring': 167,\n",
       " 'some': 168,\n",
       " 'way': 169,\n",
       " 'If': 170,\n",
       " 'family': 171,\n",
       " '5': 172,\n",
       " 'called': 173,\n",
       " 'days': 174,\n",
       " 'another': 175,\n",
       " 'blood': 176,\n",
       " 'needed': 177,\n",
       " 'service': 178,\n",
       " 'visit': 179,\n",
       " 'helpful': 180,\n",
       " 'always': 181,\n",
       " 'into': 182,\n",
       " 'times': 183,\n",
       " 'done': 184,\n",
       " \"didn't\": 185,\n",
       " 'sure': 186,\n",
       " \"don't\": 187,\n",
       " 'facility': 188,\n",
       " 'while': 189,\n",
       " 'want': 190,\n",
       " \"I'm\": 191,\n",
       " 'having': 192,\n",
       " 'received': 193,\n",
       " 'now': 194,\n",
       " 'everything': 195,\n",
       " 'should': 196,\n",
       " 'rude': 197,\n",
       " 'everyone': 198,\n",
       " 'minutes': 199,\n",
       " 'where': 200,\n",
       " 'every': 201,\n",
       " 'bad': 202,\n",
       " 'wonderful': 203,\n",
       " '4': 204,\n",
       " 'anything': 205,\n",
       " 'needs': 206,\n",
       " 'husband': 207,\n",
       " 'right': 208,\n",
       " 'stay': 209,\n",
       " 'check': 210,\n",
       " 'put': 211,\n",
       " 'down': 212,\n",
       " 'team': 213,\n",
       " 'gave': 214,\n",
       " 'taken': 215,\n",
       " 'And': 216,\n",
       " 'When': 217,\n",
       " 'through': 218,\n",
       " 'person': 219,\n",
       " 'two': 220,\n",
       " 'appointment': 221,\n",
       " 'health': 222,\n",
       " 'night': 223,\n",
       " 'sent': 224,\n",
       " 'life': 225,\n",
       " 'Hospital': 226,\n",
       " 'felt': 227,\n",
       " 'off': 228,\n",
       " 'treatment': 229,\n",
       " 'long': 230,\n",
       " 'excellent': 231,\n",
       " 'job': 232,\n",
       " 'Very': 233,\n",
       " 'hour': 234,\n",
       " 'nothing': 235,\n",
       " 'didn’t': 236,\n",
       " 'getting': 237,\n",
       " \"I've\": 238,\n",
       " 'I’m': 239,\n",
       " 'someone': 240,\n",
       " 'comfortable': 241,\n",
       " 'most': 242,\n",
       " 'floor': 243,\n",
       " '10': 244,\n",
       " '1': 245,\n",
       " 'around': 246,\n",
       " 'years': 247,\n",
       " 'So': 248,\n",
       " 'A': 249,\n",
       " 'insurance': 250,\n",
       " 'procedure': 251,\n",
       " 'anyone': 252,\n",
       " 'tell': 253,\n",
       " 'Everyone': 254,\n",
       " 'until': 255,\n",
       " 'last': 256,\n",
       " 'don’t': 257,\n",
       " 'later': 258,\n",
       " 'during': 259,\n",
       " 'test': 260,\n",
       " 'thank': 261,\n",
       " 'next': 262,\n",
       " 'son': 263,\n",
       " 'baby': 264,\n",
       " 'doing': 265,\n",
       " 'All': 266,\n",
       " 'same': 267,\n",
       " 'front': 268,\n",
       " 'questions': 269,\n",
       " 'daughter': 270,\n",
       " 'ask': 271,\n",
       " 'After': 272,\n",
       " 'why': 273,\n",
       " 'without': 274,\n",
       " 'since': 275,\n",
       " 'You': 276,\n",
       " 'many': 277,\n",
       " 'desk': 278,\n",
       " 'things': 279,\n",
       " 'enough': 280,\n",
       " 'No': 281,\n",
       " 'able': 282,\n",
       " 'worst': 283,\n",
       " 'find': 284,\n",
       " 'too': 285,\n",
       " 'food': 286,\n",
       " 'clean': 287,\n",
       " 'due': 288,\n",
       " 'given': 289,\n",
       " 'heart': 290,\n",
       " 'something': 291,\n",
       " 'let': 292,\n",
       " 'admitted': 293,\n",
       " 'few': 294,\n",
       " 'leave': 295,\n",
       " 'extremely': 296,\n",
       " 'away': 297,\n",
       " 'such': 298,\n",
       " 'phone': 299,\n",
       " 'else': 300,\n",
       " 'I’ve': 301,\n",
       " 'wife': 302,\n",
       " 'But': 303,\n",
       " 'name': 304,\n",
       " 'mother': 305,\n",
       " 'absolutely': 306,\n",
       " 'stars': 307,\n",
       " 'bill': 308,\n",
       " 'different': 309,\n",
       " 'entire': 310,\n",
       " 'Medical': 311,\n",
       " 'mom': 312,\n",
       " 'finally': 313,\n",
       " 'results': 314,\n",
       " 'taking': 315,\n",
       " 'wrong': 316,\n",
       " 'bed': 317,\n",
       " 'think': 318,\n",
       " 'new': 319,\n",
       " '30': 320,\n",
       " '6': 321,\n",
       " 'office': 322,\n",
       " 'There': 323,\n",
       " 'area': 324,\n",
       " 'helped': 325,\n",
       " 'issues': 326,\n",
       " 'both': 327,\n",
       " 'old': 328,\n",
       " 'these': 329,\n",
       " 'attentive': 330,\n",
       " 'checked': 331,\n",
       " 'horrible': 332,\n",
       " 'wanted': 333,\n",
       " 'lady': 334,\n",
       " 'week': 335,\n",
       " 'actually': 336,\n",
       " \"it's\": 337,\n",
       " 'almost': 338,\n",
       " 'department': 339,\n",
       " 'love': 340,\n",
       " 'whole': 341,\n",
       " 'Not': 342,\n",
       " 'waited': 343,\n",
       " 'little': 344,\n",
       " 'saw': 345,\n",
       " 'highly': 346,\n",
       " 'lot': 347,\n",
       " 'Great': 348,\n",
       " 'year': 349,\n",
       " 'knowledgeable': 350,\n",
       " 'kept': 351,\n",
       " 'today': 352,\n",
       " 'though': 353,\n",
       " 'meds': 354,\n",
       " 'thing': 355,\n",
       " 'Center': 356,\n",
       " 'Then': 357,\n",
       " \"can't\": 358,\n",
       " 'walk': 359,\n",
       " 'several': 360,\n",
       " 'medication': 361,\n",
       " 'awesome': 362,\n",
       " 'sick': 363,\n",
       " 'trying': 364,\n",
       " 'nursing': 365,\n",
       " 'weeks': 366,\n",
       " 'From': 367,\n",
       " 'found': 368,\n",
       " 'morning': 369,\n",
       " 'beyond': 370,\n",
       " 'information': 371,\n",
       " 'making': 372,\n",
       " 'explained': 373,\n",
       " 'Staff': 374,\n",
       " 'use': 375,\n",
       " 'brought': 376,\n",
       " 'myself': 377,\n",
       " 'quickly': 378,\n",
       " \"wasn't\": 379,\n",
       " 'understand': 380,\n",
       " 'In': 381,\n",
       " 'ago': 382,\n",
       " 'process': 383,\n",
       " 'problem': 384,\n",
       " \"couldn't\": 385,\n",
       " 'keep': 386,\n",
       " 'IV': 387,\n",
       " 'review': 388,\n",
       " 'truly': 389,\n",
       " 'walked': 390,\n",
       " 'top': 391,\n",
       " 'definitely': 392,\n",
       " 'coming': 393,\n",
       " 'discharge': 394,\n",
       " 'pay': 395,\n",
       " 'efficient': 396,\n",
       " 'treat': 397,\n",
       " 'once': 398,\n",
       " 'each': 399,\n",
       " 'it’s': 400,\n",
       " 'NOT': 401,\n",
       " 'hospitals': 402,\n",
       " 'tests': 403,\n",
       " 'pleasant': 404,\n",
       " 'talk': 405,\n",
       " 'far': 406,\n",
       " 'months': 407,\n",
       " 'discharged': 408,\n",
       " 'issue': 409,\n",
       " '7': 410,\n",
       " 'Had': 411,\n",
       " 'loved': 412,\n",
       " 'quick': 413,\n",
       " 'star': 414,\n",
       " 'especially': 415,\n",
       " 'working': 416,\n",
       " 'less': 417,\n",
       " 'possible': 418,\n",
       " 'concerns': 419,\n",
       " '8': 420,\n",
       " 'already': 421,\n",
       " 'worse': 422,\n",
       " 'cared': 423,\n",
       " 'immediately': 424,\n",
       " 'arrived': 425,\n",
       " 'situation': 426,\n",
       " 'reason': 427,\n",
       " 'tried': 428,\n",
       " 'compassionate': 429,\n",
       " 'Doctor': 430,\n",
       " 'As': 431,\n",
       " 'second': 432,\n",
       " 'scan': 433,\n",
       " 'hard': 434,\n",
       " 'started': 435,\n",
       " 'super': 436,\n",
       " 'center': 437,\n",
       " 'compassion': 438,\n",
       " 'does': 439,\n",
       " 'grateful': 440,\n",
       " 'Nurse': 441,\n",
       " 'manner': 442,\n",
       " 'thorough': 443,\n",
       " 'hope': 444,\n",
       " 'severe': 445,\n",
       " 'sitting': 446,\n",
       " 'CT': 447,\n",
       " 'can’t': 448,\n",
       " 'feeling': 449,\n",
       " 'knew': 450,\n",
       " 'send': 451,\n",
       " 'three': 452,\n",
       " 'look': 453,\n",
       " 'thought': 454,\n",
       " 'chest': 455,\n",
       " 'billing': 456,\n",
       " 'high': 457,\n",
       " 'above': 458,\n",
       " 'recovery': 459,\n",
       " 'Thanks': 460,\n",
       " 'door': 461,\n",
       " 'saying': 462,\n",
       " 'services': 463,\n",
       " 'child': 464,\n",
       " 'Nurses': 465,\n",
       " 'Health': 466,\n",
       " 'money': 467,\n",
       " 'terrible': 468,\n",
       " 'Was': 469,\n",
       " 'ambulance': 470,\n",
       " 'own': 471,\n",
       " 'member': 472,\n",
       " 'those': 473,\n",
       " 'unprofessional': 474,\n",
       " 'point': 475,\n",
       " 'Also': 476,\n",
       " 'fast': 477,\n",
       " 'symptoms': 478,\n",
       " 'provided': 479,\n",
       " 'least': 480,\n",
       " 'within': 481,\n",
       " 'wasn’t': 482,\n",
       " 'busy': 483,\n",
       " 'happy': 484,\n",
       " 'believe': 485,\n",
       " 'try': 486,\n",
       " 'instead': 487,\n",
       " 'Went': 488,\n",
       " 'ICU': 489,\n",
       " 'positive': 490,\n",
       " 'delivery': 491,\n",
       " 'answer': 492,\n",
       " 'couldn’t': 493,\n",
       " 'multiple': 494,\n",
       " 'attention': 495,\n",
       " 'ray': 496,\n",
       " 'appreciate': 497,\n",
       " 'clinic': 498,\n",
       " 'short': 499,\n",
       " 'sit': 500,\n",
       " 'under': 501,\n",
       " 'ended': 502,\n",
       " 'completely': 503,\n",
       " 'full': 504,\n",
       " 'listen': 505,\n",
       " 'yet': 506,\n",
       " 'side': 507,\n",
       " 'reviews': 508,\n",
       " 'What': 509,\n",
       " 'follow': 510,\n",
       " '20': 511,\n",
       " 'lab': 512,\n",
       " 'respect': 513,\n",
       " 'head': 514,\n",
       " 'Just': 515,\n",
       " 'surgeon': 516,\n",
       " 'asking': 517,\n",
       " 'wish': 518,\n",
       " '12': 519,\n",
       " 'giving': 520,\n",
       " 'recently': 521,\n",
       " 'level': 522,\n",
       " 'medicine': 523,\n",
       " '15': 524,\n",
       " 'God': 525,\n",
       " 'That': 526,\n",
       " 'lack': 527,\n",
       " 'past': 528,\n",
       " 'RN': 529,\n",
       " 'informed': 530,\n",
       " 'Every': 531,\n",
       " 'easy': 532,\n",
       " 'rooms': 533,\n",
       " \"It's\": 534,\n",
       " 'One': 535,\n",
       " 'condition': 536,\n",
       " 'speak': 537,\n",
       " 'infection': 538,\n",
       " 'seemed': 539,\n",
       " 'labor': 540,\n",
       " 'end': 541,\n",
       " 'security': 542,\n",
       " 'healthcare': 543,\n",
       " 'heard': 544,\n",
       " 'showed': 545,\n",
       " '9': 546,\n",
       " 'arm': 547,\n",
       " \"wouldn't\": 548,\n",
       " 'start': 549,\n",
       " 'literally': 550,\n",
       " 'er': 551,\n",
       " 'MRI': 552,\n",
       " 'half': 553,\n",
       " 'talking': 554,\n",
       " 'number': 555,\n",
       " 'drive': 556,\n",
       " 'birth': 557,\n",
       " 'part': 558,\n",
       " 'hand': 559,\n",
       " 'dr': 560,\n",
       " 'x': 561,\n",
       " 'system': 562,\n",
       " 'others': 563,\n",
       " 'spent': 564,\n",
       " 'THE': 565,\n",
       " 'sweet': 566,\n",
       " 'may': 567,\n",
       " 'worked': 568,\n",
       " 'shift': 569,\n",
       " 'met': 570,\n",
       " 'sat': 571,\n",
       " 'hands': 572,\n",
       " 'charge': 573,\n",
       " 'pressure': 574,\n",
       " 'dad': 575,\n",
       " 'Doctors': 576,\n",
       " 'leaving': 577,\n",
       " 'month': 578,\n",
       " 'car': 579,\n",
       " 'receive': 580,\n",
       " 'fine': 581,\n",
       " 'attitude': 582,\n",
       " 'impressed': 583,\n",
       " 'cannot': 584,\n",
       " 'However': 585,\n",
       " 'urgent': 586,\n",
       " 'change': 587,\n",
       " 'couple': 588,\n",
       " 'answered': 589,\n",
       " 'looked': 590,\n",
       " 'tech': 591,\n",
       " 'physician': 592,\n",
       " 'happened': 593,\n",
       " 'TO': 594,\n",
       " 'contact': 595,\n",
       " 'open': 596,\n",
       " 'X': 597,\n",
       " 'experiences': 598,\n",
       " 'pretty': 599,\n",
       " 'father': 600,\n",
       " 'triage': 601,\n",
       " 'telling': 602,\n",
       " 'ones': 603,\n",
       " 'post': 604,\n",
       " 'exceptional': 605,\n",
       " 'helping': 606,\n",
       " 'twice': 607,\n",
       " 'bedside': 608,\n",
       " 'At': 609,\n",
       " 'explain': 610,\n",
       " 'problems': 611,\n",
       " 'moved': 612,\n",
       " 'bring': 613,\n",
       " 'scheduled': 614,\n",
       " 'case': 615,\n",
       " 'remember': 616,\n",
       " 'members': 617,\n",
       " 'seem': 618,\n",
       " 'Even': 619,\n",
       " 'Do': 620,\n",
       " 'kindness': 621,\n",
       " 'negative': 622,\n",
       " 'refused': 623,\n",
       " 'longer': 624,\n",
       " 'courteous': 625,\n",
       " 'On': 626,\n",
       " 'AND': 627,\n",
       " 'Care': 628,\n",
       " 'looking': 629,\n",
       " 'used': 630,\n",
       " 'communication': 631,\n",
       " 'primary': 632,\n",
       " 'employees': 633,\n",
       " 'joke': 634,\n",
       " 'outstanding': 635,\n",
       " 'To': 636,\n",
       " 'therapy': 637,\n",
       " 'fantastic': 638,\n",
       " 'water': 639,\n",
       " 'broken': 640,\n",
       " 'op': 641,\n",
       " 'hear': 642,\n",
       " 'paid': 643,\n",
       " 'thanks': 644,\n",
       " 'concern': 645,\n",
       " 'serious': 646,\n",
       " 'run': 647,\n",
       " 'physical': 648,\n",
       " 'Now': 649,\n",
       " 'listened': 650,\n",
       " 'gone': 651,\n",
       " '24': 652,\n",
       " 'experienced': 653,\n",
       " 'please': 654,\n",
       " 'supposed': 655,\n",
       " 'fact': 656,\n",
       " 'Never': 657,\n",
       " 'rest': 658,\n",
       " 'receptionist': 659,\n",
       " 'single': 660,\n",
       " 'plan': 661,\n",
       " 'quality': 662,\n",
       " 'St': 663,\n",
       " 'safe': 664,\n",
       " 'poor': 665,\n",
       " 'registration': 666,\n",
       " 'Worst': 667,\n",
       " 'understanding': 668,\n",
       " 'woman': 669,\n",
       " 'parking': 670,\n",
       " 'big': 671,\n",
       " 'its': 672,\n",
       " 'comes': 673,\n",
       " 'provider': 674,\n",
       " 'personal': 675,\n",
       " 'takes': 676,\n",
       " 'concerned': 677,\n",
       " 'either': 678,\n",
       " '11': 679,\n",
       " 'return': 680,\n",
       " 'pre': 681,\n",
       " 'cause': 682,\n",
       " 'small': 683,\n",
       " 'ease': 684,\n",
       " 'diagnosis': 685,\n",
       " 'support': 686,\n",
       " 'It’s': 687,\n",
       " 'state': 688,\n",
       " 'pleased': 689,\n",
       " 'bathroom': 690,\n",
       " 'decided': 691,\n",
       " \"that's\": 692,\n",
       " 'available': 693,\n",
       " 'set': 694,\n",
       " 'makes': 695,\n",
       " 'Emergency': 696,\n",
       " 'ultrasound': 697,\n",
       " 'For': 698,\n",
       " 'transferred': 699,\n",
       " 'step': 700,\n",
       " 'soon': 701,\n",
       " 'polite': 702,\n",
       " 'die': 703,\n",
       " 'order': 704,\n",
       " 'professionalism': 705,\n",
       " 'moment': 706,\n",
       " 'zero': 707,\n",
       " 'rather': 708,\n",
       " \"doesn't\": 709,\n",
       " 'seeing': 710,\n",
       " 'ready': 711,\n",
       " 'Once': 712,\n",
       " 'lobby': 713,\n",
       " 'PA': 714,\n",
       " 'unit': 715,\n",
       " 'friend': 716,\n",
       " 'knee': 717,\n",
       " 'Please': 718,\n",
       " 'calls': 719,\n",
       " 'calling': 720,\n",
       " 'probably': 721,\n",
       " 'hrs': 722,\n",
       " 'deal': 723,\n",
       " 'hold': 724,\n",
       " 'spoke': 725,\n",
       " 'paperwork': 726,\n",
       " 'thankful': 727,\n",
       " 'overall': 728,\n",
       " 'man': 729,\n",
       " 'guys': 730,\n",
       " 'provide': 731,\n",
       " 'location': 732,\n",
       " 'complaint': 733,\n",
       " 'Excellent': 734,\n",
       " 'live': 735,\n",
       " 'stop': 736,\n",
       " 'bit': 737,\n",
       " 'wouldn’t': 738,\n",
       " 'sister': 739,\n",
       " 'matter': 740,\n",
       " 'line': 741,\n",
       " 'allowed': 742,\n",
       " 'prescription': 743,\n",
       " 'DO': 744,\n",
       " 'real': 745,\n",
       " 'customer': 746,\n",
       " 'checking': 747,\n",
       " 'covid': 748,\n",
       " 'etc': 749,\n",
       " 'awful': 750,\n",
       " 'Regional': 751,\n",
       " 'seems': 752,\n",
       " 'First': 753,\n",
       " 'show': 754,\n",
       " \"you're\": 755,\n",
       " 'talked': 756,\n",
       " 'YOU': 757,\n",
       " 'attack': 758,\n",
       " 'lost': 759,\n",
       " 'somewhere': 760,\n",
       " 'outpatient': 761,\n",
       " 'mind': 762,\n",
       " 'maybe': 763,\n",
       " 'ridiculous': 764,\n",
       " 'breathing': 765,\n",
       " 'leg': 766,\n",
       " 'stayed': 767,\n",
       " 'expect': 768,\n",
       " 'outside': 769,\n",
       " 'close': 770,\n",
       " 'sleep': 771,\n",
       " '00': 772,\n",
       " 'body': 773,\n",
       " 'accident': 774,\n",
       " 'however': 775,\n",
       " 'early': 776,\n",
       " 'disappointed': 777,\n",
       " 'kidney': 778,\n",
       " 'Her': 779,\n",
       " 'clear': 780,\n",
       " 'read': 781,\n",
       " 'foot': 782,\n",
       " 'face': 783,\n",
       " 'says': 784,\n",
       " 'response': 785,\n",
       " 'changed': 786,\n",
       " 'clearly': 787,\n",
       " 'While': 788,\n",
       " 'informative': 789,\n",
       " 'ok': 790,\n",
       " 'diagnosed': 791,\n",
       " 'pm': 792,\n",
       " 'happen': 793,\n",
       " 'testing': 794,\n",
       " 'cold': 795,\n",
       " 'vitals': 796,\n",
       " 'encountered': 797,\n",
       " 'between': 798,\n",
       " 'answers': 799,\n",
       " 'procedures': 800,\n",
       " 'important': 801,\n",
       " 'notch': 802,\n",
       " 'rays': 803,\n",
       " '45': 804,\n",
       " 'released': 805,\n",
       " 'walking': 806,\n",
       " 'move': 807,\n",
       " 'ladies': 808,\n",
       " 'choice': 809,\n",
       " 'might': 810,\n",
       " 'trust': 811,\n",
       " 'goes': 812,\n",
       " 'turned': 813,\n",
       " 'young': 814,\n",
       " 'extra': 815,\n",
       " 'stroke': 816,\n",
       " 'visits': 817,\n",
       " 'course': 818,\n",
       " 'Overall': 819,\n",
       " 'late': 820,\n",
       " 'appointments': 821,\n",
       " 'rushed': 822,\n",
       " 'VA': 823,\n",
       " 'along': 824,\n",
       " 'yesterday': 825,\n",
       " 'special': 826,\n",
       " 'incredibly': 827,\n",
       " 'anxiety': 828,\n",
       " 'total': 829,\n",
       " 'injury': 830,\n",
       " 'surgical': 831,\n",
       " 'question': 832,\n",
       " 'u': 833,\n",
       " 'cancer': 834,\n",
       " 'Our': 835,\n",
       " 'alone': 836,\n",
       " 'Covid': 837,\n",
       " '0': 838,\n",
       " 'throughout': 839,\n",
       " 'offered': 840,\n",
       " '100': 841,\n",
       " 'Absolutely': 842,\n",
       " 'children': 843,\n",
       " 'you’re': 844,\n",
       " 'anywhere': 845,\n",
       " 'chair': 846,\n",
       " 'passed': 847,\n",
       " 'amount': 848,\n",
       " 'low': 849,\n",
       " 'stomach': 850,\n",
       " 'sign': 851,\n",
       " 'hallway': 852,\n",
       " \"I'd\": 853,\n",
       " 'guess': 854,\n",
       " 'eat': 855,\n",
       " 'Well': 856,\n",
       " 'Their': 857,\n",
       " 'absolute': 858,\n",
       " 'five': 859,\n",
       " 'world': 860,\n",
       " 'His': 861,\n",
       " 'schedule': 862,\n",
       " 'NEVER': 863,\n",
       " 'bleeding': 864,\n",
       " 'mental': 865,\n",
       " 'Would': 866,\n",
       " '”': 867,\n",
       " 'ordered': 868,\n",
       " 'techs': 869,\n",
       " 'difficult': 870,\n",
       " 'dirty': 871,\n",
       " 'mention': 872,\n",
       " 'complete': 873,\n",
       " 'urine': 874,\n",
       " 'unless': 875,\n",
       " 'fever': 876,\n",
       " \"won't\": 877,\n",
       " 'mean': 878,\n",
       " 'rate': 879,\n",
       " 'town': 880,\n",
       " 'Took': 881,\n",
       " 'seriously': 882,\n",
       " 'Horrible': 883,\n",
       " 'cares': 884,\n",
       " 'okay': 885,\n",
       " 'professionals': 886,\n",
       " 'including': 887,\n",
       " 'prior': 888,\n",
       " 'appreciated': 889,\n",
       " 'wheelchair': 890,\n",
       " 'antibiotics': 891,\n",
       " 'saved': 892,\n",
       " 'must': 893,\n",
       " 'shot': 894,\n",
       " 'community': 895,\n",
       " 'These': 896,\n",
       " 'sad': 897,\n",
       " 'minute': 898,\n",
       " 'pharmacy': 899,\n",
       " 'quite': 900,\n",
       " 'glad': 901,\n",
       " 'continue': 902,\n",
       " 'normal': 903,\n",
       " 'timely': 904,\n",
       " 'kids': 905,\n",
       " 'friends': 906,\n",
       " 'Everything': 907,\n",
       " 'How': 908,\n",
       " 'records': 909,\n",
       " 'NO': 910,\n",
       " 'names': 911,\n",
       " 'management': 912,\n",
       " 'building': 913,\n",
       " 'gets': 914,\n",
       " 'crying': 915,\n",
       " 'stated': 916,\n",
       " 'medications': 917,\n",
       " 'anesthesiologist': 918,\n",
       " 'upset': 919,\n",
       " 'sorry': 920,\n",
       " 'exam': 921,\n",
       " 'future': 922,\n",
       " 'ignored': 923,\n",
       " 'forever': 924,\n",
       " 'pregnant': 925,\n",
       " 'calm': 926,\n",
       " 'that’s': 927,\n",
       " 'company': 928,\n",
       " 'doesn’t': 929,\n",
       " 'honestly': 930,\n",
       " 'ran': 931,\n",
       " \"I'll\": 932,\n",
       " 'Highly': 933,\n",
       " 'type': 934,\n",
       " 'four': 935,\n",
       " 'complaints': 936,\n",
       " 'sense': 937,\n",
       " 'deserve': 938,\n",
       " 'ED': 939,\n",
       " 'facilities': 940,\n",
       " 'gotten': 941,\n",
       " 'scared': 942,\n",
       " 'replacement': 943,\n",
       " 'assistance': 944,\n",
       " 'hurt': 945,\n",
       " 'specialist': 946,\n",
       " 'actual': 947,\n",
       " 'incredible': 948,\n",
       " 'warm': 949,\n",
       " 'labs': 950,\n",
       " 'human': 951,\n",
       " 'delivered': 952,\n",
       " 'knowing': 953,\n",
       " 'nor': 954,\n",
       " 'barely': 955,\n",
       " 'together': 956,\n",
       " '3rd': 957,\n",
       " 'business': 958,\n",
       " 'bills': 959,\n",
       " 'ALL': 960,\n",
       " 'COVID': 961,\n",
       " 'yourself': 962,\n",
       " 'major': 963,\n",
       " 'Best': 964,\n",
       " 'girl': 965,\n",
       " 'opinion': 966,\n",
       " 'idea': 967,\n",
       " 'guy': 968,\n",
       " 'behind': 969,\n",
       " 'proper': 970,\n",
       " 'nervous': 971,\n",
       " 'dont': 972,\n",
       " 'hip': 973,\n",
       " 'Only': 974,\n",
       " 'running': 975,\n",
       " 'law': 976,\n",
       " 'removed': 977,\n",
       " 'Good': 978,\n",
       " 'respectful': 979,\n",
       " 'providers': 980,\n",
       " 'visited': 981,\n",
       " 'workers': 982,\n",
       " 'using': 983,\n",
       " 'nobody': 984,\n",
       " 'dying': 985,\n",
       " 'Monday': 986,\n",
       " 'prescribed': 987,\n",
       " 'eye': 988,\n",
       " 'pains': 989,\n",
       " 'correct': 990,\n",
       " 'huge': 991,\n",
       " 'visiting': 992,\n",
       " 'against': 993,\n",
       " 'cut': 994,\n",
       " 'station': 995,\n",
       " 'pneumonia': 996,\n",
       " 'except': 997,\n",
       " 'Most': 998,\n",
       " 'waste': 999,\n",
       " 'placed': 1000,\n",
       " ...}"
      ]
     },
     "execution_count": 105,
     "metadata": {},
     "output_type": "execute_result"
    }
   ],
   "source": [
    "from tensorflow.keras.preprocessing.text import Tokenizer\n",
    "from tensorflow.keras.preprocessing.sequence import pad_sequences\n",
    "from tensorflow.keras.callbacks import EarlyStopping\n",
    "from tensorflow.keras.utils import to_categorical\n",
    "from tensorflow.keras.layers import Input, Dense, Embedding, SimpleRNN\n",
    "from tensorflow.keras.models import Sequential\n",
    "\n",
    "tokenizer = Tokenizer(num_words= 86000, lower= False)\n",
    "tokenizer.fit_on_texts(X_train)\n",
    "vocab_size = len(tokenizer.word_index) + 1\n",
    "print(f\"Vocab is {vocab_size} elements long.\")\n",
    "\n",
    "word_index = tokenizer.word_index\n",
    "word_index"
   ]
  },
  {
   "cell_type": "code",
   "execution_count": 106,
   "id": "97b65ba9",
   "metadata": {},
   "outputs": [],
   "source": [
    "X_train_seqs = tokenizer.texts_to_sequences(X_train)\n",
    "X_train_pad = pad_sequences(X_train_seqs, maxlen=max_length, padding='post')\n",
    "X_test_seq = tokenizer.texts_to_sequences(X_test)\n",
    "X_test_pad = pad_sequences(X_test_seq, maxlen=max_length, padding='post')\n",
    "X_val_seq = tokenizer.texts_to_sequences(X_valid)\n",
    "X_val_pad = pad_sequences(X_val_seq, maxlen=max_length, padding='post')"
   ]
  },
  {
   "cell_type": "code",
   "execution_count": 107,
   "id": "102f6464",
   "metadata": {},
   "outputs": [
    {
     "name": "stdout",
     "output_type": "stream",
     "text": [
      "The shape of the padded reviews within the training set is (94471, 425)\n",
      "[[ 244  244    4 ...    0    0    0]\n",
      " [3544   10  468 ...    0    0    0]\n",
      " [ 116  109  696 ...    0    0    0]\n",
      " ...\n",
      " [ 907    1  198 ...    0    0    0]\n",
      " [4480    5  362 ...    0    0    0]\n",
      " [ 431    6   55 ...    0    0    0]]\n"
     ]
    }
   ],
   "source": [
    "print(f\"The shape of the padded reviews within the training set is {X_train_pad.shape}\")\n",
    "print(X_train_pad)"
   ]
  },
  {
   "cell_type": "code",
   "execution_count": 115,
   "id": "014db3c7",
   "metadata": {},
   "outputs": [
    {
     "data": {
      "text/html": [
       "<pre style=\"white-space:pre;overflow-x:auto;line-height:normal;font-family:Menlo,'DejaVu Sans Mono',consolas,'Courier New',monospace\"><span style=\"font-weight: bold\">Model: \"sequential_4\"</span>\n",
       "</pre>\n"
      ],
      "text/plain": [
       "\u001b[1mModel: \"sequential_4\"\u001b[0m\n"
      ]
     },
     "metadata": {},
     "output_type": "display_data"
    },
    {
     "data": {
      "text/html": [
       "<pre style=\"white-space:pre;overflow-x:auto;line-height:normal;font-family:Menlo,'DejaVu Sans Mono',consolas,'Courier New',monospace\">┏━━━━━━━━━━━━━━━━━━━━━━━━━━━━━━━━━┳━━━━━━━━━━━━━━━━━━━━━━━━┳━━━━━━━━━━━━━━━┓\n",
       "┃<span style=\"font-weight: bold\"> Layer (type)                    </span>┃<span style=\"font-weight: bold\"> Output Shape           </span>┃<span style=\"font-weight: bold\">       Param # </span>┃\n",
       "┡━━━━━━━━━━━━━━━━━━━━━━━━━━━━━━━━━╇━━━━━━━━━━━━━━━━━━━━━━━━╇━━━━━━━━━━━━━━━┩\n",
       "│ embedding_4 (<span style=\"color: #0087ff; text-decoration-color: #0087ff\">Embedding</span>)         │ (<span style=\"color: #00d7ff; text-decoration-color: #00d7ff\">None</span>, <span style=\"color: #00af00; text-decoration-color: #00af00\">425</span>, <span style=\"color: #00af00; text-decoration-color: #00af00\">19</span>)        │     <span style=\"color: #00af00; text-decoration-color: #00af00\">1,623,246</span> │\n",
       "├─────────────────────────────────┼────────────────────────┼───────────────┤\n",
       "│ simple_rnn_6 (<span style=\"color: #0087ff; text-decoration-color: #0087ff\">SimpleRNN</span>)        │ (<span style=\"color: #00d7ff; text-decoration-color: #00d7ff\">None</span>, <span style=\"color: #00af00; text-decoration-color: #00af00\">425</span>, <span style=\"color: #00af00; text-decoration-color: #00af00\">425</span>)       │       <span style=\"color: #00af00; text-decoration-color: #00af00\">189,125</span> │\n",
       "├─────────────────────────────────┼────────────────────────┼───────────────┤\n",
       "│ simple_rnn_7 (<span style=\"color: #0087ff; text-decoration-color: #0087ff\">SimpleRNN</span>)        │ (<span style=\"color: #00d7ff; text-decoration-color: #00d7ff\">None</span>, <span style=\"color: #00af00; text-decoration-color: #00af00\">425</span>)            │       <span style=\"color: #00af00; text-decoration-color: #00af00\">361,675</span> │\n",
       "├─────────────────────────────────┼────────────────────────┼───────────────┤\n",
       "│ dense_18 (<span style=\"color: #0087ff; text-decoration-color: #0087ff\">Dense</span>)                │ (<span style=\"color: #00d7ff; text-decoration-color: #00d7ff\">None</span>, <span style=\"color: #00af00; text-decoration-color: #00af00\">4250</span>)           │     <span style=\"color: #00af00; text-decoration-color: #00af00\">1,810,500</span> │\n",
       "├─────────────────────────────────┼────────────────────────┼───────────────┤\n",
       "│ dense_19 (<span style=\"color: #0087ff; text-decoration-color: #0087ff\">Dense</span>)                │ (<span style=\"color: #00d7ff; text-decoration-color: #00d7ff\">None</span>, <span style=\"color: #00af00; text-decoration-color: #00af00\">3750</span>)           │    <span style=\"color: #00af00; text-decoration-color: #00af00\">15,941,250</span> │\n",
       "├─────────────────────────────────┼────────────────────────┼───────────────┤\n",
       "│ dense_20 (<span style=\"color: #0087ff; text-decoration-color: #0087ff\">Dense</span>)                │ (<span style=\"color: #00d7ff; text-decoration-color: #00d7ff\">None</span>, <span style=\"color: #00af00; text-decoration-color: #00af00\">3250</span>)           │    <span style=\"color: #00af00; text-decoration-color: #00af00\">12,190,750</span> │\n",
       "├─────────────────────────────────┼────────────────────────┼───────────────┤\n",
       "│ dense_21 (<span style=\"color: #0087ff; text-decoration-color: #0087ff\">Dense</span>)                │ (<span style=\"color: #00d7ff; text-decoration-color: #00d7ff\">None</span>, <span style=\"color: #00af00; text-decoration-color: #00af00\">2750</span>)           │     <span style=\"color: #00af00; text-decoration-color: #00af00\">8,940,250</span> │\n",
       "├─────────────────────────────────┼────────────────────────┼───────────────┤\n",
       "│ dense_22 (<span style=\"color: #0087ff; text-decoration-color: #0087ff\">Dense</span>)                │ (<span style=\"color: #00d7ff; text-decoration-color: #00d7ff\">None</span>, <span style=\"color: #00af00; text-decoration-color: #00af00\">2250</span>)           │     <span style=\"color: #00af00; text-decoration-color: #00af00\">6,189,750</span> │\n",
       "├─────────────────────────────────┼────────────────────────┼───────────────┤\n",
       "│ dense_23 (<span style=\"color: #0087ff; text-decoration-color: #0087ff\">Dense</span>)                │ (<span style=\"color: #00d7ff; text-decoration-color: #00d7ff\">None</span>, <span style=\"color: #00af00; text-decoration-color: #00af00\">1275</span>)           │     <span style=\"color: #00af00; text-decoration-color: #00af00\">2,870,025</span> │\n",
       "├─────────────────────────────────┼────────────────────────┼───────────────┤\n",
       "│ dense_24 (<span style=\"color: #0087ff; text-decoration-color: #0087ff\">Dense</span>)                │ (<span style=\"color: #00d7ff; text-decoration-color: #00d7ff\">None</span>, <span style=\"color: #00af00; text-decoration-color: #00af00\">425</span>)            │       <span style=\"color: #00af00; text-decoration-color: #00af00\">542,300</span> │\n",
       "├─────────────────────────────────┼────────────────────────┼───────────────┤\n",
       "│ dense_25 (<span style=\"color: #0087ff; text-decoration-color: #0087ff\">Dense</span>)                │ (<span style=\"color: #00d7ff; text-decoration-color: #00d7ff\">None</span>, <span style=\"color: #00af00; text-decoration-color: #00af00\">50</span>)             │        <span style=\"color: #00af00; text-decoration-color: #00af00\">21,300</span> │\n",
       "├─────────────────────────────────┼────────────────────────┼───────────────┤\n",
       "│ dense_26 (<span style=\"color: #0087ff; text-decoration-color: #0087ff\">Dense</span>)                │ (<span style=\"color: #00d7ff; text-decoration-color: #00d7ff\">None</span>, <span style=\"color: #00af00; text-decoration-color: #00af00\">3</span>)              │           <span style=\"color: #00af00; text-decoration-color: #00af00\">153</span> │\n",
       "└─────────────────────────────────┴────────────────────────┴───────────────┘\n",
       "</pre>\n"
      ],
      "text/plain": [
       "┏━━━━━━━━━━━━━━━━━━━━━━━━━━━━━━━━━┳━━━━━━━━━━━━━━━━━━━━━━━━┳━━━━━━━━━━━━━━━┓\n",
       "┃\u001b[1m \u001b[0m\u001b[1mLayer (type)                   \u001b[0m\u001b[1m \u001b[0m┃\u001b[1m \u001b[0m\u001b[1mOutput Shape          \u001b[0m\u001b[1m \u001b[0m┃\u001b[1m \u001b[0m\u001b[1m      Param #\u001b[0m\u001b[1m \u001b[0m┃\n",
       "┡━━━━━━━━━━━━━━━━━━━━━━━━━━━━━━━━━╇━━━━━━━━━━━━━━━━━━━━━━━━╇━━━━━━━━━━━━━━━┩\n",
       "│ embedding_4 (\u001b[38;5;33mEmbedding\u001b[0m)         │ (\u001b[38;5;45mNone\u001b[0m, \u001b[38;5;34m425\u001b[0m, \u001b[38;5;34m19\u001b[0m)        │     \u001b[38;5;34m1,623,246\u001b[0m │\n",
       "├─────────────────────────────────┼────────────────────────┼───────────────┤\n",
       "│ simple_rnn_6 (\u001b[38;5;33mSimpleRNN\u001b[0m)        │ (\u001b[38;5;45mNone\u001b[0m, \u001b[38;5;34m425\u001b[0m, \u001b[38;5;34m425\u001b[0m)       │       \u001b[38;5;34m189,125\u001b[0m │\n",
       "├─────────────────────────────────┼────────────────────────┼───────────────┤\n",
       "│ simple_rnn_7 (\u001b[38;5;33mSimpleRNN\u001b[0m)        │ (\u001b[38;5;45mNone\u001b[0m, \u001b[38;5;34m425\u001b[0m)            │       \u001b[38;5;34m361,675\u001b[0m │\n",
       "├─────────────────────────────────┼────────────────────────┼───────────────┤\n",
       "│ dense_18 (\u001b[38;5;33mDense\u001b[0m)                │ (\u001b[38;5;45mNone\u001b[0m, \u001b[38;5;34m4250\u001b[0m)           │     \u001b[38;5;34m1,810,500\u001b[0m │\n",
       "├─────────────────────────────────┼────────────────────────┼───────────────┤\n",
       "│ dense_19 (\u001b[38;5;33mDense\u001b[0m)                │ (\u001b[38;5;45mNone\u001b[0m, \u001b[38;5;34m3750\u001b[0m)           │    \u001b[38;5;34m15,941,250\u001b[0m │\n",
       "├─────────────────────────────────┼────────────────────────┼───────────────┤\n",
       "│ dense_20 (\u001b[38;5;33mDense\u001b[0m)                │ (\u001b[38;5;45mNone\u001b[0m, \u001b[38;5;34m3250\u001b[0m)           │    \u001b[38;5;34m12,190,750\u001b[0m │\n",
       "├─────────────────────────────────┼────────────────────────┼───────────────┤\n",
       "│ dense_21 (\u001b[38;5;33mDense\u001b[0m)                │ (\u001b[38;5;45mNone\u001b[0m, \u001b[38;5;34m2750\u001b[0m)           │     \u001b[38;5;34m8,940,250\u001b[0m │\n",
       "├─────────────────────────────────┼────────────────────────┼───────────────┤\n",
       "│ dense_22 (\u001b[38;5;33mDense\u001b[0m)                │ (\u001b[38;5;45mNone\u001b[0m, \u001b[38;5;34m2250\u001b[0m)           │     \u001b[38;5;34m6,189,750\u001b[0m │\n",
       "├─────────────────────────────────┼────────────────────────┼───────────────┤\n",
       "│ dense_23 (\u001b[38;5;33mDense\u001b[0m)                │ (\u001b[38;5;45mNone\u001b[0m, \u001b[38;5;34m1275\u001b[0m)           │     \u001b[38;5;34m2,870,025\u001b[0m │\n",
       "├─────────────────────────────────┼────────────────────────┼───────────────┤\n",
       "│ dense_24 (\u001b[38;5;33mDense\u001b[0m)                │ (\u001b[38;5;45mNone\u001b[0m, \u001b[38;5;34m425\u001b[0m)            │       \u001b[38;5;34m542,300\u001b[0m │\n",
       "├─────────────────────────────────┼────────────────────────┼───────────────┤\n",
       "│ dense_25 (\u001b[38;5;33mDense\u001b[0m)                │ (\u001b[38;5;45mNone\u001b[0m, \u001b[38;5;34m50\u001b[0m)             │        \u001b[38;5;34m21,300\u001b[0m │\n",
       "├─────────────────────────────────┼────────────────────────┼───────────────┤\n",
       "│ dense_26 (\u001b[38;5;33mDense\u001b[0m)                │ (\u001b[38;5;45mNone\u001b[0m, \u001b[38;5;34m3\u001b[0m)              │           \u001b[38;5;34m153\u001b[0m │\n",
       "└─────────────────────────────────┴────────────────────────┴───────────────┘\n"
      ]
     },
     "metadata": {},
     "output_type": "display_data"
    },
    {
     "data": {
      "text/html": [
       "<pre style=\"white-space:pre;overflow-x:auto;line-height:normal;font-family:Menlo,'DejaVu Sans Mono',consolas,'Courier New',monospace\"><span style=\"font-weight: bold\"> Total params: </span><span style=\"color: #00af00; text-decoration-color: #00af00\">50,680,324</span> (193.33 MB)\n",
       "</pre>\n"
      ],
      "text/plain": [
       "\u001b[1m Total params: \u001b[0m\u001b[38;5;34m50,680,324\u001b[0m (193.33 MB)\n"
      ]
     },
     "metadata": {},
     "output_type": "display_data"
    },
    {
     "data": {
      "text/html": [
       "<pre style=\"white-space:pre;overflow-x:auto;line-height:normal;font-family:Menlo,'DejaVu Sans Mono',consolas,'Courier New',monospace\"><span style=\"font-weight: bold\"> Trainable params: </span><span style=\"color: #00af00; text-decoration-color: #00af00\">50,680,324</span> (193.33 MB)\n",
       "</pre>\n"
      ],
      "text/plain": [
       "\u001b[1m Trainable params: \u001b[0m\u001b[38;5;34m50,680,324\u001b[0m (193.33 MB)\n"
      ]
     },
     "metadata": {},
     "output_type": "display_data"
    },
    {
     "data": {
      "text/html": [
       "<pre style=\"white-space:pre;overflow-x:auto;line-height:normal;font-family:Menlo,'DejaVu Sans Mono',consolas,'Courier New',monospace\"><span style=\"font-weight: bold\"> Non-trainable params: </span><span style=\"color: #00af00; text-decoration-color: #00af00\">0</span> (0.00 B)\n",
       "</pre>\n"
      ],
      "text/plain": [
       "\u001b[1m Non-trainable params: \u001b[0m\u001b[38;5;34m0\u001b[0m (0.00 B)\n"
      ]
     },
     "metadata": {},
     "output_type": "display_data"
    },
    {
     "name": "stdout",
     "output_type": "stream",
     "text": [
      "None\n"
     ]
    }
   ],
   "source": [
    "model = Sequential()\n",
    "model.add(Input(shape=(425,)))\n",
    "model.add(Embedding(vocab_size, 19))\n",
    "model.add(SimpleRNN(425, activation='relu', dropout=.1, return_sequences=True))\n",
    "model.add(SimpleRNN(425, activation='relu', dropout=.1))\n",
    "model.add(Dense(4250, activation = \"relu\"))\n",
    "model.add(Dense(3750, activation = \"relu\"))\n",
    "model.add(Dense(3250, activation = \"relu\"))\n",
    "model.add(Dense(2750, activation = \"relu\"))\n",
    "model.add(Dense(2250, activation = \"relu\"))\n",
    "model.add(Dense(1275, activation = \"relu\"))\n",
    "model.add(Dense(425, activation = \"relu\"))\n",
    "model.add(Dense(50, activation = \"relu\"))\n",
    "model.add(Dense(3, activation='softmax'))\n",
    "model.compile(optimizer= 'RMSprop', loss= 'mse', metrics=['accuracy'])\n",
    "print(model.summary())"
   ]
  },
  {
   "cell_type": "code",
   "execution_count": 116,
   "id": "63d29599",
   "metadata": {},
   "outputs": [
    {
     "ename": "MemoryError",
     "evalue": "Unable to allocate 127. GiB for an array with shape (39975075, 425) and data type float64",
     "output_type": "error",
     "traceback": [
      "\u001b[31m---------------------------------------------------------------------------\u001b[39m",
      "\u001b[31mMemoryError\u001b[39m                               Traceback (most recent call last)",
      "\u001b[36mCell\u001b[39m\u001b[36m \u001b[39m\u001b[32mIn[116]\u001b[39m\u001b[32m, line 2\u001b[39m\n\u001b[32m      1\u001b[39m num_classes = \u001b[32m425\u001b[39m\n\u001b[32m----> \u001b[39m\u001b[32m2\u001b[39m y_train = \u001b[43mto_categorical\u001b[49m\u001b[43m(\u001b[49m\u001b[43my_train\u001b[49m\u001b[43m,\u001b[49m\u001b[43m \u001b[49m\u001b[43mnum_classes\u001b[49m\u001b[43m=\u001b[49m\u001b[43mnum_classes\u001b[49m\u001b[43m)\u001b[49m\n\u001b[32m      3\u001b[39m y_test = to_categorical(y_test, num_classes=num_classes)\n\u001b[32m      4\u001b[39m y_val = to_categorical(y_valid, num_classes=num_classes)\n",
      "\u001b[36mFile \u001b[39m\u001b[32mc:\\Users\\charlesrowe\\AppData\\Local\\Programs\\Python\\Python312\\Lib\\site-packages\\keras\\src\\utils\\numerical_utils.py:98\u001b[39m, in \u001b[36mto_categorical\u001b[39m\u001b[34m(x, num_classes)\u001b[39m\n\u001b[32m     96\u001b[39m     num_classes = np.max(x) + \u001b[32m1\u001b[39m\n\u001b[32m     97\u001b[39m batch_size = x.shape[\u001b[32m0\u001b[39m]\n\u001b[32m---> \u001b[39m\u001b[32m98\u001b[39m categorical = \u001b[43mnp\u001b[49m\u001b[43m.\u001b[49m\u001b[43mzeros\u001b[49m\u001b[43m(\u001b[49m\u001b[43m(\u001b[49m\u001b[43mbatch_size\u001b[49m\u001b[43m,\u001b[49m\u001b[43m \u001b[49m\u001b[43mnum_classes\u001b[49m\u001b[43m)\u001b[49m\u001b[43m)\u001b[49m\n\u001b[32m     99\u001b[39m categorical[np.arange(batch_size), x] = \u001b[32m1\u001b[39m\n\u001b[32m    100\u001b[39m output_shape = input_shape + (num_classes,)\n",
      "\u001b[31mMemoryError\u001b[39m: Unable to allocate 127. GiB for an array with shape (39975075, 425) and data type float64"
     ]
    }
   ],
   "source": [
    "num_classes = 425\n",
    "y_train = to_categorical(y_train, num_classes=num_classes)\n",
    "y_test = to_categorical(y_test, num_classes=num_classes)\n",
    "y_val = to_categorical(y_valid, num_classes=num_classes)\n",
    "print(X_test_pad.shape)\n",
    "print(X_train_pad.shape)\n",
    "print(X_val_pad.shape)\n",
    "print(y_train.shape)\n",
    "print(y_test.shape)\n",
    "print(y_val.shape)"
   ]
  },
  {
   "cell_type": "code",
   "execution_count": null,
   "id": "891357cc",
   "metadata": {},
   "outputs": [
    {
     "ename": "KeyboardInterrupt",
     "evalue": "",
     "output_type": "error",
     "traceback": [
      "\u001b[31m---------------------------------------------------------------------------\u001b[39m",
      "\u001b[31mKeyboardInterrupt\u001b[39m                         Traceback (most recent call last)",
      "\u001b[31mKeyboardInterrupt\u001b[39m: "
     ]
    }
   ],
   "source": [
    "import random\n",
    "\n",
    "X_train_pad = X_train_pad.tolist()\n",
    "y_train = y_train.tolist()\n",
    "\n",
    "def pop_data(set, number):\n",
    "    i = 0\n",
    "    while i <= number:\n",
    "        rng = random.choice(set)\n",
    "        set.remove(rng)\n",
    "        i+=1\n",
    "    set = np.array(set)\n",
    "\n",
    "pop_data(X_train_pad, 411)\n",
    "pop_data(y_train, 411)\n",
    "\n",
    "X_train_pad = np.array(X_train_pad)\n",
    "y_train = np.array(y_train)\n",
    "\n",
    "print(X_test_pad.shape)\n",
    "print(X_train_pad.shape)\n",
    "print(X_val_pad.shape)\n",
    "print(y_train.shape)\n",
    "print(y_test.shape)\n",
    "print(y_val.shape)\n",
    "\n",
    "X_test_pad = X_test_pad.reshape(6748,425,3)\n",
    "X_train_pad = X_train_pad.reshape(31353,425,3)\n",
    "y_train = y_train.reshape(31353,425,3)\n",
    "y_test = y_test.reshape(6748,425,3)\n",
    "X_val_pad = X_val_pad.reshape(6748,425,3)\n",
    "y_val = y_val.reshape(6748,425,3)\n",
    "\n",
    "print(X_test_pad.shape)\n",
    "print(X_train_pad.shape)\n",
    "print(y_train.shape)\n",
    "print(y_test.shape)"
   ]
  },
  {
   "cell_type": "code",
   "execution_count": null,
   "id": "f6e4e3e1",
   "metadata": {},
   "outputs": [
    {
     "name": "stdout",
     "output_type": "stream",
     "text": [
      "Epoch 1/15\n"
     ]
    },
    {
     "name": "stderr",
     "output_type": "stream",
     "text": [
      "c:\\Users\\charlesrowe\\AppData\\Local\\Programs\\Python\\Python312\\Lib\\site-packages\\keras\\src\\optimizers\\base_optimizer.py:774: UserWarning: Gradients do not exist for variables ['sequential/simple_rnn/simple_rnn_cell/kernel', 'sequential/simple_rnn/simple_rnn_cell/recurrent_kernel', 'sequential/simple_rnn/simple_rnn_cell/bias'] when minimizing the loss. If using `model.compile()`, did you forget to provide a `loss` argument?\n",
      "  warnings.warn(\n"
     ]
    },
    {
     "name": "stdout",
     "output_type": "stream",
     "text": [
      "\u001b[1m980/980\u001b[0m \u001b[32m━━━━━━━━━━━━━━━━━━━━\u001b[0m\u001b[37m\u001b[0m \u001b[1m2622s\u001b[0m 3s/step - accuracy: 0.3976 - loss: 111178096.0000 - val_accuracy: 0.9953 - val_loss: 3144420352.0000\n",
      "Epoch 2/15\n",
      "\u001b[1m980/980\u001b[0m \u001b[32m━━━━━━━━━━━━━━━━━━━━\u001b[0m\u001b[37m\u001b[0m \u001b[1m2557s\u001b[0m 3s/step - accuracy: 0.3370 - loss: 14527492096.0000 - val_accuracy: 0.9953 - val_loss: 123708358656.0000\n",
      "Epoch 3/15\n",
      "\u001b[1m980/980\u001b[0m \u001b[32m━━━━━━━━━━━━━━━━━━━━\u001b[0m\u001b[37m\u001b[0m \u001b[1m2184s\u001b[0m 2s/step - accuracy: 0.3433 - loss: 171700027392.0000 - val_accuracy: 0.0024 - val_loss: 267071913984.0000\n",
      "Epoch 4/15\n",
      "\u001b[1m 17/980\u001b[0m \u001b[37m━━━━━━━━━━━━━━━━━━━━\u001b[0m \u001b[1m32:31\u001b[0m 2s/step - accuracy: 0.4770 - loss: 724050640896.0000"
     ]
    },
    {
     "ename": "KeyboardInterrupt",
     "evalue": "",
     "output_type": "error",
     "traceback": [
      "\u001b[31m---------------------------------------------------------------------------\u001b[39m",
      "\u001b[31mKeyboardInterrupt\u001b[39m                         Traceback (most recent call last)",
      "\u001b[36mCell\u001b[39m\u001b[36m \u001b[39m\u001b[32mIn[111]\u001b[39m\u001b[32m, line 2\u001b[39m\n\u001b[32m      1\u001b[39m early_stop_check = EarlyStopping(monitor=\u001b[33m'\u001b[39m\u001b[33maccuracy\u001b[39m\u001b[33m'\u001b[39m, patience=\u001b[32m3\u001b[39m)\n\u001b[32m----> \u001b[39m\u001b[32m2\u001b[39m results = \u001b[43mmodel\u001b[49m\u001b[43m.\u001b[49m\u001b[43mfit\u001b[49m\u001b[43m(\u001b[49m\u001b[43mX_train_pad\u001b[49m\u001b[43m,\u001b[49m\u001b[43m \u001b[49m\u001b[43my_train\u001b[49m\u001b[43m,\u001b[49m\u001b[43m \u001b[49m\u001b[43mvalidation_data\u001b[49m\u001b[43m \u001b[49m\u001b[43m=\u001b[49m\u001b[43m \u001b[49m\u001b[43m(\u001b[49m\u001b[43mX_val_pad\u001b[49m\u001b[43m,\u001b[49m\u001b[43m \u001b[49m\u001b[43my_val\u001b[49m\u001b[43m)\u001b[49m\u001b[43m,\u001b[49m\u001b[43m \u001b[49m\u001b[43mepochs\u001b[49m\u001b[43m=\u001b[49m\u001b[32;43m15\u001b[39;49m\u001b[43m,\u001b[49m\u001b[43m \u001b[49m\u001b[43mcallbacks\u001b[49m\u001b[43m=\u001b[49m\u001b[43mearly_stop_check\u001b[49m\u001b[43m)\u001b[49m\n",
      "\u001b[36mFile \u001b[39m\u001b[32mc:\\Users\\charlesrowe\\AppData\\Local\\Programs\\Python\\Python312\\Lib\\site-packages\\keras\\src\\utils\\traceback_utils.py:117\u001b[39m, in \u001b[36mfilter_traceback.<locals>.error_handler\u001b[39m\u001b[34m(*args, **kwargs)\u001b[39m\n\u001b[32m    115\u001b[39m filtered_tb = \u001b[38;5;28;01mNone\u001b[39;00m\n\u001b[32m    116\u001b[39m \u001b[38;5;28;01mtry\u001b[39;00m:\n\u001b[32m--> \u001b[39m\u001b[32m117\u001b[39m     \u001b[38;5;28;01mreturn\u001b[39;00m \u001b[43mfn\u001b[49m\u001b[43m(\u001b[49m\u001b[43m*\u001b[49m\u001b[43margs\u001b[49m\u001b[43m,\u001b[49m\u001b[43m \u001b[49m\u001b[43m*\u001b[49m\u001b[43m*\u001b[49m\u001b[43mkwargs\u001b[49m\u001b[43m)\u001b[49m\n\u001b[32m    118\u001b[39m \u001b[38;5;28;01mexcept\u001b[39;00m \u001b[38;5;167;01mException\u001b[39;00m \u001b[38;5;28;01mas\u001b[39;00m e:\n\u001b[32m    119\u001b[39m     filtered_tb = _process_traceback_frames(e.__traceback__)\n",
      "\u001b[36mFile \u001b[39m\u001b[32mc:\\Users\\charlesrowe\\AppData\\Local\\Programs\\Python\\Python312\\Lib\\site-packages\\keras\\src\\backend\\tensorflow\\trainer.py:371\u001b[39m, in \u001b[36mTensorFlowTrainer.fit\u001b[39m\u001b[34m(self, x, y, batch_size, epochs, verbose, callbacks, validation_split, validation_data, shuffle, class_weight, sample_weight, initial_epoch, steps_per_epoch, validation_steps, validation_batch_size, validation_freq)\u001b[39m\n\u001b[32m    369\u001b[39m \u001b[38;5;28;01mfor\u001b[39;00m step, iterator \u001b[38;5;129;01min\u001b[39;00m epoch_iterator:\n\u001b[32m    370\u001b[39m     callbacks.on_train_batch_begin(step)\n\u001b[32m--> \u001b[39m\u001b[32m371\u001b[39m     logs = \u001b[38;5;28;43mself\u001b[39;49m\u001b[43m.\u001b[49m\u001b[43mtrain_function\u001b[49m\u001b[43m(\u001b[49m\u001b[43miterator\u001b[49m\u001b[43m)\u001b[49m\n\u001b[32m    372\u001b[39m     callbacks.on_train_batch_end(step, logs)\n\u001b[32m    373\u001b[39m     \u001b[38;5;28;01mif\u001b[39;00m \u001b[38;5;28mself\u001b[39m.stop_training:\n",
      "\u001b[36mFile \u001b[39m\u001b[32mc:\\Users\\charlesrowe\\AppData\\Local\\Programs\\Python\\Python312\\Lib\\site-packages\\keras\\src\\backend\\tensorflow\\trainer.py:219\u001b[39m, in \u001b[36mTensorFlowTrainer._make_function.<locals>.function\u001b[39m\u001b[34m(iterator)\u001b[39m\n\u001b[32m    215\u001b[39m \u001b[38;5;28;01mdef\u001b[39;00m \u001b[34mfunction\u001b[39m(iterator):\n\u001b[32m    216\u001b[39m     \u001b[38;5;28;01mif\u001b[39;00m \u001b[38;5;28misinstance\u001b[39m(\n\u001b[32m    217\u001b[39m         iterator, (tf.data.Iterator, tf.distribute.DistributedIterator)\n\u001b[32m    218\u001b[39m     ):\n\u001b[32m--> \u001b[39m\u001b[32m219\u001b[39m         opt_outputs = \u001b[43mmulti_step_on_iterator\u001b[49m\u001b[43m(\u001b[49m\u001b[43miterator\u001b[49m\u001b[43m)\u001b[49m\n\u001b[32m    220\u001b[39m         \u001b[38;5;28;01mif\u001b[39;00m \u001b[38;5;129;01mnot\u001b[39;00m opt_outputs.has_value():\n\u001b[32m    221\u001b[39m             \u001b[38;5;28;01mraise\u001b[39;00m \u001b[38;5;167;01mStopIteration\u001b[39;00m\n",
      "\u001b[36mFile \u001b[39m\u001b[32mc:\\Users\\charlesrowe\\AppData\\Local\\Programs\\Python\\Python312\\Lib\\site-packages\\tensorflow\\python\\util\\traceback_utils.py:150\u001b[39m, in \u001b[36mfilter_traceback.<locals>.error_handler\u001b[39m\u001b[34m(*args, **kwargs)\u001b[39m\n\u001b[32m    148\u001b[39m filtered_tb = \u001b[38;5;28;01mNone\u001b[39;00m\n\u001b[32m    149\u001b[39m \u001b[38;5;28;01mtry\u001b[39;00m:\n\u001b[32m--> \u001b[39m\u001b[32m150\u001b[39m   \u001b[38;5;28;01mreturn\u001b[39;00m \u001b[43mfn\u001b[49m\u001b[43m(\u001b[49m\u001b[43m*\u001b[49m\u001b[43margs\u001b[49m\u001b[43m,\u001b[49m\u001b[43m \u001b[49m\u001b[43m*\u001b[49m\u001b[43m*\u001b[49m\u001b[43mkwargs\u001b[49m\u001b[43m)\u001b[49m\n\u001b[32m    151\u001b[39m \u001b[38;5;28;01mexcept\u001b[39;00m \u001b[38;5;167;01mException\u001b[39;00m \u001b[38;5;28;01mas\u001b[39;00m e:\n\u001b[32m    152\u001b[39m   filtered_tb = _process_traceback_frames(e.__traceback__)\n",
      "\u001b[36mFile \u001b[39m\u001b[32mc:\\Users\\charlesrowe\\AppData\\Local\\Programs\\Python\\Python312\\Lib\\site-packages\\tensorflow\\python\\eager\\polymorphic_function\\polymorphic_function.py:833\u001b[39m, in \u001b[36mFunction.__call__\u001b[39m\u001b[34m(self, *args, **kwds)\u001b[39m\n\u001b[32m    830\u001b[39m compiler = \u001b[33m\"\u001b[39m\u001b[33mxla\u001b[39m\u001b[33m\"\u001b[39m \u001b[38;5;28;01mif\u001b[39;00m \u001b[38;5;28mself\u001b[39m._jit_compile \u001b[38;5;28;01melse\u001b[39;00m \u001b[33m\"\u001b[39m\u001b[33mnonXla\u001b[39m\u001b[33m\"\u001b[39m\n\u001b[32m    832\u001b[39m \u001b[38;5;28;01mwith\u001b[39;00m OptionalXlaContext(\u001b[38;5;28mself\u001b[39m._jit_compile):\n\u001b[32m--> \u001b[39m\u001b[32m833\u001b[39m   result = \u001b[38;5;28;43mself\u001b[39;49m\u001b[43m.\u001b[49m\u001b[43m_call\u001b[49m\u001b[43m(\u001b[49m\u001b[43m*\u001b[49m\u001b[43margs\u001b[49m\u001b[43m,\u001b[49m\u001b[43m \u001b[49m\u001b[43m*\u001b[49m\u001b[43m*\u001b[49m\u001b[43mkwds\u001b[49m\u001b[43m)\u001b[49m\n\u001b[32m    835\u001b[39m new_tracing_count = \u001b[38;5;28mself\u001b[39m.experimental_get_tracing_count()\n\u001b[32m    836\u001b[39m without_tracing = (tracing_count == new_tracing_count)\n",
      "\u001b[36mFile \u001b[39m\u001b[32mc:\\Users\\charlesrowe\\AppData\\Local\\Programs\\Python\\Python312\\Lib\\site-packages\\tensorflow\\python\\eager\\polymorphic_function\\polymorphic_function.py:878\u001b[39m, in \u001b[36mFunction._call\u001b[39m\u001b[34m(self, *args, **kwds)\u001b[39m\n\u001b[32m    875\u001b[39m \u001b[38;5;28mself\u001b[39m._lock.release()\n\u001b[32m    876\u001b[39m \u001b[38;5;66;03m# In this case we have not created variables on the first call. So we can\u001b[39;00m\n\u001b[32m    877\u001b[39m \u001b[38;5;66;03m# run the first trace but we should fail if variables are created.\u001b[39;00m\n\u001b[32m--> \u001b[39m\u001b[32m878\u001b[39m results = \u001b[43mtracing_compilation\u001b[49m\u001b[43m.\u001b[49m\u001b[43mcall_function\u001b[49m\u001b[43m(\u001b[49m\n\u001b[32m    879\u001b[39m \u001b[43m    \u001b[49m\u001b[43margs\u001b[49m\u001b[43m,\u001b[49m\u001b[43m \u001b[49m\u001b[43mkwds\u001b[49m\u001b[43m,\u001b[49m\u001b[43m \u001b[49m\u001b[38;5;28;43mself\u001b[39;49m\u001b[43m.\u001b[49m\u001b[43m_variable_creation_config\u001b[49m\n\u001b[32m    880\u001b[39m \u001b[43m\u001b[49m\u001b[43m)\u001b[49m\n\u001b[32m    881\u001b[39m \u001b[38;5;28;01mif\u001b[39;00m \u001b[38;5;28mself\u001b[39m._created_variables:\n\u001b[32m    882\u001b[39m   \u001b[38;5;28;01mraise\u001b[39;00m \u001b[38;5;167;01mValueError\u001b[39;00m(\u001b[33m\"\u001b[39m\u001b[33mCreating variables on a non-first call to a function\u001b[39m\u001b[33m\"\u001b[39m\n\u001b[32m    883\u001b[39m                    \u001b[33m\"\u001b[39m\u001b[33m decorated with tf.function.\u001b[39m\u001b[33m\"\u001b[39m)\n",
      "\u001b[36mFile \u001b[39m\u001b[32mc:\\Users\\charlesrowe\\AppData\\Local\\Programs\\Python\\Python312\\Lib\\site-packages\\tensorflow\\python\\eager\\polymorphic_function\\tracing_compilation.py:139\u001b[39m, in \u001b[36mcall_function\u001b[39m\u001b[34m(args, kwargs, tracing_options)\u001b[39m\n\u001b[32m    137\u001b[39m bound_args = function.function_type.bind(*args, **kwargs)\n\u001b[32m    138\u001b[39m flat_inputs = function.function_type.unpack_inputs(bound_args)\n\u001b[32m--> \u001b[39m\u001b[32m139\u001b[39m \u001b[38;5;28;01mreturn\u001b[39;00m \u001b[43mfunction\u001b[49m\u001b[43m.\u001b[49m\u001b[43m_call_flat\u001b[49m\u001b[43m(\u001b[49m\u001b[43m  \u001b[49m\u001b[38;5;66;43;03m# pylint: disable=protected-access\u001b[39;49;00m\n\u001b[32m    140\u001b[39m \u001b[43m    \u001b[49m\u001b[43mflat_inputs\u001b[49m\u001b[43m,\u001b[49m\u001b[43m \u001b[49m\u001b[43mcaptured_inputs\u001b[49m\u001b[43m=\u001b[49m\u001b[43mfunction\u001b[49m\u001b[43m.\u001b[49m\u001b[43mcaptured_inputs\u001b[49m\n\u001b[32m    141\u001b[39m \u001b[43m\u001b[49m\u001b[43m)\u001b[49m\n",
      "\u001b[36mFile \u001b[39m\u001b[32mc:\\Users\\charlesrowe\\AppData\\Local\\Programs\\Python\\Python312\\Lib\\site-packages\\tensorflow\\python\\eager\\polymorphic_function\\concrete_function.py:1322\u001b[39m, in \u001b[36mConcreteFunction._call_flat\u001b[39m\u001b[34m(self, tensor_inputs, captured_inputs)\u001b[39m\n\u001b[32m   1318\u001b[39m possible_gradient_type = gradients_util.PossibleTapeGradientTypes(args)\n\u001b[32m   1319\u001b[39m \u001b[38;5;28;01mif\u001b[39;00m (possible_gradient_type == gradients_util.POSSIBLE_GRADIENT_TYPES_NONE\n\u001b[32m   1320\u001b[39m     \u001b[38;5;129;01mand\u001b[39;00m executing_eagerly):\n\u001b[32m   1321\u001b[39m   \u001b[38;5;66;03m# No tape is watching; skip to running the function.\u001b[39;00m\n\u001b[32m-> \u001b[39m\u001b[32m1322\u001b[39m   \u001b[38;5;28;01mreturn\u001b[39;00m \u001b[38;5;28;43mself\u001b[39;49m\u001b[43m.\u001b[49m\u001b[43m_inference_function\u001b[49m\u001b[43m.\u001b[49m\u001b[43mcall_preflattened\u001b[49m\u001b[43m(\u001b[49m\u001b[43margs\u001b[49m\u001b[43m)\u001b[49m\n\u001b[32m   1323\u001b[39m forward_backward = \u001b[38;5;28mself\u001b[39m._select_forward_and_backward_functions(\n\u001b[32m   1324\u001b[39m     args,\n\u001b[32m   1325\u001b[39m     possible_gradient_type,\n\u001b[32m   1326\u001b[39m     executing_eagerly)\n\u001b[32m   1327\u001b[39m forward_function, args_with_tangents = forward_backward.forward()\n",
      "\u001b[36mFile \u001b[39m\u001b[32mc:\\Users\\charlesrowe\\AppData\\Local\\Programs\\Python\\Python312\\Lib\\site-packages\\tensorflow\\python\\eager\\polymorphic_function\\atomic_function.py:216\u001b[39m, in \u001b[36mAtomicFunction.call_preflattened\u001b[39m\u001b[34m(self, args)\u001b[39m\n\u001b[32m    214\u001b[39m \u001b[38;5;28;01mdef\u001b[39;00m \u001b[34mcall_preflattened\u001b[39m(\u001b[38;5;28mself\u001b[39m, args: Sequence[core.Tensor]) -> Any:\n\u001b[32m    215\u001b[39m \u001b[38;5;250m  \u001b[39m\u001b[33;03m\"\"\"Calls with flattened tensor inputs and returns the structured output.\"\"\"\u001b[39;00m\n\u001b[32m--> \u001b[39m\u001b[32m216\u001b[39m   flat_outputs = \u001b[38;5;28;43mself\u001b[39;49m\u001b[43m.\u001b[49m\u001b[43mcall_flat\u001b[49m\u001b[43m(\u001b[49m\u001b[43m*\u001b[49m\u001b[43margs\u001b[49m\u001b[43m)\u001b[49m\n\u001b[32m    217\u001b[39m   \u001b[38;5;28;01mreturn\u001b[39;00m \u001b[38;5;28mself\u001b[39m.function_type.pack_output(flat_outputs)\n",
      "\u001b[36mFile \u001b[39m\u001b[32mc:\\Users\\charlesrowe\\AppData\\Local\\Programs\\Python\\Python312\\Lib\\site-packages\\tensorflow\\python\\eager\\polymorphic_function\\atomic_function.py:251\u001b[39m, in \u001b[36mAtomicFunction.call_flat\u001b[39m\u001b[34m(self, *args)\u001b[39m\n\u001b[32m    249\u001b[39m \u001b[38;5;28;01mwith\u001b[39;00m record.stop_recording():\n\u001b[32m    250\u001b[39m   \u001b[38;5;28;01mif\u001b[39;00m \u001b[38;5;28mself\u001b[39m._bound_context.executing_eagerly():\n\u001b[32m--> \u001b[39m\u001b[32m251\u001b[39m     outputs = \u001b[38;5;28;43mself\u001b[39;49m\u001b[43m.\u001b[49m\u001b[43m_bound_context\u001b[49m\u001b[43m.\u001b[49m\u001b[43mcall_function\u001b[49m\u001b[43m(\u001b[49m\n\u001b[32m    252\u001b[39m \u001b[43m        \u001b[49m\u001b[38;5;28;43mself\u001b[39;49m\u001b[43m.\u001b[49m\u001b[43mname\u001b[49m\u001b[43m,\u001b[49m\n\u001b[32m    253\u001b[39m \u001b[43m        \u001b[49m\u001b[38;5;28;43mlist\u001b[39;49m\u001b[43m(\u001b[49m\u001b[43margs\u001b[49m\u001b[43m)\u001b[49m\u001b[43m,\u001b[49m\n\u001b[32m    254\u001b[39m \u001b[43m        \u001b[49m\u001b[38;5;28;43mlen\u001b[39;49m\u001b[43m(\u001b[49m\u001b[38;5;28;43mself\u001b[39;49m\u001b[43m.\u001b[49m\u001b[43mfunction_type\u001b[49m\u001b[43m.\u001b[49m\u001b[43mflat_outputs\u001b[49m\u001b[43m)\u001b[49m\u001b[43m,\u001b[49m\n\u001b[32m    255\u001b[39m \u001b[43m    \u001b[49m\u001b[43m)\u001b[49m\n\u001b[32m    256\u001b[39m   \u001b[38;5;28;01melse\u001b[39;00m:\n\u001b[32m    257\u001b[39m     outputs = make_call_op_in_graph(\n\u001b[32m    258\u001b[39m         \u001b[38;5;28mself\u001b[39m,\n\u001b[32m    259\u001b[39m         \u001b[38;5;28mlist\u001b[39m(args),\n\u001b[32m    260\u001b[39m         \u001b[38;5;28mself\u001b[39m._bound_context.function_call_options.as_attrs(),\n\u001b[32m    261\u001b[39m     )\n",
      "\u001b[36mFile \u001b[39m\u001b[32mc:\\Users\\charlesrowe\\AppData\\Local\\Programs\\Python\\Python312\\Lib\\site-packages\\tensorflow\\python\\eager\\context.py:1688\u001b[39m, in \u001b[36mContext.call_function\u001b[39m\u001b[34m(self, name, tensor_inputs, num_outputs)\u001b[39m\n\u001b[32m   1686\u001b[39m cancellation_context = cancellation.context()\n\u001b[32m   1687\u001b[39m \u001b[38;5;28;01mif\u001b[39;00m cancellation_context \u001b[38;5;129;01mis\u001b[39;00m \u001b[38;5;28;01mNone\u001b[39;00m:\n\u001b[32m-> \u001b[39m\u001b[32m1688\u001b[39m   outputs = \u001b[43mexecute\u001b[49m\u001b[43m.\u001b[49m\u001b[43mexecute\u001b[49m\u001b[43m(\u001b[49m\n\u001b[32m   1689\u001b[39m \u001b[43m      \u001b[49m\u001b[43mname\u001b[49m\u001b[43m.\u001b[49m\u001b[43mdecode\u001b[49m\u001b[43m(\u001b[49m\u001b[33;43m\"\u001b[39;49m\u001b[33;43mutf-8\u001b[39;49m\u001b[33;43m\"\u001b[39;49m\u001b[43m)\u001b[49m\u001b[43m,\u001b[49m\n\u001b[32m   1690\u001b[39m \u001b[43m      \u001b[49m\u001b[43mnum_outputs\u001b[49m\u001b[43m=\u001b[49m\u001b[43mnum_outputs\u001b[49m\u001b[43m,\u001b[49m\n\u001b[32m   1691\u001b[39m \u001b[43m      \u001b[49m\u001b[43minputs\u001b[49m\u001b[43m=\u001b[49m\u001b[43mtensor_inputs\u001b[49m\u001b[43m,\u001b[49m\n\u001b[32m   1692\u001b[39m \u001b[43m      \u001b[49m\u001b[43mattrs\u001b[49m\u001b[43m=\u001b[49m\u001b[43mattrs\u001b[49m\u001b[43m,\u001b[49m\n\u001b[32m   1693\u001b[39m \u001b[43m      \u001b[49m\u001b[43mctx\u001b[49m\u001b[43m=\u001b[49m\u001b[38;5;28;43mself\u001b[39;49m\u001b[43m,\u001b[49m\n\u001b[32m   1694\u001b[39m \u001b[43m  \u001b[49m\u001b[43m)\u001b[49m\n\u001b[32m   1695\u001b[39m \u001b[38;5;28;01melse\u001b[39;00m:\n\u001b[32m   1696\u001b[39m   outputs = execute.execute_with_cancellation(\n\u001b[32m   1697\u001b[39m       name.decode(\u001b[33m\"\u001b[39m\u001b[33mutf-8\u001b[39m\u001b[33m\"\u001b[39m),\n\u001b[32m   1698\u001b[39m       num_outputs=num_outputs,\n\u001b[32m   (...)\u001b[39m\u001b[32m   1702\u001b[39m       cancellation_manager=cancellation_context,\n\u001b[32m   1703\u001b[39m   )\n",
      "\u001b[36mFile \u001b[39m\u001b[32mc:\\Users\\charlesrowe\\AppData\\Local\\Programs\\Python\\Python312\\Lib\\site-packages\\tensorflow\\python\\eager\\execute.py:53\u001b[39m, in \u001b[36mquick_execute\u001b[39m\u001b[34m(op_name, num_outputs, inputs, attrs, ctx, name)\u001b[39m\n\u001b[32m     51\u001b[39m \u001b[38;5;28;01mtry\u001b[39;00m:\n\u001b[32m     52\u001b[39m   ctx.ensure_initialized()\n\u001b[32m---> \u001b[39m\u001b[32m53\u001b[39m   tensors = \u001b[43mpywrap_tfe\u001b[49m\u001b[43m.\u001b[49m\u001b[43mTFE_Py_Execute\u001b[49m\u001b[43m(\u001b[49m\u001b[43mctx\u001b[49m\u001b[43m.\u001b[49m\u001b[43m_handle\u001b[49m\u001b[43m,\u001b[49m\u001b[43m \u001b[49m\u001b[43mdevice_name\u001b[49m\u001b[43m,\u001b[49m\u001b[43m \u001b[49m\u001b[43mop_name\u001b[49m\u001b[43m,\u001b[49m\n\u001b[32m     54\u001b[39m \u001b[43m                                      \u001b[49m\u001b[43minputs\u001b[49m\u001b[43m,\u001b[49m\u001b[43m \u001b[49m\u001b[43mattrs\u001b[49m\u001b[43m,\u001b[49m\u001b[43m \u001b[49m\u001b[43mnum_outputs\u001b[49m\u001b[43m)\u001b[49m\n\u001b[32m     55\u001b[39m \u001b[38;5;28;01mexcept\u001b[39;00m core._NotOkStatusException \u001b[38;5;28;01mas\u001b[39;00m e:\n\u001b[32m     56\u001b[39m   \u001b[38;5;28;01mif\u001b[39;00m name \u001b[38;5;129;01mis\u001b[39;00m \u001b[38;5;129;01mnot\u001b[39;00m \u001b[38;5;28;01mNone\u001b[39;00m:\n",
      "\u001b[31mKeyboardInterrupt\u001b[39m: "
     ]
    }
   ],
   "source": [
    "early_stop_check = EarlyStopping(monitor='accuracy', patience=3)\n",
    "results = model.fit(X_train_pad, y_train, validation_data = (X_val_pad, y_val), epochs=15, callbacks=early_stop_check)"
   ]
  }
 ],
 "metadata": {
  "kernelspec": {
   "display_name": "Python 3",
   "language": "python",
   "name": "python3"
  },
  "language_info": {
   "codemirror_mode": {
    "name": "ipython",
    "version": 3
   },
   "file_extension": ".py",
   "mimetype": "text/x-python",
   "name": "python",
   "nbconvert_exporter": "python",
   "pygments_lexer": "ipython3",
   "version": "3.12.2"
  }
 },
 "nbformat": 4,
 "nbformat_minor": 5
}
