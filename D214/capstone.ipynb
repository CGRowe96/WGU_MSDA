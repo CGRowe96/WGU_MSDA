{
 "cells": [
  {
   "cell_type": "markdown",
   "id": "20f94527",
   "metadata": {},
   "source": [
    "<font size='10'>Opinions of Medical Facilities: A Regional Comparison</font><br>\n",
    "<font size='6'>Companion Notebook</font>\n",
    "\n",
    "<font size='4'>WGU MSDA Program D214 - Charles G. Rowe 006539689</font>"
   ]
  },
  {
   "cell_type": "code",
   "execution_count": 72,
   "id": "fd020e07",
   "metadata": {},
   "outputs": [
    {
     "name": "stderr",
     "output_type": "stream",
     "text": [
      "<>:4: SyntaxWarning: invalid escape sequence '\\M'\n",
      "<>:4: SyntaxWarning: invalid escape sequence '\\M'\n",
      "C:\\Users\\hsgam\\AppData\\Local\\Temp\\ipykernel_2016\\1295670377.py:4: SyntaxWarning: invalid escape sequence '\\M'\n",
      "  directory = os.chdir(\"G:\\My Drive\\Capstone Files\\Datasets\")\n"
     ]
    }
   ],
   "source": [
    "import os\n",
    "import pandas as pd\n",
    "\n",
    "directory = os.chdir(\"G:\\My Drive\\Capstone Files\\Datasets\")"
   ]
  },
  {
   "cell_type": "code",
   "execution_count": 73,
   "id": "e2a8483a",
   "metadata": {},
   "outputs": [
    {
     "data": {
      "text/plain": [
       "Index(['Unnamed: 0', 'Author', 'Review Text', 'Review Rating', 'Date',\n",
       "       'Owner Answer', 'Owner Answer Date', 'Author Profile', 'Author Image',\n",
       "       'Review URL', 'label', 'zip', 'spill1', 'spill2', 'spill3', 'spill4',\n",
       "       'spill5', 'spill7', 'spill7.1', 'spill8', 'state'],\n",
       "      dtype='object')"
      ]
     },
     "execution_count": 73,
     "metadata": {},
     "output_type": "execute_result"
    }
   ],
   "source": [
    "df = pd.read_csv(\"full.csv\")\n",
    "df.columns"
   ]
  },
  {
   "cell_type": "code",
   "execution_count": 74,
   "id": "3a24d0c0",
   "metadata": {},
   "outputs": [
    {
     "data": {
      "text/plain": [
       "Index(['Unnamed: 0', 'Author', 'Review Text', 'Review Rating', 'Date',\n",
       "       'Owner Answer', 'Owner Answer Date', 'Author Profile', 'Author Image',\n",
       "       'Review URL', 'label', 'zip', 'state'],\n",
       "      dtype='object')"
      ]
     },
     "execution_count": 74,
     "metadata": {},
     "output_type": "execute_result"
    }
   ],
   "source": [
    "df = df.drop(columns=[\"spill1\",\"spill2\",\"spill3\",\"spill4\",\"spill5\",\"spill7\",\"spill7.1\",\"spill8\"])\n",
    "df.columns"
   ]
  },
  {
   "cell_type": "code",
   "execution_count": 75,
   "id": "1f0e9869",
   "metadata": {},
   "outputs": [
    {
     "data": {
      "text/plain": [
       "Unnamed: 0                0\n",
       "Author                    7\n",
       "Review Text           24593\n",
       "Review Rating             0\n",
       "Date                      0\n",
       "Owner Answer         118403\n",
       "Owner Answer Date    118403\n",
       "Author Profile            0\n",
       "Author Image              0\n",
       "Review URL                0\n",
       "label                     0\n",
       "zip                       0\n",
       "state                     0\n",
       "dtype: int64"
      ]
     },
     "execution_count": 75,
     "metadata": {},
     "output_type": "execute_result"
    }
   ],
   "source": [
    "num_missing_vals = df.isna().sum()\n",
    "num_missing_vals"
   ]
  },
  {
   "cell_type": "code",
   "execution_count": 76,
   "id": "0b9db5f3",
   "metadata": {},
   "outputs": [
    {
     "data": {
      "text/plain": [
       "np.int64(24593)"
      ]
     },
     "execution_count": 76,
     "metadata": {},
     "output_type": "execute_result"
    }
   ],
   "source": [
    "num_missing_reviews = df['Review Text'].isna().sum()\n",
    "num_missing_reviews"
   ]
  },
  {
   "cell_type": "code",
   "execution_count": 77,
   "id": "b382a328",
   "metadata": {},
   "outputs": [
    {
     "data": {
      "text/plain": [
       "Index(['Unnamed: 0', 'Author', 'Review Text', 'Review Rating', 'Date',\n",
       "       'Owner Answer', 'Owner Answer Date', 'Author Profile', 'Author Image',\n",
       "       'Review URL', 'label', 'zip', 'state'],\n",
       "      dtype='object')"
      ]
     },
     "execution_count": 77,
     "metadata": {},
     "output_type": "execute_result"
    }
   ],
   "source": [
    "df = df.dropna(subset=['Review Text'])\n",
    "df.columns"
   ]
  },
  {
   "cell_type": "code",
   "execution_count": 78,
   "id": "9c830858",
   "metadata": {},
   "outputs": [
    {
     "data": {
      "text/plain": [
       "np.int64(0)"
      ]
     },
     "execution_count": 78,
     "metadata": {},
     "output_type": "execute_result"
    }
   ],
   "source": [
    "num_missing_reviews = df['Review Text'].isna().sum()\n",
    "num_missing_reviews"
   ]
  },
  {
   "cell_type": "code",
   "execution_count": 79,
   "id": "fc5e0192",
   "metadata": {},
   "outputs": [
    {
     "data": {
      "text/plain": [
       "np.int64(101024)"
      ]
     },
     "execution_count": 79,
     "metadata": {},
     "output_type": "execute_result"
    }
   ],
   "source": [
    "num_missing_replies = df['Owner Answer'].isna().sum()\n",
    "num_missing_replies"
   ]
  },
  {
   "cell_type": "code",
   "execution_count": 80,
   "id": "dfda8797",
   "metadata": {},
   "outputs": [
    {
     "data": {
      "text/plain": [
       "np.int64(0)"
      ]
     },
     "execution_count": 80,
     "metadata": {},
     "output_type": "execute_result"
    }
   ],
   "source": [
    "df['Owner Answer'] = df[\"Owner Answer\"].fillna('no answer')\n",
    "num_missing_replies = df['Owner Answer'].isna().sum()\n",
    "num_missing_replies"
   ]
  },
  {
   "cell_type": "code",
   "execution_count": 81,
   "id": "dd49a2ad",
   "metadata": {},
   "outputs": [
    {
     "data": {
      "text/plain": [
       "np.int64(0)"
      ]
     },
     "execution_count": 81,
     "metadata": {},
     "output_type": "execute_result"
    }
   ],
   "source": [
    "df['Owner Answer Date'] = df[\"Owner Answer Date\"].fillna('no date')\n",
    "num_missing_replies = df['Owner Answer Date'].isna().sum()\n",
    "num_missing_replies"
   ]
  },
  {
   "cell_type": "code",
   "execution_count": 82,
   "id": "734ca124",
   "metadata": {},
   "outputs": [
    {
     "data": {
      "text/plain": [
       "np.int64(0)"
      ]
     },
     "execution_count": 82,
     "metadata": {},
     "output_type": "execute_result"
    }
   ],
   "source": [
    "df['Author'] = df[\"Author\"].fillna('anonymous')\n",
    "num_missing_replies = df['Author'].isna().sum()\n",
    "num_missing_replies"
   ]
  },
  {
   "cell_type": "code",
   "execution_count": 83,
   "id": "0f1ba059",
   "metadata": {},
   "outputs": [
    {
     "data": {
      "text/plain": [
       "Unnamed: 0           0\n",
       "Author               0\n",
       "Review Text          0\n",
       "Review Rating        0\n",
       "Date                 0\n",
       "Owner Answer         0\n",
       "Owner Answer Date    0\n",
       "Author Profile       0\n",
       "Author Image         0\n",
       "Review URL           0\n",
       "label                0\n",
       "zip                  0\n",
       "state                0\n",
       "dtype: int64"
      ]
     },
     "execution_count": 83,
     "metadata": {},
     "output_type": "execute_result"
    }
   ],
   "source": [
    "num_missing_vals = df.isna().sum()\n",
    "num_missing_vals"
   ]
  },
  {
   "cell_type": "code",
   "execution_count": 84,
   "id": "9ee3ae27",
   "metadata": {},
   "outputs": [
    {
     "data": {
      "text/plain": [
       "Unnamed: 0.1           int64\n",
       "Unnamed: 0             int64\n",
       "Author                object\n",
       "Review Text           object\n",
       "Review Rating          int64\n",
       "Date                  object\n",
       "Owner Answer          object\n",
       "Owner Answer Date     object\n",
       "Author Profile        object\n",
       "Author Image          object\n",
       "Review URL            object\n",
       "label                 object\n",
       "zip                  float64\n",
       "state                 object\n",
       "dtype: object"
      ]
     },
     "execution_count": 84,
     "metadata": {},
     "output_type": "execute_result"
    }
   ],
   "source": [
    "df.to_csv(\"cleaned_full_df.csv\")\n",
    "df = pd.read_csv(\"cleaned_full_df.csv\")\n",
    "df.dtypes"
   ]
  },
  {
   "cell_type": "code",
   "execution_count": 85,
   "id": "783466a6",
   "metadata": {},
   "outputs": [
    {
     "data": {
      "text/plain": [
       "Index(['Unnamed: 0', 'Author', 'Review Text', 'Review Rating', 'Date',\n",
       "       'Owner Answer', 'Owner Answer Date', 'Author Profile', 'Author Image',\n",
       "       'Review URL', 'label', 'zip', 'state'],\n",
       "      dtype='object')"
      ]
     },
     "execution_count": 85,
     "metadata": {},
     "output_type": "execute_result"
    }
   ],
   "source": [
    "df2 = pd.read_csv(\"new_data.csv\")\n",
    "\n",
    "df2 = df2.drop(columns=[\"spill1\",\"spill2\",\"spill3\",\"spill4\",\"spill5\",\"spill6\",\"spill7\"])\n",
    "df2.columns"
   ]
  },
  {
   "cell_type": "code",
   "execution_count": 86,
   "id": "399542c3",
   "metadata": {},
   "outputs": [
    {
     "data": {
      "text/plain": [
       "Unnamed: 0              0\n",
       "Author                  0\n",
       "Review Text          1185\n",
       "Review Rating           0\n",
       "Date                    0\n",
       "Owner Answer         6377\n",
       "Owner Answer Date    6377\n",
       "Author Profile          0\n",
       "Author Image            0\n",
       "Review URL              0\n",
       "label                   0\n",
       "zip                     0\n",
       "state                   0\n",
       "dtype: int64"
      ]
     },
     "execution_count": 86,
     "metadata": {},
     "output_type": "execute_result"
    }
   ],
   "source": [
    "num_missing_vals = df2.isna().sum()\n",
    "num_missing_vals"
   ]
  },
  {
   "cell_type": "code",
   "execution_count": 87,
   "id": "ca7cc438",
   "metadata": {},
   "outputs": [
    {
     "data": {
      "text/plain": [
       "np.int64(1185)"
      ]
     },
     "execution_count": 87,
     "metadata": {},
     "output_type": "execute_result"
    }
   ],
   "source": [
    "num_missing_reviews = df2['Review Text'].isna().sum()\n",
    "num_missing_reviews"
   ]
  },
  {
   "cell_type": "code",
   "execution_count": 88,
   "id": "83dcc184",
   "metadata": {},
   "outputs": [
    {
     "data": {
      "text/plain": [
       "np.int64(0)"
      ]
     },
     "execution_count": 88,
     "metadata": {},
     "output_type": "execute_result"
    }
   ],
   "source": [
    "df2 = df2.dropna(subset=['Review Text'])\n",
    "num_missing_reviews = df2['Review Text'].isna().sum()\n",
    "num_missing_reviews"
   ]
  },
  {
   "cell_type": "code",
   "execution_count": 89,
   "id": "bc2ad0c7",
   "metadata": {},
   "outputs": [
    {
     "data": {
      "text/plain": [
       "np.int64(5684)"
      ]
     },
     "execution_count": 89,
     "metadata": {},
     "output_type": "execute_result"
    }
   ],
   "source": [
    "num_missing_replies = df2['Owner Answer'].isna().sum()\n",
    "num_missing_replies"
   ]
  },
  {
   "cell_type": "code",
   "execution_count": 90,
   "id": "3fbe155e",
   "metadata": {},
   "outputs": [
    {
     "data": {
      "text/plain": [
       "np.int64(0)"
      ]
     },
     "execution_count": 90,
     "metadata": {},
     "output_type": "execute_result"
    }
   ],
   "source": [
    "df2['Owner Answer'] = df2[\"Owner Answer\"].fillna('no answer')\n",
    "num_missing_replies = df2['Owner Answer'].isna().sum()\n",
    "num_missing_replies"
   ]
  },
  {
   "cell_type": "code",
   "execution_count": 91,
   "id": "e4e84b7b",
   "metadata": {},
   "outputs": [
    {
     "data": {
      "text/plain": [
       "np.int64(0)"
      ]
     },
     "execution_count": 91,
     "metadata": {},
     "output_type": "execute_result"
    }
   ],
   "source": [
    "df2['Owner Answer Date'] = df2[\"Owner Answer Date\"].fillna('no date')\n",
    "num_missing_replies = df2['Owner Answer Date'].isna().sum()\n",
    "num_missing_replies"
   ]
  },
  {
   "cell_type": "code",
   "execution_count": 92,
   "id": "b329ca5f",
   "metadata": {},
   "outputs": [
    {
     "data": {
      "text/plain": [
       "np.int64(0)"
      ]
     },
     "execution_count": 92,
     "metadata": {},
     "output_type": "execute_result"
    }
   ],
   "source": [
    "df2['Author'] = df2[\"Author\"].fillna('anonymous')\n",
    "num_missing_replies = df2['Author'].isna().sum()\n",
    "num_missing_replies"
   ]
  },
  {
   "cell_type": "code",
   "execution_count": 93,
   "id": "08b0cb81",
   "metadata": {},
   "outputs": [
    {
     "data": {
      "text/plain": [
       "Unnamed: 0           0\n",
       "Author               0\n",
       "Review Text          0\n",
       "Review Rating        0\n",
       "Date                 0\n",
       "Owner Answer         0\n",
       "Owner Answer Date    0\n",
       "Author Profile       0\n",
       "Author Image         0\n",
       "Review URL           0\n",
       "label                0\n",
       "zip                  0\n",
       "state                0\n",
       "dtype: int64"
      ]
     },
     "execution_count": 93,
     "metadata": {},
     "output_type": "execute_result"
    }
   ],
   "source": [
    "num_missing_vals = df2.isna().sum()\n",
    "num_missing_vals"
   ]
  },
  {
   "cell_type": "code",
   "execution_count": 94,
   "id": "339916b7",
   "metadata": {},
   "outputs": [
    {
     "data": {
      "text/plain": [
       "Unnamed: 0.1          int64\n",
       "Unnamed: 0            int64\n",
       "Author               object\n",
       "Review Text          object\n",
       "Review Rating         int64\n",
       "Date                 object\n",
       "Owner Answer         object\n",
       "Owner Answer Date    object\n",
       "Author Profile       object\n",
       "Author Image         object\n",
       "Review URL           object\n",
       "label                object\n",
       "zip                   int64\n",
       "state                object\n",
       "dtype: object"
      ]
     },
     "execution_count": 94,
     "metadata": {},
     "output_type": "execute_result"
    }
   ],
   "source": [
    "df2.to_csv(\"cleaned_full_df2.csv\")\n",
    "df2 = pd.read_csv(\"cleaned_full_df2.csv\")\n",
    "df2.dtypes"
   ]
  },
  {
   "cell_type": "code",
   "execution_count": 95,
   "id": "fb852dd4",
   "metadata": {},
   "outputs": [],
   "source": [
    "import numpy as np\n",
    "df['has owner answer'] = np.where(df[\"Owner Answer\"] != \"no answer\", '1', '0')\n",
    "df2['has owner answer'] = np.where(df2[\"Owner Answer\"] != \"no answer\", '1', '0')"
   ]
  },
  {
   "cell_type": "code",
   "execution_count": 96,
   "id": "886eb07d",
   "metadata": {},
   "outputs": [
    {
     "data": {
      "text/plain": [
       "0         1\n",
       "1         1\n",
       "2         1\n",
       "3         1\n",
       "4         1\n",
       "         ..\n",
       "208426    0\n",
       "208427    0\n",
       "208428    0\n",
       "208429    0\n",
       "208430    0\n",
       "Name: has owner answer, Length: 208431, dtype: object"
      ]
     },
     "execution_count": 96,
     "metadata": {},
     "output_type": "execute_result"
    }
   ],
   "source": [
    "df['has owner answer']"
   ]
  },
  {
   "cell_type": "code",
   "execution_count": 97,
   "id": "15313531",
   "metadata": {},
   "outputs": [
    {
     "data": {
      "text/plain": [
       "0        1\n",
       "1        1\n",
       "2        1\n",
       "3        1\n",
       "4        1\n",
       "        ..\n",
       "13964    0\n",
       "13965    0\n",
       "13966    1\n",
       "13967    1\n",
       "13968    0\n",
       "Name: has owner answer, Length: 13969, dtype: object"
      ]
     },
     "execution_count": 97,
     "metadata": {},
     "output_type": "execute_result"
    }
   ],
   "source": [
    "df2['has owner answer']"
   ]
  },
  {
   "cell_type": "code",
   "execution_count": 98,
   "id": "5f2830fb",
   "metadata": {},
   "outputs": [
    {
     "data": {
      "text/plain": [
       "array(['District of Columbia', 'Virginia', 'Maryland', 'Hawaii', 'Alaska',\n",
       "       'California', 'New York', 'Nevada', 'Oregon', 'Pennsylvania',\n",
       "       'Washington', 'Arizona', 'Florida', 'Utah', 'Idaho', 'Montana',\n",
       "       'Colorado', 'New Mexico', 'Texas', 'Oklahoma', 'Kansas',\n",
       "       'Missouri', 'Nebraska', 'South Dakota', 'North Dakota',\n",
       "       'Minnesota', 'Iowa', 'Wisconsin', 'Michigan', 'Alabama', 'Indiana',\n",
       "       'Illinois', 'Arkansas', 'Lousiana', 'Louisiana', 'Mississippi',\n",
       "       'Kentucky', 'Tennessee', 'Georgia', 'South Carolina',\n",
       "       'North Carolina', 'Maine', 'Vermont', 'New Hampshire',\n",
       "       'Massachusetts', 'Rhode Island', 'Connecticut', 'New Jersey',\n",
       "       'Delaware', 'Ohio', 'West Virginia', 'Wyoming'], dtype=object)"
      ]
     },
     "execution_count": 98,
     "metadata": {},
     "output_type": "execute_result"
    }
   ],
   "source": [
    "df['state'].unique()"
   ]
  },
  {
   "cell_type": "code",
   "execution_count": 99,
   "id": "3a05d822",
   "metadata": {},
   "outputs": [
    {
     "data": {
      "text/plain": [
       "state\n",
       "Tennessee               9360\n",
       "New Jersey              8522\n",
       "Pennsylvania            8177\n",
       "South Carolina          7902\n",
       "North Carolina          7308\n",
       "New York                6997\n",
       "Alabama                 6080\n",
       "Georgia                 5949\n",
       "Maryland                5808\n",
       "Kentucky                5737\n",
       "Texas                   5712\n",
       "Missouri                5613\n",
       "Washington              5186\n",
       "Connecticut             5185\n",
       "Ohio                    5135\n",
       "Illinois                4982\n",
       "Michigan                4808\n",
       "Florida                 4793\n",
       "Arkansas                4699\n",
       "Arizona                 4601\n",
       "Nevada                  4545\n",
       "West Virginia           4396\n",
       "California              4098\n",
       "Utah                    4095\n",
       "Wisconsin               3990\n",
       "Massachusetts           3936\n",
       "Mississippi             3843\n",
       "Virginia                3732\n",
       "New Mexico              3633\n",
       "Oregon                  3374\n",
       "Nebraska                3309\n",
       "Idaho                   3288\n",
       "Maine                   2942\n",
       "Wyoming                 2927\n",
       "South Dakota            2916\n",
       "Indiana                 2872\n",
       "Rhode Island            2644\n",
       "Kansas                  2610\n",
       "Iowa                    2559\n",
       "Minnesota               2538\n",
       "District of Columbia    2478\n",
       "Oklahoma                2428\n",
       "Delaware                2341\n",
       "Hawaii                  2234\n",
       "Alaska                  2113\n",
       "Louisiana               1971\n",
       "North Dakota            1252\n",
       "Vermont                 1131\n",
       "Colorado                1000\n",
       "New Hampshire            578\n",
       "Montana                  104\n",
       "Name: count, dtype: int64"
      ]
     },
     "execution_count": 99,
     "metadata": {},
     "output_type": "execute_result"
    }
   ],
   "source": [
    "df.replace('Lousiana','Louisiana',inplace=True)\n",
    "df['state'].value_counts()"
   ]
  },
  {
   "cell_type": "code",
   "execution_count": 100,
   "id": "6f622319",
   "metadata": {},
   "outputs": [
    {
     "data": {
      "text/plain": [
       "array(['California', 'Arizona', 'Montana', 'Oregon', 'Alaska', 'Wyoming',\n",
       "       'New Mexico', 'Colorado'], dtype=object)"
      ]
     },
     "execution_count": 100,
     "metadata": {},
     "output_type": "execute_result"
    }
   ],
   "source": [
    "df2['state'].unique()"
   ]
  },
  {
   "cell_type": "code",
   "execution_count": 101,
   "id": "71d71d8b",
   "metadata": {},
   "outputs": [
    {
     "data": {
      "text/plain": [
       "state\n",
       "Arizona       3864\n",
       "Colorado      3261\n",
       "New Mexico    2952\n",
       "California    1931\n",
       "Montana       1455\n",
       "Oregon         360\n",
       "Wyoming        129\n",
       "Alaska          17\n",
       "Name: count, dtype: int64"
      ]
     },
     "execution_count": 101,
     "metadata": {},
     "output_type": "execute_result"
    }
   ],
   "source": [
    "df2['state'].value_counts()"
   ]
  },
  {
   "cell_type": "code",
   "execution_count": 102,
   "id": "31588b41",
   "metadata": {},
   "outputs": [
    {
     "data": {
      "text/plain": [
       "census region\n",
       "southern     84537\n",
       "west         55167\n",
       "midwest      42584\n",
       "northeast    40112\n",
       "Name: count, dtype: int64"
      ]
     },
     "execution_count": 102,
     "metadata": {},
     "output_type": "execute_result"
    }
   ],
   "source": [
    "df = pd.concat([df,df2],ignore_index=True)\n",
    "\n",
    "df['census region'] = np.where((df['state'] == 'Maine')|(df['state'] == 'New Hampshire')|(df['state'] == 'Vermont')|(df['state'] == 'Massachusetts')|\n",
    "                              (df['state'] == 'Connecticut')|(df['state'] == 'Rhode Island')|(df['state'] == 'New York')|(df['state'] == 'Pennsylvania')|\n",
    "                              (df['state'] == 'New Jersey'),'northeast',np.where((df['state'] == 'Delaware')|(df['state'] == 'Maryland')|(df['state'] == 'District of Columbia')|\n",
    "                              (df['state'] == 'Virginia')|(df['state'] == 'West Virginia')|(df['state'] == 'Kentucky')|(df['state'] == 'Tennessee')|(df['state'] == 'North Carolina')|\n",
    "                              (df['state'] == 'South Carolina')|(df['state'] == 'Georgia')|(df['state'] == 'Florida')|(df['state'] == 'Alabama')|(df['state'] == 'Mississippi')|\n",
    "                              (df['state'] == 'Louisiana')|(df['state'] == 'Oklahoma')|(df['state'] == 'Arkansas')|(df['state'] == 'Texas'),'southern',\n",
    "                              np.where((df['state'] == 'Michigan')|(df['state'] == 'Ohio')|(df['state'] == 'Indiana')|(df['state'] == 'Illinois')|(df['state'] == 'Wisconsin')|\n",
    "                              (df['state'] == 'Missouri')|(df['state'] == 'Iowa')|(df['state'] == 'Minnesota')|(df['state'] == 'North Dakota')|(df['state'] == 'South Dakota')|\n",
    "                              (df['state'] == 'Nebraska')|(df['state'] == 'Kansas'),'midwest',np.where((df['state'] == 'Montana')|(df['state'] == 'Wyoming')|(df['state'] == 'Colorado')|\n",
    "                              (df['state'] == 'New Mexico')|(df['state'] == 'Arizona')|(df['state'] == 'Utah')|(df['state'] == 'Idaho')|(df['state'] == 'Nevada')|(df['state'] == 'Washington')|\n",
    "                              (df['state'] == 'Oregon')|(df['state'] == 'California')|(df['state'] == 'Alaska')|(df['state'] == 'Hawaii'),'west','?'))))\n",
    "\n",
    "df['census region'].value_counts()"
   ]
  },
  {
   "cell_type": "code",
   "execution_count": 103,
   "id": "d550c40e",
   "metadata": {},
   "outputs": [
    {
     "data": {
      "text/plain": [
       "Author                object\n",
       "Review Text           object\n",
       "Review Rating          int64\n",
       "Date                  object\n",
       "Owner Answer          object\n",
       "Owner Answer Date     object\n",
       "Author Profile        object\n",
       "Author Image          object\n",
       "Review URL            object\n",
       "label                 object\n",
       "zip                  float64\n",
       "state                 object\n",
       "has owner answer      object\n",
       "census region         object\n",
       "dtype: object"
      ]
     },
     "execution_count": 103,
     "metadata": {},
     "output_type": "execute_result"
    }
   ],
   "source": [
    "df = df.drop(columns='Unnamed: 0')\n",
    "df = df.drop(columns='Unnamed: 0.1')\n",
    "df.dtypes"
   ]
  },
  {
   "cell_type": "code",
   "execution_count": 104,
   "id": "2f9cf1e6",
   "metadata": {},
   "outputs": [
    {
     "data": {
      "text/plain": [
       "np.int64(0)"
      ]
     },
     "execution_count": 104,
     "metadata": {},
     "output_type": "execute_result"
    }
   ],
   "source": [
    "df['Author'] = df[\"Author\"].replace({\"#NAME?\":\"anonymous\"})\n",
    "num_missing_replies = df['Author'].isna().sum()\n",
    "num_missing_replies"
   ]
  },
  {
   "cell_type": "code",
   "execution_count": 105,
   "id": "44888074",
   "metadata": {},
   "outputs": [
    {
     "name": "stdout",
     "output_type": "stream",
     "text": [
      "                                              Review Text  \\\n",
      "20898   \"Best hospital in the state\" Somehow my MRI is...   \n",
      "25353   \"Best hospital in the state\" Somehow my MRI is...   \n",
      "21731   \"Capital’s unlawful collections practices prev...   \n",
      "24370   \"Capital’s unlawful collections practices prev...   \n",
      "216971  \"Not the Patient\", My sister was admitted on 1...   \n",
      "...                                                   ...   \n",
      "153207                                                  👍   \n",
      "21853   😁👍👍👍 good   nice nurse and doctors  good  bles...   \n",
      "24966   😁👍👍👍 good   nice nurse and doctors  good  bles...   \n",
      "40928   🤬😡01/02/2019 WHY BE IN THIS FEILD IF YOU'RE GO...   \n",
      "217022  🤬😡01/02/2019 WHY BE IN THIS FEILD IF YOU'RE GO...   \n",
      "\n",
      "                                           Author Profile  \n",
      "20898   https://www.google.com/maps/contrib/1082131836...  \n",
      "25353   https://www.google.com/maps/contrib/1082131836...  \n",
      "21731   https://www.google.com/maps/contrib/1137279277...  \n",
      "24370   https://www.google.com/maps/contrib/1137279277...  \n",
      "216971  https://www.google.com/maps/contrib/1007726409...  \n",
      "...                                                   ...  \n",
      "153207  https://www.google.com/maps/contrib/1048326174...  \n",
      "21853   https://www.google.com/maps/contrib/1172655352...  \n",
      "24966   https://www.google.com/maps/contrib/1172655352...  \n",
      "40928   https://www.google.com/maps/contrib/1049841758...  \n",
      "217022  https://www.google.com/maps/contrib/1049841758...  \n",
      "\n",
      "[13770 rows x 2 columns]\n",
      "Empty DataFrame\n",
      "Columns: [Review Text, Author Profile]\n",
      "Index: []\n"
     ]
    }
   ],
   "source": [
    "def dupe_detection(column1, column2):\n",
    "    dupes = df.duplicated(subset = column1, keep = False)\n",
    "    duped_reviews = df[dupes].sort_values(by = column1)\n",
    "    print(duped_reviews[[column1,column2]])\n",
    "\n",
    "dupe_detection('Review Text','Author Profile')\n",
    "df = df.drop_duplicates(subset=['Review Text'])\n",
    "dupe_detection('Review Text','Author Profile')\n",
    "\n",
    "df.to_csv(\"cleaned_full_df_with_census_regions.csv\")"
   ]
  },
  {
   "cell_type": "code",
   "execution_count": 106,
   "id": "af637781",
   "metadata": {},
   "outputs": [
    {
     "data": {
      "image/png": "[encoded data removed]",
      "text/plain": [
       "<Figure size 640x480 with 1 Axes>"
      ]
     },
     "metadata": {},
     "output_type": "display_data"
    }
   ],
   "source": [
    "import matplotlib.pyplot as plt\n",
    "\n",
    "x = df['label']\n",
    "values, bins, bars = plt.hist(x)\n",
    "plt.xlabel('label')\n",
    "plt.bar_label(bars, fontsize=10)\n",
    "plt.show()"
   ]
  },
  {
   "cell_type": "code",
   "execution_count": 107,
   "id": "bd288b10",
   "metadata": {},
   "outputs": [
    {
     "data": {
      "text/plain": [
       "census region\n",
       "southern    83476\n",
       "west        51483\n",
       "Name: count, dtype: int64"
      ]
     },
     "execution_count": 107,
     "metadata": {},
     "output_type": "execute_result"
    }
   ],
   "source": [
    "cols_to_drop = df[(df['census region'] == 'northeast') | (df['census region'] == 'midwest')].index\n",
    "df.drop(cols_to_drop, inplace=True)\n",
    "\n",
    "df['census region'].value_counts()"
   ]
  },
  {
   "cell_type": "code",
   "execution_count": 108,
   "id": "3599763e",
   "metadata": {},
   "outputs": [
    {
     "name": "stdout",
     "output_type": "stream",
     "text": [
      "Significance Found\n",
      "2.044303664622642e-52\n"
     ]
    }
   ],
   "source": [
    "import scipy.stats as stats\n",
    "alpha = 0.05\n",
    "\n",
    "region_v_label = pd.crosstab(df['census region'],df['label'],margins=True)\n",
    "chi2, p_value, degrees_of_freedom, expected_values = stats.chi2_contingency(region_v_label)\n",
    "\n",
    "if p_value < alpha:\n",
    "    print(\"Significance Found\")\n",
    "\n",
    "print(p_value)"
   ]
  },
  {
   "cell_type": "code",
   "execution_count": 109,
   "id": "605760d7",
   "metadata": {},
   "outputs": [
    {
     "name": "stdout",
     "output_type": "stream",
     "text": [
      "0.5815472775774261\n"
     ]
    }
   ],
   "source": [
    "region_v_answer = pd.crosstab(df['census region'],df['has owner answer'],margins=True)\n",
    "chi2, p_value, degrees_of_freedom, expected_values = stats.chi2_contingency(region_v_answer)\n",
    "\n",
    "if p_value < alpha:\n",
    "    print(\"Significance Found\")\n",
    "\n",
    "print(p_value)"
   ]
  },
  {
   "cell_type": "code",
   "execution_count": 110,
   "id": "75b0d9a2",
   "metadata": {},
   "outputs": [
    {
     "name": "stdout",
     "output_type": "stream",
     "text": [
      "Significance Found\n",
      "2.0517751208627727e-301\n"
     ]
    }
   ],
   "source": [
    "label_v_answer = pd.crosstab(df['label'],df['has owner answer'],margins=True)\n",
    "chi2, p_value, degrees_of_freedom, expected_values = stats.chi2_contingency(label_v_answer)\n",
    "\n",
    "if p_value < alpha:\n",
    "    print(\"Significance Found\")\n",
    "\n",
    "print(p_value)"
   ]
  },
  {
   "cell_type": "code",
   "execution_count": 111,
   "id": "e5540d49",
   "metadata": {},
   "outputs": [
    {
     "data": {
      "text/html": [
       "<div>\n",
       "<style scoped>\n",
       "    .dataframe tbody tr th:only-of-type {\n",
       "        vertical-align: middle;\n",
       "    }\n",
       "\n",
       "    .dataframe tbody tr th {\n",
       "        vertical-align: top;\n",
       "    }\n",
       "\n",
       "    .dataframe thead th {\n",
       "        text-align: right;\n",
       "    }\n",
       "</style>\n",
       "<table border=\"1\" class=\"dataframe\">\n",
       "  <thead>\n",
       "    <tr style=\"text-align: right;\">\n",
       "      <th></th>\n",
       "      <th>has owner answer</th>\n",
       "      <th>0</th>\n",
       "      <th>1</th>\n",
       "      <th>All</th>\n",
       "    </tr>\n",
       "    <tr>\n",
       "      <th>census region</th>\n",
       "      <th>label</th>\n",
       "      <th></th>\n",
       "      <th></th>\n",
       "      <th></th>\n",
       "    </tr>\n",
       "  </thead>\n",
       "  <tbody>\n",
       "    <tr>\n",
       "      <th rowspan=\"3\" valign=\"top\">southern</th>\n",
       "      <th>negative</th>\n",
       "      <td>17715</td>\n",
       "      <td>15654</td>\n",
       "      <td>33369</td>\n",
       "    </tr>\n",
       "    <tr>\n",
       "      <th>neutral</th>\n",
       "      <td>1135</td>\n",
       "      <td>1496</td>\n",
       "      <td>2631</td>\n",
       "    </tr>\n",
       "    <tr>\n",
       "      <th>positive</th>\n",
       "      <td>18032</td>\n",
       "      <td>29444</td>\n",
       "      <td>47476</td>\n",
       "    </tr>\n",
       "    <tr>\n",
       "      <th rowspan=\"3\" valign=\"top\">west</th>\n",
       "      <th>negative</th>\n",
       "      <td>8565</td>\n",
       "      <td>9826</td>\n",
       "      <td>18391</td>\n",
       "    </tr>\n",
       "    <tr>\n",
       "      <th>neutral</th>\n",
       "      <td>663</td>\n",
       "      <td>894</td>\n",
       "      <td>1557</td>\n",
       "    </tr>\n",
       "    <tr>\n",
       "      <th>positive</th>\n",
       "      <td>13761</td>\n",
       "      <td>17774</td>\n",
       "      <td>31535</td>\n",
       "    </tr>\n",
       "    <tr>\n",
       "      <th>All</th>\n",
       "      <th></th>\n",
       "      <td>59871</td>\n",
       "      <td>75088</td>\n",
       "      <td>134959</td>\n",
       "    </tr>\n",
       "  </tbody>\n",
       "</table>\n",
       "</div>"
      ],
      "text/plain": [
       "has owner answer            0      1     All\n",
       "census region label                         \n",
       "southern      negative  17715  15654   33369\n",
       "              neutral    1135   1496    2631\n",
       "              positive  18032  29444   47476\n",
       "west          negative   8565   9826   18391\n",
       "              neutral     663    894    1557\n",
       "              positive  13761  17774   31535\n",
       "All                     59871  75088  134959"
      ]
     },
     "execution_count": 111,
     "metadata": {},
     "output_type": "execute_result"
    }
   ],
   "source": [
    "three_way_contingency = pd.crosstab([df['census region'],df['label']],df['has owner answer'],margins=True)\n",
    "three_way_contingency"
   ]
  },
  {
   "cell_type": "code",
   "execution_count": 112,
   "id": "df16246d",
   "metadata": {},
   "outputs": [
    {
     "name": "stdout",
     "output_type": "stream",
     "text": [
      "Significance Found\n",
      "0.0\n"
     ]
    }
   ],
   "source": [
    "alpha = 0.05\n",
    "\n",
    "chi2, p_value, degrees_of_freedom, expected_values = stats.chi2_contingency(three_way_contingency)\n",
    "\n",
    "if p_value < alpha:\n",
    "    print(\"Significance Found\")\n",
    "\n",
    "print(p_value)"
   ]
  },
  {
   "cell_type": "code",
   "execution_count": 113,
   "id": "76792cab",
   "metadata": {},
   "outputs": [
    {
     "data": {
      "text/html": [
       "<div>\n",
       "<style scoped>\n",
       "    .dataframe tbody tr th:only-of-type {\n",
       "        vertical-align: middle;\n",
       "    }\n",
       "\n",
       "    .dataframe tbody tr th {\n",
       "        vertical-align: top;\n",
       "    }\n",
       "\n",
       "    .dataframe thead th {\n",
       "        text-align: right;\n",
       "    }\n",
       "</style>\n",
       "<table border=\"1\" class=\"dataframe\">\n",
       "  <thead>\n",
       "    <tr style=\"text-align: right;\">\n",
       "      <th>label</th>\n",
       "      <th>negative</th>\n",
       "      <th>neutral</th>\n",
       "      <th>positive</th>\n",
       "      <th>All</th>\n",
       "    </tr>\n",
       "    <tr>\n",
       "      <th>census region</th>\n",
       "      <th></th>\n",
       "      <th></th>\n",
       "      <th></th>\n",
       "      <th></th>\n",
       "    </tr>\n",
       "  </thead>\n",
       "  <tbody>\n",
       "    <tr>\n",
       "      <th>southern</th>\n",
       "      <td>33369</td>\n",
       "      <td>2631</td>\n",
       "      <td>47476</td>\n",
       "      <td>83476</td>\n",
       "    </tr>\n",
       "    <tr>\n",
       "      <th>west</th>\n",
       "      <td>18391</td>\n",
       "      <td>1557</td>\n",
       "      <td>31535</td>\n",
       "      <td>51483</td>\n",
       "    </tr>\n",
       "    <tr>\n",
       "      <th>All</th>\n",
       "      <td>51760</td>\n",
       "      <td>4188</td>\n",
       "      <td>79011</td>\n",
       "      <td>134959</td>\n",
       "    </tr>\n",
       "  </tbody>\n",
       "</table>\n",
       "</div>"
      ],
      "text/plain": [
       "label          negative  neutral  positive     All\n",
       "census region                                     \n",
       "southern          33369     2631     47476   83476\n",
       "west              18391     1557     31535   51483\n",
       "All               51760     4188     79011  134959"
      ]
     },
     "execution_count": 113,
     "metadata": {},
     "output_type": "execute_result"
    }
   ],
   "source": [
    "pd.crosstab(df['census region'],df['label'],margins=True)"
   ]
  },
  {
   "cell_type": "code",
   "execution_count": 114,
   "id": "7e285a0d",
   "metadata": {},
   "outputs": [
    {
     "data": {
      "text/html": [
       "<div>\n",
       "<style scoped>\n",
       "    .dataframe tbody tr th:only-of-type {\n",
       "        vertical-align: middle;\n",
       "    }\n",
       "\n",
       "    .dataframe tbody tr th {\n",
       "        vertical-align: top;\n",
       "    }\n",
       "\n",
       "    .dataframe thead th {\n",
       "        text-align: right;\n",
       "    }\n",
       "</style>\n",
       "<table border=\"1\" class=\"dataframe\">\n",
       "  <thead>\n",
       "    <tr style=\"text-align: right;\">\n",
       "      <th>label</th>\n",
       "      <th>negative</th>\n",
       "      <th>neutral</th>\n",
       "      <th>positive</th>\n",
       "      <th>All</th>\n",
       "    </tr>\n",
       "    <tr>\n",
       "      <th>census region</th>\n",
       "      <th></th>\n",
       "      <th></th>\n",
       "      <th></th>\n",
       "      <th></th>\n",
       "    </tr>\n",
       "  </thead>\n",
       "  <tbody>\n",
       "    <tr>\n",
       "      <th>southern</th>\n",
       "      <td>0.247253</td>\n",
       "      <td>0.019495</td>\n",
       "      <td>0.351781</td>\n",
       "      <td>0.618529</td>\n",
       "    </tr>\n",
       "    <tr>\n",
       "      <th>west</th>\n",
       "      <td>0.136271</td>\n",
       "      <td>0.011537</td>\n",
       "      <td>0.233664</td>\n",
       "      <td>0.381471</td>\n",
       "    </tr>\n",
       "    <tr>\n",
       "      <th>All</th>\n",
       "      <td>0.383524</td>\n",
       "      <td>0.031032</td>\n",
       "      <td>0.585444</td>\n",
       "      <td>1.000000</td>\n",
       "    </tr>\n",
       "  </tbody>\n",
       "</table>\n",
       "</div>"
      ],
      "text/plain": [
       "label          negative   neutral  positive       All\n",
       "census region                                        \n",
       "southern       0.247253  0.019495  0.351781  0.618529\n",
       "west           0.136271  0.011537  0.233664  0.381471\n",
       "All            0.383524  0.031032  0.585444  1.000000"
      ]
     },
     "execution_count": 114,
     "metadata": {},
     "output_type": "execute_result"
    }
   ],
   "source": [
    "pd.crosstab(df['census region'],df['label'],margins=True,normalize='all')"
   ]
  },
  {
   "cell_type": "code",
   "execution_count": 115,
   "id": "373c8960",
   "metadata": {},
   "outputs": [
    {
     "data": {
      "text/html": [
       "<div>\n",
       "<style scoped>\n",
       "    .dataframe tbody tr th:only-of-type {\n",
       "        vertical-align: middle;\n",
       "    }\n",
       "\n",
       "    .dataframe tbody tr th {\n",
       "        vertical-align: top;\n",
       "    }\n",
       "\n",
       "    .dataframe thead th {\n",
       "        text-align: right;\n",
       "    }\n",
       "</style>\n",
       "<table border=\"1\" class=\"dataframe\">\n",
       "  <thead>\n",
       "    <tr style=\"text-align: right;\">\n",
       "      <th>label</th>\n",
       "      <th>negative</th>\n",
       "      <th>neutral</th>\n",
       "      <th>positive</th>\n",
       "      <th>All</th>\n",
       "    </tr>\n",
       "    <tr>\n",
       "      <th>census region</th>\n",
       "      <th></th>\n",
       "      <th></th>\n",
       "      <th></th>\n",
       "      <th></th>\n",
       "    </tr>\n",
       "  </thead>\n",
       "  <tbody>\n",
       "    <tr>\n",
       "      <th>southern</th>\n",
       "      <td>0.644687</td>\n",
       "      <td>0.628223</td>\n",
       "      <td>0.600878</td>\n",
       "      <td>0.618529</td>\n",
       "    </tr>\n",
       "    <tr>\n",
       "      <th>west</th>\n",
       "      <td>0.355313</td>\n",
       "      <td>0.371777</td>\n",
       "      <td>0.399122</td>\n",
       "      <td>0.381471</td>\n",
       "    </tr>\n",
       "  </tbody>\n",
       "</table>\n",
       "</div>"
      ],
      "text/plain": [
       "label          negative   neutral  positive       All\n",
       "census region                                        \n",
       "southern       0.644687  0.628223  0.600878  0.618529\n",
       "west           0.355313  0.371777  0.399122  0.381471"
      ]
     },
     "execution_count": 115,
     "metadata": {},
     "output_type": "execute_result"
    }
   ],
   "source": [
    "pd.crosstab(df['census region'],df['label'],margins=True,normalize='columns')"
   ]
  },
  {
   "cell_type": "code",
   "execution_count": 116,
   "id": "124acfd7",
   "metadata": {},
   "outputs": [
    {
     "data": {
      "text/html": [
       "<div>\n",
       "<style scoped>\n",
       "    .dataframe tbody tr th:only-of-type {\n",
       "        vertical-align: middle;\n",
       "    }\n",
       "\n",
       "    .dataframe tbody tr th {\n",
       "        vertical-align: top;\n",
       "    }\n",
       "\n",
       "    .dataframe thead th {\n",
       "        text-align: right;\n",
       "    }\n",
       "</style>\n",
       "<table border=\"1\" class=\"dataframe\">\n",
       "  <thead>\n",
       "    <tr style=\"text-align: right;\">\n",
       "      <th>label</th>\n",
       "      <th>negative</th>\n",
       "      <th>neutral</th>\n",
       "      <th>positive</th>\n",
       "    </tr>\n",
       "    <tr>\n",
       "      <th>census region</th>\n",
       "      <th></th>\n",
       "      <th></th>\n",
       "      <th></th>\n",
       "    </tr>\n",
       "  </thead>\n",
       "  <tbody>\n",
       "    <tr>\n",
       "      <th>southern</th>\n",
       "      <td>0.399744</td>\n",
       "      <td>0.031518</td>\n",
       "      <td>0.568738</td>\n",
       "    </tr>\n",
       "    <tr>\n",
       "      <th>west</th>\n",
       "      <td>0.357225</td>\n",
       "      <td>0.030243</td>\n",
       "      <td>0.612532</td>\n",
       "    </tr>\n",
       "    <tr>\n",
       "      <th>All</th>\n",
       "      <td>0.383524</td>\n",
       "      <td>0.031032</td>\n",
       "      <td>0.585444</td>\n",
       "    </tr>\n",
       "  </tbody>\n",
       "</table>\n",
       "</div>"
      ],
      "text/plain": [
       "label          negative   neutral  positive\n",
       "census region                              \n",
       "southern       0.399744  0.031518  0.568738\n",
       "west           0.357225  0.030243  0.612532\n",
       "All            0.383524  0.031032  0.585444"
      ]
     },
     "execution_count": 116,
     "metadata": {},
     "output_type": "execute_result"
    }
   ],
   "source": [
    "pd.crosstab(df['census region'],df['label'],margins=True,normalize='index')"
   ]
  },
  {
   "cell_type": "code",
   "execution_count": 117,
   "id": "f6ca1ad8",
   "metadata": {},
   "outputs": [
    {
     "data": {
      "text/html": [
       "<div>\n",
       "<style scoped>\n",
       "    .dataframe tbody tr th:only-of-type {\n",
       "        vertical-align: middle;\n",
       "    }\n",
       "\n",
       "    .dataframe tbody tr th {\n",
       "        vertical-align: top;\n",
       "    }\n",
       "\n",
       "    .dataframe thead th {\n",
       "        text-align: right;\n",
       "    }\n",
       "</style>\n",
       "<table border=\"1\" class=\"dataframe\">\n",
       "  <thead>\n",
       "    <tr style=\"text-align: right;\">\n",
       "      <th>has owner answer</th>\n",
       "      <th>0</th>\n",
       "      <th>1</th>\n",
       "      <th>All</th>\n",
       "    </tr>\n",
       "    <tr>\n",
       "      <th>label</th>\n",
       "      <th></th>\n",
       "      <th></th>\n",
       "      <th></th>\n",
       "    </tr>\n",
       "  </thead>\n",
       "  <tbody>\n",
       "    <tr>\n",
       "      <th>negative</th>\n",
       "      <td>26280</td>\n",
       "      <td>25480</td>\n",
       "      <td>51760</td>\n",
       "    </tr>\n",
       "    <tr>\n",
       "      <th>neutral</th>\n",
       "      <td>1798</td>\n",
       "      <td>2390</td>\n",
       "      <td>4188</td>\n",
       "    </tr>\n",
       "    <tr>\n",
       "      <th>positive</th>\n",
       "      <td>31793</td>\n",
       "      <td>47218</td>\n",
       "      <td>79011</td>\n",
       "    </tr>\n",
       "    <tr>\n",
       "      <th>All</th>\n",
       "      <td>59871</td>\n",
       "      <td>75088</td>\n",
       "      <td>134959</td>\n",
       "    </tr>\n",
       "  </tbody>\n",
       "</table>\n",
       "</div>"
      ],
      "text/plain": [
       "has owner answer      0      1     All\n",
       "label                                 \n",
       "negative          26280  25480   51760\n",
       "neutral            1798   2390    4188\n",
       "positive          31793  47218   79011\n",
       "All               59871  75088  134959"
      ]
     },
     "execution_count": 117,
     "metadata": {},
     "output_type": "execute_result"
    }
   ],
   "source": [
    "pd.crosstab(df['label'],df['has owner answer'],margins=True)"
   ]
  },
  {
   "cell_type": "code",
   "execution_count": 118,
   "id": "41ceac21",
   "metadata": {},
   "outputs": [
    {
     "data": {
      "text/html": [
       "<div>\n",
       "<style scoped>\n",
       "    .dataframe tbody tr th:only-of-type {\n",
       "        vertical-align: middle;\n",
       "    }\n",
       "\n",
       "    .dataframe tbody tr th {\n",
       "        vertical-align: top;\n",
       "    }\n",
       "\n",
       "    .dataframe thead th {\n",
       "        text-align: right;\n",
       "    }\n",
       "</style>\n",
       "<table border=\"1\" class=\"dataframe\">\n",
       "  <thead>\n",
       "    <tr style=\"text-align: right;\">\n",
       "      <th>has owner answer</th>\n",
       "      <th>0</th>\n",
       "      <th>1</th>\n",
       "      <th>All</th>\n",
       "    </tr>\n",
       "    <tr>\n",
       "      <th>label</th>\n",
       "      <th></th>\n",
       "      <th></th>\n",
       "      <th></th>\n",
       "    </tr>\n",
       "  </thead>\n",
       "  <tbody>\n",
       "    <tr>\n",
       "      <th>negative</th>\n",
       "      <td>0.194726</td>\n",
       "      <td>0.188798</td>\n",
       "      <td>0.383524</td>\n",
       "    </tr>\n",
       "    <tr>\n",
       "      <th>neutral</th>\n",
       "      <td>0.013323</td>\n",
       "      <td>0.017709</td>\n",
       "      <td>0.031032</td>\n",
       "    </tr>\n",
       "    <tr>\n",
       "      <th>positive</th>\n",
       "      <td>0.235575</td>\n",
       "      <td>0.349869</td>\n",
       "      <td>0.585444</td>\n",
       "    </tr>\n",
       "    <tr>\n",
       "      <th>All</th>\n",
       "      <td>0.443624</td>\n",
       "      <td>0.556376</td>\n",
       "      <td>1.000000</td>\n",
       "    </tr>\n",
       "  </tbody>\n",
       "</table>\n",
       "</div>"
      ],
      "text/plain": [
       "has owner answer         0         1       All\n",
       "label                                         \n",
       "negative          0.194726  0.188798  0.383524\n",
       "neutral           0.013323  0.017709  0.031032\n",
       "positive          0.235575  0.349869  0.585444\n",
       "All               0.443624  0.556376  1.000000"
      ]
     },
     "execution_count": 118,
     "metadata": {},
     "output_type": "execute_result"
    }
   ],
   "source": [
    "pd.crosstab(df['label'],df['has owner answer'],margins=True, normalize='all')"
   ]
  },
  {
   "cell_type": "code",
   "execution_count": 119,
   "id": "b64a40c0",
   "metadata": {},
   "outputs": [
    {
     "data": {
      "text/html": [
       "<div>\n",
       "<style scoped>\n",
       "    .dataframe tbody tr th:only-of-type {\n",
       "        vertical-align: middle;\n",
       "    }\n",
       "\n",
       "    .dataframe tbody tr th {\n",
       "        vertical-align: top;\n",
       "    }\n",
       "\n",
       "    .dataframe thead th {\n",
       "        text-align: right;\n",
       "    }\n",
       "</style>\n",
       "<table border=\"1\" class=\"dataframe\">\n",
       "  <thead>\n",
       "    <tr style=\"text-align: right;\">\n",
       "      <th>has owner answer</th>\n",
       "      <th>0</th>\n",
       "      <th>1</th>\n",
       "      <th>All</th>\n",
       "    </tr>\n",
       "    <tr>\n",
       "      <th>label</th>\n",
       "      <th></th>\n",
       "      <th></th>\n",
       "      <th></th>\n",
       "    </tr>\n",
       "  </thead>\n",
       "  <tbody>\n",
       "    <tr>\n",
       "      <th>negative</th>\n",
       "      <td>0.438944</td>\n",
       "      <td>0.339335</td>\n",
       "      <td>0.383524</td>\n",
       "    </tr>\n",
       "    <tr>\n",
       "      <th>neutral</th>\n",
       "      <td>0.030031</td>\n",
       "      <td>0.031829</td>\n",
       "      <td>0.031032</td>\n",
       "    </tr>\n",
       "    <tr>\n",
       "      <th>positive</th>\n",
       "      <td>0.531025</td>\n",
       "      <td>0.628835</td>\n",
       "      <td>0.585444</td>\n",
       "    </tr>\n",
       "  </tbody>\n",
       "</table>\n",
       "</div>"
      ],
      "text/plain": [
       "has owner answer         0         1       All\n",
       "label                                         \n",
       "negative          0.438944  0.339335  0.383524\n",
       "neutral           0.030031  0.031829  0.031032\n",
       "positive          0.531025  0.628835  0.585444"
      ]
     },
     "execution_count": 119,
     "metadata": {},
     "output_type": "execute_result"
    }
   ],
   "source": [
    "pd.crosstab(df['label'],df['has owner answer'],margins=True,normalize='columns')"
   ]
  },
  {
   "cell_type": "code",
   "execution_count": 120,
   "id": "96086f07",
   "metadata": {},
   "outputs": [
    {
     "data": {
      "text/html": [
       "<div>\n",
       "<style scoped>\n",
       "    .dataframe tbody tr th:only-of-type {\n",
       "        vertical-align: middle;\n",
       "    }\n",
       "\n",
       "    .dataframe tbody tr th {\n",
       "        vertical-align: top;\n",
       "    }\n",
       "\n",
       "    .dataframe thead th {\n",
       "        text-align: right;\n",
       "    }\n",
       "</style>\n",
       "<table border=\"1\" class=\"dataframe\">\n",
       "  <thead>\n",
       "    <tr style=\"text-align: right;\">\n",
       "      <th>has owner answer</th>\n",
       "      <th>0</th>\n",
       "      <th>1</th>\n",
       "    </tr>\n",
       "    <tr>\n",
       "      <th>label</th>\n",
       "      <th></th>\n",
       "      <th></th>\n",
       "    </tr>\n",
       "  </thead>\n",
       "  <tbody>\n",
       "    <tr>\n",
       "      <th>negative</th>\n",
       "      <td>0.507728</td>\n",
       "      <td>0.492272</td>\n",
       "    </tr>\n",
       "    <tr>\n",
       "      <th>neutral</th>\n",
       "      <td>0.429322</td>\n",
       "      <td>0.570678</td>\n",
       "    </tr>\n",
       "    <tr>\n",
       "      <th>positive</th>\n",
       "      <td>0.402387</td>\n",
       "      <td>0.597613</td>\n",
       "    </tr>\n",
       "    <tr>\n",
       "      <th>All</th>\n",
       "      <td>0.443624</td>\n",
       "      <td>0.556376</td>\n",
       "    </tr>\n",
       "  </tbody>\n",
       "</table>\n",
       "</div>"
      ],
      "text/plain": [
       "has owner answer         0         1\n",
       "label                               \n",
       "negative          0.507728  0.492272\n",
       "neutral           0.429322  0.570678\n",
       "positive          0.402387  0.597613\n",
       "All               0.443624  0.556376"
      ]
     },
     "execution_count": 120,
     "metadata": {},
     "output_type": "execute_result"
    }
   ],
   "source": [
    "pd.crosstab(df['label'],df['has owner answer'],margins=True,normalize='index')"
   ]
  },
  {
   "cell_type": "code",
   "execution_count": 121,
   "id": "e51c9fb2",
   "metadata": {},
   "outputs": [
    {
     "data": {
      "text/html": [
       "<div>\n",
       "<style scoped>\n",
       "    .dataframe tbody tr th:only-of-type {\n",
       "        vertical-align: middle;\n",
       "    }\n",
       "\n",
       "    .dataframe tbody tr th {\n",
       "        vertical-align: top;\n",
       "    }\n",
       "\n",
       "    .dataframe thead th {\n",
       "        text-align: right;\n",
       "    }\n",
       "</style>\n",
       "<table border=\"1\" class=\"dataframe\">\n",
       "  <thead>\n",
       "    <tr style=\"text-align: right;\">\n",
       "      <th></th>\n",
       "      <th>has owner answer</th>\n",
       "      <th>0</th>\n",
       "      <th>1</th>\n",
       "      <th>All</th>\n",
       "    </tr>\n",
       "    <tr>\n",
       "      <th>census region</th>\n",
       "      <th>label</th>\n",
       "      <th></th>\n",
       "      <th></th>\n",
       "      <th></th>\n",
       "    </tr>\n",
       "  </thead>\n",
       "  <tbody>\n",
       "    <tr>\n",
       "      <th rowspan=\"3\" valign=\"top\">southern</th>\n",
       "      <th>negative</th>\n",
       "      <td>17715</td>\n",
       "      <td>15654</td>\n",
       "      <td>33369</td>\n",
       "    </tr>\n",
       "    <tr>\n",
       "      <th>neutral</th>\n",
       "      <td>1135</td>\n",
       "      <td>1496</td>\n",
       "      <td>2631</td>\n",
       "    </tr>\n",
       "    <tr>\n",
       "      <th>positive</th>\n",
       "      <td>18032</td>\n",
       "      <td>29444</td>\n",
       "      <td>47476</td>\n",
       "    </tr>\n",
       "    <tr>\n",
       "      <th rowspan=\"3\" valign=\"top\">west</th>\n",
       "      <th>negative</th>\n",
       "      <td>8565</td>\n",
       "      <td>9826</td>\n",
       "      <td>18391</td>\n",
       "    </tr>\n",
       "    <tr>\n",
       "      <th>neutral</th>\n",
       "      <td>663</td>\n",
       "      <td>894</td>\n",
       "      <td>1557</td>\n",
       "    </tr>\n",
       "    <tr>\n",
       "      <th>positive</th>\n",
       "      <td>13761</td>\n",
       "      <td>17774</td>\n",
       "      <td>31535</td>\n",
       "    </tr>\n",
       "    <tr>\n",
       "      <th>All</th>\n",
       "      <th></th>\n",
       "      <td>59871</td>\n",
       "      <td>75088</td>\n",
       "      <td>134959</td>\n",
       "    </tr>\n",
       "  </tbody>\n",
       "</table>\n",
       "</div>"
      ],
      "text/plain": [
       "has owner answer            0      1     All\n",
       "census region label                         \n",
       "southern      negative  17715  15654   33369\n",
       "              neutral    1135   1496    2631\n",
       "              positive  18032  29444   47476\n",
       "west          negative   8565   9826   18391\n",
       "              neutral     663    894    1557\n",
       "              positive  13761  17774   31535\n",
       "All                     59871  75088  134959"
      ]
     },
     "execution_count": 121,
     "metadata": {},
     "output_type": "execute_result"
    }
   ],
   "source": [
    "pd.crosstab([df['census region'],df['label']],df['has owner answer'],margins=True)"
   ]
  },
  {
   "cell_type": "code",
   "execution_count": 122,
   "id": "d8b11f5a",
   "metadata": {},
   "outputs": [
    {
     "data": {
      "text/html": [
       "<div>\n",
       "<style scoped>\n",
       "    .dataframe tbody tr th:only-of-type {\n",
       "        vertical-align: middle;\n",
       "    }\n",
       "\n",
       "    .dataframe tbody tr th {\n",
       "        vertical-align: top;\n",
       "    }\n",
       "\n",
       "    .dataframe thead th {\n",
       "        text-align: right;\n",
       "    }\n",
       "</style>\n",
       "<table border=\"1\" class=\"dataframe\">\n",
       "  <thead>\n",
       "    <tr style=\"text-align: right;\">\n",
       "      <th></th>\n",
       "      <th>has owner answer</th>\n",
       "      <th>0</th>\n",
       "      <th>1</th>\n",
       "      <th>All</th>\n",
       "    </tr>\n",
       "    <tr>\n",
       "      <th>census region</th>\n",
       "      <th>label</th>\n",
       "      <th></th>\n",
       "      <th></th>\n",
       "      <th></th>\n",
       "    </tr>\n",
       "  </thead>\n",
       "  <tbody>\n",
       "    <tr>\n",
       "      <th rowspan=\"3\" valign=\"top\">southern</th>\n",
       "      <th>negative</th>\n",
       "      <td>0.131262</td>\n",
       "      <td>0.115991</td>\n",
       "      <td>0.247253</td>\n",
       "    </tr>\n",
       "    <tr>\n",
       "      <th>neutral</th>\n",
       "      <td>0.008410</td>\n",
       "      <td>0.011085</td>\n",
       "      <td>0.019495</td>\n",
       "    </tr>\n",
       "    <tr>\n",
       "      <th>positive</th>\n",
       "      <td>0.133611</td>\n",
       "      <td>0.218170</td>\n",
       "      <td>0.351781</td>\n",
       "    </tr>\n",
       "    <tr>\n",
       "      <th rowspan=\"3\" valign=\"top\">west</th>\n",
       "      <th>negative</th>\n",
       "      <td>0.063464</td>\n",
       "      <td>0.072807</td>\n",
       "      <td>0.136271</td>\n",
       "    </tr>\n",
       "    <tr>\n",
       "      <th>neutral</th>\n",
       "      <td>0.004913</td>\n",
       "      <td>0.006624</td>\n",
       "      <td>0.011537</td>\n",
       "    </tr>\n",
       "    <tr>\n",
       "      <th>positive</th>\n",
       "      <td>0.101964</td>\n",
       "      <td>0.131699</td>\n",
       "      <td>0.233664</td>\n",
       "    </tr>\n",
       "    <tr>\n",
       "      <th>All</th>\n",
       "      <th></th>\n",
       "      <td>0.443624</td>\n",
       "      <td>0.556376</td>\n",
       "      <td>1.000000</td>\n",
       "    </tr>\n",
       "  </tbody>\n",
       "</table>\n",
       "</div>"
      ],
      "text/plain": [
       "has owner answer               0         1       All\n",
       "census region label                                 \n",
       "southern      negative  0.131262  0.115991  0.247253\n",
       "              neutral   0.008410  0.011085  0.019495\n",
       "              positive  0.133611  0.218170  0.351781\n",
       "west          negative  0.063464  0.072807  0.136271\n",
       "              neutral   0.004913  0.006624  0.011537\n",
       "              positive  0.101964  0.131699  0.233664\n",
       "All                     0.443624  0.556376  1.000000"
      ]
     },
     "execution_count": 122,
     "metadata": {},
     "output_type": "execute_result"
    }
   ],
   "source": [
    "pd.crosstab([df['census region'],df['label']],df['has owner answer'],margins=True, normalize='all')"
   ]
  },
  {
   "cell_type": "code",
   "execution_count": 123,
   "id": "09613ade",
   "metadata": {},
   "outputs": [
    {
     "data": {
      "text/html": [
       "<div>\n",
       "<style scoped>\n",
       "    .dataframe tbody tr th:only-of-type {\n",
       "        vertical-align: middle;\n",
       "    }\n",
       "\n",
       "    .dataframe tbody tr th {\n",
       "        vertical-align: top;\n",
       "    }\n",
       "\n",
       "    .dataframe thead th {\n",
       "        text-align: right;\n",
       "    }\n",
       "</style>\n",
       "<table border=\"1\" class=\"dataframe\">\n",
       "  <thead>\n",
       "    <tr style=\"text-align: right;\">\n",
       "      <th></th>\n",
       "      <th>has owner answer</th>\n",
       "      <th>0</th>\n",
       "      <th>1</th>\n",
       "    </tr>\n",
       "    <tr>\n",
       "      <th>census region</th>\n",
       "      <th>label</th>\n",
       "      <th></th>\n",
       "      <th></th>\n",
       "    </tr>\n",
       "  </thead>\n",
       "  <tbody>\n",
       "    <tr>\n",
       "      <th rowspan=\"3\" valign=\"top\">southern</th>\n",
       "      <th>negative</th>\n",
       "      <td>0.530882</td>\n",
       "      <td>0.469118</td>\n",
       "    </tr>\n",
       "    <tr>\n",
       "      <th>neutral</th>\n",
       "      <td>0.431395</td>\n",
       "      <td>0.568605</td>\n",
       "    </tr>\n",
       "    <tr>\n",
       "      <th>positive</th>\n",
       "      <td>0.379813</td>\n",
       "      <td>0.620187</td>\n",
       "    </tr>\n",
       "    <tr>\n",
       "      <th rowspan=\"3\" valign=\"top\">west</th>\n",
       "      <th>negative</th>\n",
       "      <td>0.465717</td>\n",
       "      <td>0.534283</td>\n",
       "    </tr>\n",
       "    <tr>\n",
       "      <th>neutral</th>\n",
       "      <td>0.425819</td>\n",
       "      <td>0.574181</td>\n",
       "    </tr>\n",
       "    <tr>\n",
       "      <th>positive</th>\n",
       "      <td>0.436372</td>\n",
       "      <td>0.563628</td>\n",
       "    </tr>\n",
       "    <tr>\n",
       "      <th>All</th>\n",
       "      <th></th>\n",
       "      <td>0.443624</td>\n",
       "      <td>0.556376</td>\n",
       "    </tr>\n",
       "  </tbody>\n",
       "</table>\n",
       "</div>"
      ],
      "text/plain": [
       "has owner answer               0         1\n",
       "census region label                       \n",
       "southern      negative  0.530882  0.469118\n",
       "              neutral   0.431395  0.568605\n",
       "              positive  0.379813  0.620187\n",
       "west          negative  0.465717  0.534283\n",
       "              neutral   0.425819  0.574181\n",
       "              positive  0.436372  0.563628\n",
       "All                     0.443624  0.556376"
      ]
     },
     "execution_count": 123,
     "metadata": {},
     "output_type": "execute_result"
    }
   ],
   "source": [
    "pd.crosstab([df['census region'],df['label']],df['has owner answer'],margins=True, normalize='index')"
   ]
  },
  {
   "cell_type": "code",
   "execution_count": 124,
   "id": "ccb0ea2c",
   "metadata": {},
   "outputs": [
    {
     "data": {
      "text/html": [
       "<div>\n",
       "<style scoped>\n",
       "    .dataframe tbody tr th:only-of-type {\n",
       "        vertical-align: middle;\n",
       "    }\n",
       "\n",
       "    .dataframe tbody tr th {\n",
       "        vertical-align: top;\n",
       "    }\n",
       "\n",
       "    .dataframe thead th {\n",
       "        text-align: right;\n",
       "    }\n",
       "</style>\n",
       "<table border=\"1\" class=\"dataframe\">\n",
       "  <thead>\n",
       "    <tr style=\"text-align: right;\">\n",
       "      <th></th>\n",
       "      <th>has owner answer</th>\n",
       "      <th>0</th>\n",
       "      <th>1</th>\n",
       "      <th>All</th>\n",
       "    </tr>\n",
       "    <tr>\n",
       "      <th>census region</th>\n",
       "      <th>label</th>\n",
       "      <th></th>\n",
       "      <th></th>\n",
       "      <th></th>\n",
       "    </tr>\n",
       "  </thead>\n",
       "  <tbody>\n",
       "    <tr>\n",
       "      <th rowspan=\"3\" valign=\"top\">southern</th>\n",
       "      <th>negative</th>\n",
       "      <td>0.295886</td>\n",
       "      <td>0.208475</td>\n",
       "      <td>0.247253</td>\n",
       "    </tr>\n",
       "    <tr>\n",
       "      <th>neutral</th>\n",
       "      <td>0.018957</td>\n",
       "      <td>0.019923</td>\n",
       "      <td>0.019495</td>\n",
       "    </tr>\n",
       "    <tr>\n",
       "      <th>positive</th>\n",
       "      <td>0.301181</td>\n",
       "      <td>0.392127</td>\n",
       "      <td>0.351781</td>\n",
       "    </tr>\n",
       "    <tr>\n",
       "      <th rowspan=\"3\" valign=\"top\">west</th>\n",
       "      <th>negative</th>\n",
       "      <td>0.143058</td>\n",
       "      <td>0.130860</td>\n",
       "      <td>0.136271</td>\n",
       "    </tr>\n",
       "    <tr>\n",
       "      <th>neutral</th>\n",
       "      <td>0.011074</td>\n",
       "      <td>0.011906</td>\n",
       "      <td>0.011537</td>\n",
       "    </tr>\n",
       "    <tr>\n",
       "      <th>positive</th>\n",
       "      <td>0.229844</td>\n",
       "      <td>0.236709</td>\n",
       "      <td>0.233664</td>\n",
       "    </tr>\n",
       "  </tbody>\n",
       "</table>\n",
       "</div>"
      ],
      "text/plain": [
       "has owner answer               0         1       All\n",
       "census region label                                 \n",
       "southern      negative  0.295886  0.208475  0.247253\n",
       "              neutral   0.018957  0.019923  0.019495\n",
       "              positive  0.301181  0.392127  0.351781\n",
       "west          negative  0.143058  0.130860  0.136271\n",
       "              neutral   0.011074  0.011906  0.011537\n",
       "              positive  0.229844  0.236709  0.233664"
      ]
     },
     "execution_count": 124,
     "metadata": {},
     "output_type": "execute_result"
    }
   ],
   "source": [
    "pd.crosstab([df['census region'],df['label']],df['has owner answer'],margins=True, normalize='columns')"
   ]
  },
  {
   "cell_type": "code",
   "execution_count": 125,
   "id": "afad6c4f",
   "metadata": {},
   "outputs": [
    {
     "data": {
      "text/plain": [
       "0    MedStar Navy Yard is my new go-to for urgent h...\n",
       "1    Dr. Kalra is a very good Doctor. He's all abou...\n",
       "2    Dr. Janelle Leuschen is knowledgeable, patient...\n",
       "3    Very efficient operation - making an appointme...\n",
       "4    Everything from check in to Dr. visit to lab w...\n",
       "Name: cleaned text, dtype: object"
      ]
     },
     "execution_count": 125,
     "metadata": {},
     "output_type": "execute_result"
    }
   ],
   "source": [
    "import demoji\n",
    "import re\n",
    "\n",
    "def remove_emoji(string):\n",
    "    return demoji.replace(string, '')\n",
    "\n",
    "def remove_extra_spaces(string):\n",
    "    return re.sub(r'\\s{2,}',' ',str(string))\n",
    "\n",
    "df['cleaned text'] = df['Review Text'].apply(remove_emoji)\n",
    "df['cleaned text'] = df['cleaned text'].apply(remove_extra_spaces)\n",
    "\n",
    "df['cleaned text'].head()\n"
   ]
  },
  {
   "cell_type": "code",
   "execution_count": null,
   "id": "2cf63526",
   "metadata": {},
   "outputs": [
    {
     "name": "stderr",
     "output_type": "stream",
     "text": [
      "[nltk_data] Downloading package punkt to\n",
      "[nltk_data]     C:\\Users\\hsgam\\AppData\\Roaming\\nltk_data...\n",
      "[nltk_data]   Package punkt is already up-to-date!\n",
      "[nltk_data] Downloading package punkt_tab to\n",
      "[nltk_data]     C:\\Users\\hsgam\\AppData\\Roaming\\nltk_data...\n",
      "[nltk_data]   Package punkt_tab is already up-to-date!\n",
      "[nltk_data] Downloading package stopwords to\n",
      "[nltk_data]     C:\\Users\\hsgam\\AppData\\Roaming\\nltk_data...\n",
      "[nltk_data]   Package stopwords is already up-to-date!\n",
      "[nltk_data] Downloading package wordnet to\n",
      "[nltk_data]     C:\\Users\\hsgam\\AppData\\Roaming\\nltk_data...\n",
      "[nltk_data]   Package wordnet is already up-to-date!\n"
     ]
    }
   ],
   "source": [
    "import nltk\n",
    "import string\n",
    "import unicodedata\n",
    "import nltk.corpus\n",
    "nltk.download('punkt')\n",
    "nltk.download('punkt_tab')\n",
    "nltk.download('stopwords')\n",
    "nltk.download('wordnet')\n",
    "\n",
    "def clean_sentence(sentence):\n",
    "    stops = nltk.corpus.stopwords.words('english') + list(string.punctuation) + ['...',' - ', 'ca', 'wo', \"'s\", \"'ing\",\"'ll\", \"'re\"]\n",
    "    negation = ['but', 'not', \"don't\", \"aren't\", \"couldn't\", \"doesn't\", \"hadn't\", \"hasn't\", \"haven't\", \n",
    "                  \"isn't\", \"shouldn't\", \"wouldn't\"]\n",
    "    for word in negation:\n",
    "        stops.remove(word)\n",
    "    sentence = (unicodedata.normalize('NFKD', sentence)\n",
    "        .encode('ascii', 'ignore')\n",
    "        .decode('utf-8', 'ignore')\n",
    "        .lower())\n",
    "    words = re.sub(r'[^\\w\\s]', '', sentence).split()\n",
    "    word_list = [word for word in words if word not in stops]\n",
    "    return word_list\n",
    "\n",
    "def get_words(df, column):\n",
    "    return clean_sentence(''.join(str(df[column].tolist())))"
   ]
  },
  {
   "cell_type": "code",
   "execution_count": 134,
   "id": "5d664103",
   "metadata": {},
   "outputs": [
    {
     "data": {
      "text/html": [
       "<div>\n",
       "<style scoped>\n",
       "    .dataframe tbody tr th:only-of-type {\n",
       "        vertical-align: middle;\n",
       "    }\n",
       "\n",
       "    .dataframe tbody tr th {\n",
       "        vertical-align: top;\n",
       "    }\n",
       "\n",
       "    .dataframe thead th {\n",
       "        text-align: right;\n",
       "    }\n",
       "</style>\n",
       "<table border=\"1\" class=\"dataframe\">\n",
       "  <thead>\n",
       "    <tr style=\"text-align: right;\">\n",
       "      <th></th>\n",
       "      <th>Author</th>\n",
       "      <th>Review Text</th>\n",
       "      <th>Review Rating</th>\n",
       "      <th>Date</th>\n",
       "      <th>Owner Answer</th>\n",
       "      <th>Owner Answer Date</th>\n",
       "      <th>Author Profile</th>\n",
       "      <th>Author Image</th>\n",
       "      <th>Review URL</th>\n",
       "      <th>label</th>\n",
       "      <th>zip</th>\n",
       "      <th>state</th>\n",
       "      <th>has owner answer</th>\n",
       "      <th>census region</th>\n",
       "      <th>cleaned text</th>\n",
       "    </tr>\n",
       "  </thead>\n",
       "  <tbody>\n",
       "    <tr>\n",
       "      <th>0</th>\n",
       "      <td>Cindy Mac</td>\n",
       "      <td>MedStar Navy Yard is my new go-to for  urgent ...</td>\n",
       "      <td>5</td>\n",
       "      <td>4/15/2025</td>\n",
       "      <td>Thank you so much for taking the time to share...</td>\n",
       "      <td>4 weeks ago</td>\n",
       "      <td>https://www.google.com/maps/contrib/1001501158...</td>\n",
       "      <td>https://lh3.googleusercontent.com/a/ACg8ocLHq1...</td>\n",
       "      <td>https://www.google.com/search?hl=en-US&amp;gl=us&amp;q...</td>\n",
       "      <td>positive</td>\n",
       "      <td>20003.0</td>\n",
       "      <td>District of Columbia</td>\n",
       "      <td>1</td>\n",
       "      <td>southern</td>\n",
       "      <td>MedStar Navy Yard is my new go-to for urgent h...</td>\n",
       "    </tr>\n",
       "    <tr>\n",
       "      <th>1</th>\n",
       "      <td>Bea Hardy</td>\n",
       "      <td>Dr. Kalra is a very good Doctor. He's all abou...</td>\n",
       "      <td>5</td>\n",
       "      <td>4/20/2025</td>\n",
       "      <td>Thank you for sharing your wonderful experienc...</td>\n",
       "      <td>2 weeks ago</td>\n",
       "      <td>https://www.google.com/maps/contrib/1163404463...</td>\n",
       "      <td>https://lh3.googleusercontent.com/a/ACg8ocLdk0...</td>\n",
       "      <td>https://www.google.com/search?hl=en-US&amp;gl=us&amp;q...</td>\n",
       "      <td>positive</td>\n",
       "      <td>20003.0</td>\n",
       "      <td>District of Columbia</td>\n",
       "      <td>1</td>\n",
       "      <td>southern</td>\n",
       "      <td>Dr. Kalra is a very good Doctor. He's all abou...</td>\n",
       "    </tr>\n",
       "    <tr>\n",
       "      <th>2</th>\n",
       "      <td>Yuhuan Song</td>\n",
       "      <td>Dr. Janelle Leuschen is knowledgeable, patient...</td>\n",
       "      <td>5</td>\n",
       "      <td>1/28/2025</td>\n",
       "      <td>Hi Yuhuan, thank you for your wonderful review...</td>\n",
       "      <td>3 months ago</td>\n",
       "      <td>https://www.google.com/maps/contrib/1088711346...</td>\n",
       "      <td>https://lh3.googleusercontent.com/a/ACg8ocLr9_...</td>\n",
       "      <td>https://www.google.com/search?hl=en-US&amp;gl=us&amp;q...</td>\n",
       "      <td>positive</td>\n",
       "      <td>20003.0</td>\n",
       "      <td>District of Columbia</td>\n",
       "      <td>1</td>\n",
       "      <td>southern</td>\n",
       "      <td>Dr. Janelle Leuschen is knowledgeable, patient...</td>\n",
       "    </tr>\n",
       "    <tr>\n",
       "      <th>3</th>\n",
       "      <td>Beth Castberg Litton</td>\n",
       "      <td>Very efficient operation - making an appointme...</td>\n",
       "      <td>5</td>\n",
       "      <td>1/27/2025</td>\n",
       "      <td>Thank you so much for sharing this experience ...</td>\n",
       "      <td>3 months ago</td>\n",
       "      <td>https://www.google.com/maps/contrib/1089223471...</td>\n",
       "      <td>https://lh3.googleusercontent.com/a-/ALV-UjVwL...</td>\n",
       "      <td>https://www.google.com/search?hl=en-US&amp;gl=us&amp;q...</td>\n",
       "      <td>positive</td>\n",
       "      <td>20003.0</td>\n",
       "      <td>District of Columbia</td>\n",
       "      <td>1</td>\n",
       "      <td>southern</td>\n",
       "      <td>Very efficient operation - making an appointme...</td>\n",
       "    </tr>\n",
       "    <tr>\n",
       "      <th>4</th>\n",
       "      <td>Gina Weller</td>\n",
       "      <td>Everything from check in to Dr. visit to lab w...</td>\n",
       "      <td>5</td>\n",
       "      <td>4/30/2025</td>\n",
       "      <td>Hi Gina, thank you for sharing your experience...</td>\n",
       "      <td>4 days ago</td>\n",
       "      <td>https://www.google.com/maps/contrib/1153378942...</td>\n",
       "      <td>https://lh3.googleusercontent.com/a/ACg8ocKHwr...</td>\n",
       "      <td>https://www.google.com/search?hl=en-US&amp;gl=us&amp;q...</td>\n",
       "      <td>positive</td>\n",
       "      <td>20003.0</td>\n",
       "      <td>District of Columbia</td>\n",
       "      <td>1</td>\n",
       "      <td>southern</td>\n",
       "      <td>Everything from check in to Dr. visit to lab w...</td>\n",
       "    </tr>\n",
       "    <tr>\n",
       "      <th>...</th>\n",
       "      <td>...</td>\n",
       "      <td>...</td>\n",
       "      <td>...</td>\n",
       "      <td>...</td>\n",
       "      <td>...</td>\n",
       "      <td>...</td>\n",
       "      <td>...</td>\n",
       "      <td>...</td>\n",
       "      <td>...</td>\n",
       "      <td>...</td>\n",
       "      <td>...</td>\n",
       "      <td>...</td>\n",
       "      <td>...</td>\n",
       "      <td>...</td>\n",
       "      <td>...</td>\n",
       "    </tr>\n",
       "    <tr>\n",
       "      <th>205499</th>\n",
       "      <td>Pammy Minor</td>\n",
       "      <td>Terrible 😞 sad really</td>\n",
       "      <td>1</td>\n",
       "      <td>2/23/2024</td>\n",
       "      <td>no answer</td>\n",
       "      <td>no date</td>\n",
       "      <td>https://www.google.com/maps/contrib/1010567763...</td>\n",
       "      <td>https://lh3.googleusercontent.com/a/ACg8ocJSu5...</td>\n",
       "      <td>https://www.google.com/search?hl=en-US&amp;gl=us&amp;q...</td>\n",
       "      <td>negative</td>\n",
       "      <td>24801.0</td>\n",
       "      <td>West Virginia</td>\n",
       "      <td>0</td>\n",
       "      <td>southern</td>\n",
       "      <td>Terrible sad really</td>\n",
       "    </tr>\n",
       "    <tr>\n",
       "      <th>205500</th>\n",
       "      <td>Teresa</td>\n",
       "      <td>Wish I had gone somewhere else.</td>\n",
       "      <td>1</td>\n",
       "      <td>11/9/2016</td>\n",
       "      <td>no answer</td>\n",
       "      <td>no date</td>\n",
       "      <td>https://www.google.com/maps/contrib/1007673731...</td>\n",
       "      <td>https://lh3.googleusercontent.com/a-/ALV-UjXs6...</td>\n",
       "      <td>https://www.google.com/search?hl=en-US&amp;gl=us&amp;q...</td>\n",
       "      <td>negative</td>\n",
       "      <td>24801.0</td>\n",
       "      <td>West Virginia</td>\n",
       "      <td>0</td>\n",
       "      <td>southern</td>\n",
       "      <td>Wish I had gone somewhere else.</td>\n",
       "    </tr>\n",
       "    <tr>\n",
       "      <th>205501</th>\n",
       "      <td>Brooke Bishop</td>\n",
       "      <td>Staff was very rude!</td>\n",
       "      <td>1</td>\n",
       "      <td>9/19/2022</td>\n",
       "      <td>no answer</td>\n",
       "      <td>no date</td>\n",
       "      <td>https://www.google.com/maps/contrib/1124278477...</td>\n",
       "      <td>https://lh3.googleusercontent.com/a-/ALV-UjXm3...</td>\n",
       "      <td>https://www.google.com/search?hl=en-US&amp;gl=us&amp;q...</td>\n",
       "      <td>negative</td>\n",
       "      <td>24801.0</td>\n",
       "      <td>West Virginia</td>\n",
       "      <td>0</td>\n",
       "      <td>southern</td>\n",
       "      <td>Staff was very rude!</td>\n",
       "    </tr>\n",
       "    <tr>\n",
       "      <th>205502</th>\n",
       "      <td>I am K marie</td>\n",
       "      <td>They take forever 😑</td>\n",
       "      <td>2</td>\n",
       "      <td>9/4/2018</td>\n",
       "      <td>no answer</td>\n",
       "      <td>no date</td>\n",
       "      <td>https://www.google.com/maps/contrib/1023820138...</td>\n",
       "      <td>https://lh3.googleusercontent.com/a-/ALV-UjWWa...</td>\n",
       "      <td>https://www.google.com/search?hl=en-US&amp;gl=us&amp;q...</td>\n",
       "      <td>negative</td>\n",
       "      <td>24801.0</td>\n",
       "      <td>West Virginia</td>\n",
       "      <td>0</td>\n",
       "      <td>southern</td>\n",
       "      <td>They take forever</td>\n",
       "    </tr>\n",
       "    <tr>\n",
       "      <th>205503</th>\n",
       "      <td>Cpete 95</td>\n",
       "      <td>Just terrible</td>\n",
       "      <td>1</td>\n",
       "      <td>8/4/2019</td>\n",
       "      <td>no answer</td>\n",
       "      <td>no date</td>\n",
       "      <td>https://www.google.com/maps/contrib/1165178485...</td>\n",
       "      <td>https://lh3.googleusercontent.com/a/ACg8ocJAHZ...</td>\n",
       "      <td>https://www.google.com/search?hl=en-US&amp;gl=us&amp;q...</td>\n",
       "      <td>negative</td>\n",
       "      <td>24801.0</td>\n",
       "      <td>West Virginia</td>\n",
       "      <td>0</td>\n",
       "      <td>southern</td>\n",
       "      <td>Just terrible</td>\n",
       "    </tr>\n",
       "  </tbody>\n",
       "</table>\n",
       "<p>83476 rows × 15 columns</p>\n",
       "</div>"
      ],
      "text/plain": [
       "                      Author  \\\n",
       "0                  Cindy Mac   \n",
       "1                  Bea Hardy   \n",
       "2                Yuhuan Song   \n",
       "3       Beth Castberg Litton   \n",
       "4                Gina Weller   \n",
       "...                      ...   \n",
       "205499           Pammy Minor   \n",
       "205500                Teresa   \n",
       "205501         Brooke Bishop   \n",
       "205502          I am K marie   \n",
       "205503              Cpete 95   \n",
       "\n",
       "                                              Review Text  Review Rating  \\\n",
       "0       MedStar Navy Yard is my new go-to for  urgent ...              5   \n",
       "1       Dr. Kalra is a very good Doctor. He's all abou...              5   \n",
       "2       Dr. Janelle Leuschen is knowledgeable, patient...              5   \n",
       "3       Very efficient operation - making an appointme...              5   \n",
       "4       Everything from check in to Dr. visit to lab w...              5   \n",
       "...                                                   ...            ...   \n",
       "205499                              Terrible 😞 sad really              1   \n",
       "205500                    Wish I had gone somewhere else.              1   \n",
       "205501                               Staff was very rude!              1   \n",
       "205502                                They take forever 😑              2   \n",
       "205503                                      Just terrible              1   \n",
       "\n",
       "             Date                                       Owner Answer  \\\n",
       "0       4/15/2025  Thank you so much for taking the time to share...   \n",
       "1       4/20/2025  Thank you for sharing your wonderful experienc...   \n",
       "2       1/28/2025  Hi Yuhuan, thank you for your wonderful review...   \n",
       "3       1/27/2025  Thank you so much for sharing this experience ...   \n",
       "4       4/30/2025  Hi Gina, thank you for sharing your experience...   \n",
       "...           ...                                                ...   \n",
       "205499  2/23/2024                                          no answer   \n",
       "205500  11/9/2016                                          no answer   \n",
       "205501  9/19/2022                                          no answer   \n",
       "205502   9/4/2018                                          no answer   \n",
       "205503   8/4/2019                                          no answer   \n",
       "\n",
       "       Owner Answer Date                                     Author Profile  \\\n",
       "0            4 weeks ago  https://www.google.com/maps/contrib/1001501158...   \n",
       "1            2 weeks ago  https://www.google.com/maps/contrib/1163404463...   \n",
       "2           3 months ago  https://www.google.com/maps/contrib/1088711346...   \n",
       "3           3 months ago  https://www.google.com/maps/contrib/1089223471...   \n",
       "4             4 days ago  https://www.google.com/maps/contrib/1153378942...   \n",
       "...                  ...                                                ...   \n",
       "205499           no date  https://www.google.com/maps/contrib/1010567763...   \n",
       "205500           no date  https://www.google.com/maps/contrib/1007673731...   \n",
       "205501           no date  https://www.google.com/maps/contrib/1124278477...   \n",
       "205502           no date  https://www.google.com/maps/contrib/1023820138...   \n",
       "205503           no date  https://www.google.com/maps/contrib/1165178485...   \n",
       "\n",
       "                                             Author Image  \\\n",
       "0       https://lh3.googleusercontent.com/a/ACg8ocLHq1...   \n",
       "1       https://lh3.googleusercontent.com/a/ACg8ocLdk0...   \n",
       "2       https://lh3.googleusercontent.com/a/ACg8ocLr9_...   \n",
       "3       https://lh3.googleusercontent.com/a-/ALV-UjVwL...   \n",
       "4       https://lh3.googleusercontent.com/a/ACg8ocKHwr...   \n",
       "...                                                   ...   \n",
       "205499  https://lh3.googleusercontent.com/a/ACg8ocJSu5...   \n",
       "205500  https://lh3.googleusercontent.com/a-/ALV-UjXs6...   \n",
       "205501  https://lh3.googleusercontent.com/a-/ALV-UjXm3...   \n",
       "205502  https://lh3.googleusercontent.com/a-/ALV-UjWWa...   \n",
       "205503  https://lh3.googleusercontent.com/a/ACg8ocJAHZ...   \n",
       "\n",
       "                                               Review URL     label      zip  \\\n",
       "0       https://www.google.com/search?hl=en-US&gl=us&q...  positive  20003.0   \n",
       "1       https://www.google.com/search?hl=en-US&gl=us&q...  positive  20003.0   \n",
       "2       https://www.google.com/search?hl=en-US&gl=us&q...  positive  20003.0   \n",
       "3       https://www.google.com/search?hl=en-US&gl=us&q...  positive  20003.0   \n",
       "4       https://www.google.com/search?hl=en-US&gl=us&q...  positive  20003.0   \n",
       "...                                                   ...       ...      ...   \n",
       "205499  https://www.google.com/search?hl=en-US&gl=us&q...  negative  24801.0   \n",
       "205500  https://www.google.com/search?hl=en-US&gl=us&q...  negative  24801.0   \n",
       "205501  https://www.google.com/search?hl=en-US&gl=us&q...  negative  24801.0   \n",
       "205502  https://www.google.com/search?hl=en-US&gl=us&q...  negative  24801.0   \n",
       "205503  https://www.google.com/search?hl=en-US&gl=us&q...  negative  24801.0   \n",
       "\n",
       "                       state has owner answer census region  \\\n",
       "0       District of Columbia                1      southern   \n",
       "1       District of Columbia                1      southern   \n",
       "2       District of Columbia                1      southern   \n",
       "3       District of Columbia                1      southern   \n",
       "4       District of Columbia                1      southern   \n",
       "...                      ...              ...           ...   \n",
       "205499         West Virginia                0      southern   \n",
       "205500         West Virginia                0      southern   \n",
       "205501         West Virginia                0      southern   \n",
       "205502         West Virginia                0      southern   \n",
       "205503         West Virginia                0      southern   \n",
       "\n",
       "                                             cleaned text  \n",
       "0       MedStar Navy Yard is my new go-to for urgent h...  \n",
       "1       Dr. Kalra is a very good Doctor. He's all abou...  \n",
       "2       Dr. Janelle Leuschen is knowledgeable, patient...  \n",
       "3       Very efficient operation - making an appointme...  \n",
       "4       Everything from check in to Dr. visit to lab w...  \n",
       "...                                                   ...  \n",
       "205499                                Terrible sad really  \n",
       "205500                    Wish I had gone somewhere else.  \n",
       "205501                               Staff was very rude!  \n",
       "205502                                 They take forever   \n",
       "205503                                      Just terrible  \n",
       "\n",
       "[83476 rows x 15 columns]"
      ]
     },
     "execution_count": 134,
     "metadata": {},
     "output_type": "execute_result"
    }
   ],
   "source": [
    "mask = df['census region'] == 'southern'\n",
    "south_df = df[mask]\n",
    "south_df"
   ]
  },
  {
   "cell_type": "code",
   "execution_count": 135,
   "id": "7ef7e524",
   "metadata": {},
   "outputs": [
    {
     "data": {
      "text/html": [
       "<div>\n",
       "<style scoped>\n",
       "    .dataframe tbody tr th:only-of-type {\n",
       "        vertical-align: middle;\n",
       "    }\n",
       "\n",
       "    .dataframe tbody tr th {\n",
       "        vertical-align: top;\n",
       "    }\n",
       "\n",
       "    .dataframe thead th {\n",
       "        text-align: right;\n",
       "    }\n",
       "</style>\n",
       "<table border=\"1\" class=\"dataframe\">\n",
       "  <thead>\n",
       "    <tr style=\"text-align: right;\">\n",
       "      <th></th>\n",
       "      <th>Author</th>\n",
       "      <th>Review Text</th>\n",
       "      <th>Review Rating</th>\n",
       "      <th>Date</th>\n",
       "      <th>Owner Answer</th>\n",
       "      <th>Owner Answer Date</th>\n",
       "      <th>Author Profile</th>\n",
       "      <th>Author Image</th>\n",
       "      <th>Review URL</th>\n",
       "      <th>label</th>\n",
       "      <th>zip</th>\n",
       "      <th>state</th>\n",
       "      <th>has owner answer</th>\n",
       "      <th>census region</th>\n",
       "      <th>cleaned text</th>\n",
       "    </tr>\n",
       "  </thead>\n",
       "  <tbody>\n",
       "    <tr>\n",
       "      <th>2109</th>\n",
       "      <td>Shantell “shanny” I</td>\n",
       "      <td>When in for my Mammogram. First time at Castle...</td>\n",
       "      <td>5</td>\n",
       "      <td>4/25/2025</td>\n",
       "      <td>Hi Shantell, thank you for taking the time to ...</td>\n",
       "      <td>2 weeks ago</td>\n",
       "      <td>https://www.google.com/maps/contrib/1087384604...</td>\n",
       "      <td>https://lh3.googleusercontent.com/a-/ALV-UjV3G...</td>\n",
       "      <td>https://www.google.com/search?hl=en-US&amp;gl=us&amp;q...</td>\n",
       "      <td>positive</td>\n",
       "      <td>96734.0</td>\n",
       "      <td>Hawaii</td>\n",
       "      <td>1</td>\n",
       "      <td>west</td>\n",
       "      <td>When in for my Mammogram. First time at Castle...</td>\n",
       "    </tr>\n",
       "    <tr>\n",
       "      <th>2110</th>\n",
       "      <td>Gail Higaki</td>\n",
       "      <td>The admission, CAT scan and nursing staff were...</td>\n",
       "      <td>5</td>\n",
       "      <td>4/23/2025</td>\n",
       "      <td>Gail, thank you for the positive review! We wo...</td>\n",
       "      <td>2 weeks ago</td>\n",
       "      <td>https://www.google.com/maps/contrib/1021198441...</td>\n",
       "      <td>https://lh3.googleusercontent.com/a/ACg8ocJXsY...</td>\n",
       "      <td>https://www.google.com/search?hl=en-US&amp;gl=us&amp;q...</td>\n",
       "      <td>positive</td>\n",
       "      <td>96734.0</td>\n",
       "      <td>Hawaii</td>\n",
       "      <td>1</td>\n",
       "      <td>west</td>\n",
       "      <td>The admission, CAT scan and nursing staff were...</td>\n",
       "    </tr>\n",
       "    <tr>\n",
       "      <th>2111</th>\n",
       "      <td>Sarah Iorillo</td>\n",
       "      <td>Alicia Wallace was amazing! Made me feel so co...</td>\n",
       "      <td>5</td>\n",
       "      <td>4/21/2025</td>\n",
       "      <td>Sarah, thank you for the positive review! We w...</td>\n",
       "      <td>2 weeks ago</td>\n",
       "      <td>https://www.google.com/maps/contrib/1150861125...</td>\n",
       "      <td>https://lh3.googleusercontent.com/a-/ALV-UjVzj...</td>\n",
       "      <td>https://www.google.com/search?hl=en-US&amp;gl=us&amp;q...</td>\n",
       "      <td>positive</td>\n",
       "      <td>96734.0</td>\n",
       "      <td>Hawaii</td>\n",
       "      <td>1</td>\n",
       "      <td>west</td>\n",
       "      <td>Alicia Wallace was amazing! Made me feel so co...</td>\n",
       "    </tr>\n",
       "    <tr>\n",
       "      <th>2112</th>\n",
       "      <td>Gary slovin</td>\n",
       "      <td>I was very impressed by the caring attitude di...</td>\n",
       "      <td>5</td>\n",
       "      <td>4/24/2025</td>\n",
       "      <td>Hello Gary, thanks for taking the time to leav...</td>\n",
       "      <td>2 weeks ago</td>\n",
       "      <td>https://www.google.com/maps/contrib/1047845373...</td>\n",
       "      <td>https://lh3.googleusercontent.com/a/ACg8ocIeXk...</td>\n",
       "      <td>https://www.google.com/search?hl=en-US&amp;gl=us&amp;q...</td>\n",
       "      <td>positive</td>\n",
       "      <td>96734.0</td>\n",
       "      <td>Hawaii</td>\n",
       "      <td>1</td>\n",
       "      <td>west</td>\n",
       "      <td>I was very impressed by the caring attitude di...</td>\n",
       "    </tr>\n",
       "    <tr>\n",
       "      <th>2113</th>\n",
       "      <td>Steve Gulden</td>\n",
       "      <td>Visited ER with a heart related issue and was ...</td>\n",
       "      <td>5</td>\n",
       "      <td>4/30/2025</td>\n",
       "      <td>Thanks for taking the time to acknowledge our ...</td>\n",
       "      <td>a week ago</td>\n",
       "      <td>https://www.google.com/maps/contrib/1128712338...</td>\n",
       "      <td>https://lh3.googleusercontent.com/a-/ALV-UjWMV...</td>\n",
       "      <td>https://www.google.com/search?hl=en-US&amp;gl=us&amp;q...</td>\n",
       "      <td>positive</td>\n",
       "      <td>96734.0</td>\n",
       "      <td>Hawaii</td>\n",
       "      <td>1</td>\n",
       "      <td>west</td>\n",
       "      <td>Visited ER with a heart related issue and was ...</td>\n",
       "    </tr>\n",
       "    <tr>\n",
       "      <th>...</th>\n",
       "      <td>...</td>\n",
       "      <td>...</td>\n",
       "      <td>...</td>\n",
       "      <td>...</td>\n",
       "      <td>...</td>\n",
       "      <td>...</td>\n",
       "      <td>...</td>\n",
       "      <td>...</td>\n",
       "      <td>...</td>\n",
       "      <td>...</td>\n",
       "      <td>...</td>\n",
       "      <td>...</td>\n",
       "      <td>...</td>\n",
       "      <td>...</td>\n",
       "      <td>...</td>\n",
       "    </tr>\n",
       "    <tr>\n",
       "      <th>222394</th>\n",
       "      <td>Thora Ortegren</td>\n",
       "      <td>great!</td>\n",
       "      <td>5</td>\n",
       "      <td>3/26/2022</td>\n",
       "      <td>Hi, Thora. We greatly value your feedback and ...</td>\n",
       "      <td>3 years ago</td>\n",
       "      <td>https://www.google.com/maps/contrib/1001474320...</td>\n",
       "      <td>https://lh3.googleusercontent.com/a-/ALV-UjU5R...</td>\n",
       "      <td>https://www.google.com/search?hl=en-US&amp;gl=us&amp;q...</td>\n",
       "      <td>positive</td>\n",
       "      <td>80027.0</td>\n",
       "      <td>Colorado</td>\n",
       "      <td>1</td>\n",
       "      <td>west</td>\n",
       "      <td>great!</td>\n",
       "    </tr>\n",
       "    <tr>\n",
       "      <th>222395</th>\n",
       "      <td>Abigail Neyland</td>\n",
       "      <td>I love being crazy as f***!</td>\n",
       "      <td>5</td>\n",
       "      <td>12/21/2015</td>\n",
       "      <td>no answer</td>\n",
       "      <td>no date</td>\n",
       "      <td>https://www.google.com/maps/contrib/1151959164...</td>\n",
       "      <td>https://lh3.googleusercontent.com/a/ACg8ocIYf8...</td>\n",
       "      <td>https://www.google.com/search?hl=en-US&amp;gl=us&amp;q...</td>\n",
       "      <td>positive</td>\n",
       "      <td>80027.0</td>\n",
       "      <td>Colorado</td>\n",
       "      <td>0</td>\n",
       "      <td>west</td>\n",
       "      <td>I love being crazy as f***!</td>\n",
       "    </tr>\n",
       "    <tr>\n",
       "      <th>222396</th>\n",
       "      <td>Dana Carroll</td>\n",
       "      <td>Inept. Thats all i can say. Inept and deceiving.</td>\n",
       "      <td>1</td>\n",
       "      <td>4/11/2016</td>\n",
       "      <td>no answer</td>\n",
       "      <td>no date</td>\n",
       "      <td>https://www.google.com/maps/contrib/1074698523...</td>\n",
       "      <td>https://lh3.googleusercontent.com/a/ACg8ocIfga...</td>\n",
       "      <td>https://www.google.com/search?hl=en-US&amp;gl=us&amp;q...</td>\n",
       "      <td>negative</td>\n",
       "      <td>80027.0</td>\n",
       "      <td>Colorado</td>\n",
       "      <td>0</td>\n",
       "      <td>west</td>\n",
       "      <td>Inept. Thats all i can say. Inept and deceiving.</td>\n",
       "    </tr>\n",
       "    <tr>\n",
       "      <th>222397</th>\n",
       "      <td>Dianne Duncan</td>\n",
       "      <td>One word--HORRIBLE</td>\n",
       "      <td>1</td>\n",
       "      <td>4/26/2016</td>\n",
       "      <td>Dianne - thank you for taking the time to post...</td>\n",
       "      <td>9 years ago</td>\n",
       "      <td>https://www.google.com/maps/contrib/1060679638...</td>\n",
       "      <td>https://lh3.googleusercontent.com/a/ACg8ocL1jo...</td>\n",
       "      <td>https://www.google.com/search?hl=en-US&amp;gl=us&amp;q...</td>\n",
       "      <td>negative</td>\n",
       "      <td>80027.0</td>\n",
       "      <td>Colorado</td>\n",
       "      <td>1</td>\n",
       "      <td>west</td>\n",
       "      <td>One word--HORRIBLE</td>\n",
       "    </tr>\n",
       "    <tr>\n",
       "      <th>222398</th>\n",
       "      <td>Miguel Espinoza</td>\n",
       "      <td>Excelente lugar 👍</td>\n",
       "      <td>5</td>\n",
       "      <td>3/29/2024</td>\n",
       "      <td>¡Muchas gracias por tu opinión, Miguel! ¡Realm...</td>\n",
       "      <td>a year ago</td>\n",
       "      <td>https://www.google.com/maps/contrib/1122648666...</td>\n",
       "      <td>https://lh3.googleusercontent.com/a-/ALV-UjWGh...</td>\n",
       "      <td>https://www.google.com/search?hl=en-US&amp;gl=us&amp;q...</td>\n",
       "      <td>positive</td>\n",
       "      <td>80027.0</td>\n",
       "      <td>Colorado</td>\n",
       "      <td>1</td>\n",
       "      <td>west</td>\n",
       "      <td>Excelente lugar</td>\n",
       "    </tr>\n",
       "  </tbody>\n",
       "</table>\n",
       "<p>51483 rows × 15 columns</p>\n",
       "</div>"
      ],
      "text/plain": [
       "                     Author  \\\n",
       "2109    Shantell “shanny” I   \n",
       "2110            Gail Higaki   \n",
       "2111          Sarah Iorillo   \n",
       "2112            Gary slovin   \n",
       "2113           Steve Gulden   \n",
       "...                     ...   \n",
       "222394       Thora Ortegren   \n",
       "222395      Abigail Neyland   \n",
       "222396         Dana Carroll   \n",
       "222397        Dianne Duncan   \n",
       "222398      Miguel Espinoza   \n",
       "\n",
       "                                              Review Text  Review Rating  \\\n",
       "2109    When in for my Mammogram. First time at Castle...              5   \n",
       "2110    The admission, CAT scan and nursing staff were...              5   \n",
       "2111    Alicia Wallace was amazing! Made me feel so co...              5   \n",
       "2112    I was very impressed by the caring attitude di...              5   \n",
       "2113    Visited ER with a heart related issue and was ...              5   \n",
       "...                                                   ...            ...   \n",
       "222394                                             great!              5   \n",
       "222395                        I love being crazy as f***!              5   \n",
       "222396   Inept. Thats all i can say. Inept and deceiving.              1   \n",
       "222397                                 One word--HORRIBLE              1   \n",
       "222398                                  Excelente lugar 👍              5   \n",
       "\n",
       "              Date                                       Owner Answer  \\\n",
       "2109     4/25/2025  Hi Shantell, thank you for taking the time to ...   \n",
       "2110     4/23/2025  Gail, thank you for the positive review! We wo...   \n",
       "2111     4/21/2025  Sarah, thank you for the positive review! We w...   \n",
       "2112     4/24/2025  Hello Gary, thanks for taking the time to leav...   \n",
       "2113     4/30/2025  Thanks for taking the time to acknowledge our ...   \n",
       "...            ...                                                ...   \n",
       "222394   3/26/2022  Hi, Thora. We greatly value your feedback and ...   \n",
       "222395  12/21/2015                                          no answer   \n",
       "222396   4/11/2016                                          no answer   \n",
       "222397   4/26/2016  Dianne - thank you for taking the time to post...   \n",
       "222398   3/29/2024  ¡Muchas gracias por tu opinión, Miguel! ¡Realm...   \n",
       "\n",
       "       Owner Answer Date                                     Author Profile  \\\n",
       "2109         2 weeks ago  https://www.google.com/maps/contrib/1087384604...   \n",
       "2110         2 weeks ago  https://www.google.com/maps/contrib/1021198441...   \n",
       "2111         2 weeks ago  https://www.google.com/maps/contrib/1150861125...   \n",
       "2112         2 weeks ago  https://www.google.com/maps/contrib/1047845373...   \n",
       "2113          a week ago  https://www.google.com/maps/contrib/1128712338...   \n",
       "...                  ...                                                ...   \n",
       "222394       3 years ago  https://www.google.com/maps/contrib/1001474320...   \n",
       "222395           no date  https://www.google.com/maps/contrib/1151959164...   \n",
       "222396           no date  https://www.google.com/maps/contrib/1074698523...   \n",
       "222397       9 years ago  https://www.google.com/maps/contrib/1060679638...   \n",
       "222398        a year ago  https://www.google.com/maps/contrib/1122648666...   \n",
       "\n",
       "                                             Author Image  \\\n",
       "2109    https://lh3.googleusercontent.com/a-/ALV-UjV3G...   \n",
       "2110    https://lh3.googleusercontent.com/a/ACg8ocJXsY...   \n",
       "2111    https://lh3.googleusercontent.com/a-/ALV-UjVzj...   \n",
       "2112    https://lh3.googleusercontent.com/a/ACg8ocIeXk...   \n",
       "2113    https://lh3.googleusercontent.com/a-/ALV-UjWMV...   \n",
       "...                                                   ...   \n",
       "222394  https://lh3.googleusercontent.com/a-/ALV-UjU5R...   \n",
       "222395  https://lh3.googleusercontent.com/a/ACg8ocIYf8...   \n",
       "222396  https://lh3.googleusercontent.com/a/ACg8ocIfga...   \n",
       "222397  https://lh3.googleusercontent.com/a/ACg8ocL1jo...   \n",
       "222398  https://lh3.googleusercontent.com/a-/ALV-UjWGh...   \n",
       "\n",
       "                                               Review URL     label      zip  \\\n",
       "2109    https://www.google.com/search?hl=en-US&gl=us&q...  positive  96734.0   \n",
       "2110    https://www.google.com/search?hl=en-US&gl=us&q...  positive  96734.0   \n",
       "2111    https://www.google.com/search?hl=en-US&gl=us&q...  positive  96734.0   \n",
       "2112    https://www.google.com/search?hl=en-US&gl=us&q...  positive  96734.0   \n",
       "2113    https://www.google.com/search?hl=en-US&gl=us&q...  positive  96734.0   \n",
       "...                                                   ...       ...      ...   \n",
       "222394  https://www.google.com/search?hl=en-US&gl=us&q...  positive  80027.0   \n",
       "222395  https://www.google.com/search?hl=en-US&gl=us&q...  positive  80027.0   \n",
       "222396  https://www.google.com/search?hl=en-US&gl=us&q...  negative  80027.0   \n",
       "222397  https://www.google.com/search?hl=en-US&gl=us&q...  negative  80027.0   \n",
       "222398  https://www.google.com/search?hl=en-US&gl=us&q...  positive  80027.0   \n",
       "\n",
       "           state has owner answer census region  \\\n",
       "2109      Hawaii                1          west   \n",
       "2110      Hawaii                1          west   \n",
       "2111      Hawaii                1          west   \n",
       "2112      Hawaii                1          west   \n",
       "2113      Hawaii                1          west   \n",
       "...          ...              ...           ...   \n",
       "222394  Colorado                1          west   \n",
       "222395  Colorado                0          west   \n",
       "222396  Colorado                0          west   \n",
       "222397  Colorado                1          west   \n",
       "222398  Colorado                1          west   \n",
       "\n",
       "                                             cleaned text  \n",
       "2109    When in for my Mammogram. First time at Castle...  \n",
       "2110    The admission, CAT scan and nursing staff were...  \n",
       "2111    Alicia Wallace was amazing! Made me feel so co...  \n",
       "2112    I was very impressed by the caring attitude di...  \n",
       "2113    Visited ER with a heart related issue and was ...  \n",
       "...                                                   ...  \n",
       "222394                                             great!  \n",
       "222395                        I love being crazy as f***!  \n",
       "222396   Inept. Thats all i can say. Inept and deceiving.  \n",
       "222397                                 One word--HORRIBLE  \n",
       "222398                                   Excelente lugar   \n",
       "\n",
       "[51483 rows x 15 columns]"
      ]
     },
     "execution_count": 135,
     "metadata": {},
     "output_type": "execute_result"
    }
   ],
   "source": [
    "west_df = df[~mask]\n",
    "west_df"
   ]
  },
  {
   "cell_type": "code",
   "execution_count": 141,
   "id": "3a816489",
   "metadata": {},
   "outputs": [
    {
     "name": "stdout",
     "output_type": "stream",
     "text": [
      "Vocabulary size: 137805\n"
     ]
    }
   ],
   "source": [
    "all_words = get_words(df, 'cleaned text')\n",
    "all_freq = pd.Series(all_words).value_counts()\n",
    "vocab_size = len(all_freq)\n",
    "\n",
    "print('Vocabulary size: ' + str(vocab_size))"
   ]
  },
  {
   "cell_type": "code",
   "execution_count": null,
   "id": "b74467b7",
   "metadata": {},
   "outputs": [
    {
     "name": "stdout",
     "output_type": "stream",
     "text": [
      "Vocabulary size: 95478\n"
     ]
    }
   ],
   "source": [
    "all_words_south = get_words(south_df, 'cleaned text')\n",
    "all_freq_south = pd.Series(all_words_south).value_counts()\n",
    "vocab_size_south = len(all_freq_south)\n",
    "\n",
    "print('Vocabulary size: ' + str(vocab_size_south))"
   ]
  },
  {
   "cell_type": "code",
   "execution_count": 145,
   "id": "e4069097",
   "metadata": {},
   "outputs": [
    {
     "data": {
      "text/html": [
       "<div>\n",
       "<style scoped>\n",
       "    .dataframe tbody tr th:only-of-type {\n",
       "        vertical-align: middle;\n",
       "    }\n",
       "\n",
       "    .dataframe tbody tr th {\n",
       "        vertical-align: top;\n",
       "    }\n",
       "\n",
       "    .dataframe thead th {\n",
       "        text-align: right;\n",
       "    }\n",
       "</style>\n",
       "<table border=\"1\" class=\"dataframe\">\n",
       "  <thead>\n",
       "    <tr style=\"text-align: right;\">\n",
       "      <th></th>\n",
       "      <th>all</th>\n",
       "      <th>pos</th>\n",
       "      <th>neg</th>\n",
       "      <th>neu</th>\n",
       "    </tr>\n",
       "  </thead>\n",
       "  <tbody>\n",
       "    <tr>\n",
       "      <th>expect</th>\n",
       "      <td>998</td>\n",
       "      <td>406.0</td>\n",
       "      <td>536.0</td>\n",
       "      <td>56.0</td>\n",
       "    </tr>\n",
       "    <tr>\n",
       "      <th>clearly</th>\n",
       "      <td>998</td>\n",
       "      <td>245.0</td>\n",
       "      <td>715.0</td>\n",
       "      <td>38.0</td>\n",
       "    </tr>\n",
       "    <tr>\n",
       "      <th>etc</th>\n",
       "      <td>995</td>\n",
       "      <td>394.0</td>\n",
       "      <td>544.0</td>\n",
       "      <td>57.0</td>\n",
       "    </tr>\n",
       "    <tr>\n",
       "      <th>nobody</th>\n",
       "      <td>994</td>\n",
       "      <td>93.0</td>\n",
       "      <td>862.0</td>\n",
       "      <td>39.0</td>\n",
       "    </tr>\n",
       "    <tr>\n",
       "      <th>paperwork</th>\n",
       "      <td>993</td>\n",
       "      <td>273.0</td>\n",
       "      <td>659.0</td>\n",
       "      <td>61.0</td>\n",
       "    </tr>\n",
       "    <tr>\n",
       "      <th>stomach</th>\n",
       "      <td>992</td>\n",
       "      <td>184.0</td>\n",
       "      <td>781.0</td>\n",
       "      <td>27.0</td>\n",
       "    </tr>\n",
       "    <tr>\n",
       "      <th>halls</th>\n",
       "      <td>99</td>\n",
       "      <td>28.0</td>\n",
       "      <td>65.0</td>\n",
       "      <td>6.0</td>\n",
       "    </tr>\n",
       "    <tr>\n",
       "      <th>evident</th>\n",
       "      <td>99</td>\n",
       "      <td>59.0</td>\n",
       "      <td>39.0</td>\n",
       "      <td>1.0</td>\n",
       "    </tr>\n",
       "    <tr>\n",
       "      <th>75</th>\n",
       "      <td>99</td>\n",
       "      <td>17.0</td>\n",
       "      <td>74.0</td>\n",
       "      <td>8.0</td>\n",
       "    </tr>\n",
       "    <tr>\n",
       "      <th>technology</th>\n",
       "      <td>99</td>\n",
       "      <td>61.0</td>\n",
       "      <td>35.0</td>\n",
       "      <td>3.0</td>\n",
       "    </tr>\n",
       "  </tbody>\n",
       "</table>\n",
       "</div>"
      ],
      "text/plain": [
       "            all    pos    neg   neu\n",
       "expect      998  406.0  536.0  56.0\n",
       "clearly     998  245.0  715.0  38.0\n",
       "etc         995  394.0  544.0  57.0\n",
       "nobody      994   93.0  862.0  39.0\n",
       "paperwork   993  273.0  659.0  61.0\n",
       "stomach     992  184.0  781.0  27.0\n",
       "halls        99   28.0   65.0   6.0\n",
       "evident      99   59.0   39.0   1.0\n",
       "75           99   17.0   74.0   8.0\n",
       "technology   99   61.0   35.0   3.0"
      ]
     },
     "execution_count": 145,
     "metadata": {},
     "output_type": "execute_result"
    }
   ],
   "source": [
    "pos_mask = south_df['label'] == 'positive'\n",
    "neg_mask = south_df['label'] == 'negative'\n",
    "neu_mask = south_df['label'] == 'neutral'\n",
    "\n",
    "south_pos_words = south_df[pos_mask]\n",
    "south_neg_words = south_df[neg_mask]\n",
    "south_neu_words = south_df[neu_mask]\n",
    "\n",
    "s_pos_word_list = get_words(south_pos_words, 'cleaned text')\n",
    "s_neg_word_list = get_words(south_neg_words, 'cleaned text')\n",
    "s_neu_word_list = get_words(south_neu_words, 'cleaned text')\n",
    "\n",
    "s_pos_word_freq = pd.Series(s_pos_word_list).value_counts()\n",
    "s_neg_word_freq = pd.Series(s_neg_word_list).value_counts()\n",
    "s_neu_word_freq = pd.Series(s_neu_word_list).value_counts()\n",
    "\n",
    "word_counts_df = (pd.concat([all_freq_south, s_pos_word_freq, s_neg_word_freq, s_neu_word_freq],\n",
    "                            axis=1, sort=True).set_axis(['all','pos','neg','neu'], axis=1)\n",
    "                            .apply(lambda s: s.astype(str)))\n",
    "\n",
    "word_counts_df.sort_values(by='all', ascending=False).head(10)"
   ]
  },
  {
   "cell_type": "code",
   "execution_count": 149,
   "id": "872ada08",
   "metadata": {},
   "outputs": [
    {
     "name": "stdout",
     "output_type": "stream",
     "text": [
      "Vocabulary size: 73638\n"
     ]
    }
   ],
   "source": [
    "all_words_west = get_words(west_df, 'cleaned text')\n",
    "all_freq_west = pd.Series(all_words_west).value_counts()\n",
    "vocab_size_west = len(all_freq_west)\n",
    "\n",
    "print('Vocabulary size: ' + str(vocab_size_west))"
   ]
  },
  {
   "cell_type": "code",
   "execution_count": 150,
   "id": "2aef0cea",
   "metadata": {},
   "outputs": [
    {
     "data": {
      "text/plain": [
       "\"\\ndef isEnglish(c):\\n    try:\\n        c.encode(encoding='utf-8').decode('ascii')\\n    except UnicodeDecodeError:\\n        return False\\n    else:\\n        return True\\n\\nnon_english = []\\nfor index, row in df.iterrows():\\n    for l in list(row['cleaned text']):\\n        for c in l:\\n            if isEnglish(c) == True:\\n                pass\\n            else:\\n                non_english.append(c)\\nprint(non_english[:10])\\n\""
      ]
     },
     "execution_count": 150,
     "metadata": {},
     "output_type": "execute_result"
    }
   ],
   "source": [
    "'''\n",
    "def isEnglish(c):\n",
    "    try:\n",
    "        c.encode(encoding='utf-8').decode('ascii')\n",
    "    except UnicodeDecodeError:\n",
    "        return False\n",
    "    else:\n",
    "        return True\n",
    "\n",
    "non_english = []\n",
    "for index, row in df.iterrows():\n",
    "    for l in list(row['cleaned text']):\n",
    "        for c in l:\n",
    "            if isEnglish(c) == True:\n",
    "                pass\n",
    "            else:\n",
    "                non_english.append(c)\n",
    "print(non_english[:10])\n",
    "'''"
   ]
  }
 ],
 "metadata": {
  "kernelspec": {
   "display_name": "Python 3",
   "language": "python",
   "name": "python3"
  },
  "language_info": {
   "codemirror_mode": {
    "name": "ipython",
    "version": 3
   },
   "file_extension": ".py",
   "mimetype": "text/x-python",
   "name": "python",
   "nbconvert_exporter": "python",
   "pygments_lexer": "ipython3",
   "version": "3.12.2"
  }
 },
 "nbformat": 4,
 "nbformat_minor": 5
}
