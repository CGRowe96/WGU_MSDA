{
 "cells": [
  {
   "cell_type": "markdown",
   "id": "20f94527",
   "metadata": {},
   "source": [
    "<font size='10'>Opinions of Medical Facilities: A Regional Comparison</font><br>\n",
    "<font size='6'>Companion Notebook</font>\n",
    "\n",
    "<font size='4'>WGU MSDA Program D214 - Charles G. Rowe 006539689</font>"
   ]
  },
  {
   "cell_type": "code",
   "execution_count": 1,
   "id": "fd020e07",
   "metadata": {},
   "outputs": [
    {
     "name": "stderr",
     "output_type": "stream",
     "text": [
      "<>:4: SyntaxWarning: invalid escape sequence '\\M'\n",
      "<>:4: SyntaxWarning: invalid escape sequence '\\M'\n",
      "C:\\Users\\cgrow\\AppData\\Local\\Temp\\ipykernel_17332\\1295670377.py:4: SyntaxWarning: invalid escape sequence '\\M'\n",
      "  directory = os.chdir(\"G:\\My Drive\\Capstone Files\\Datasets\")\n"
     ]
    }
   ],
   "source": [
    "import os\n",
    "import pandas as pd\n",
    "\n",
    "directory = os.chdir(\"G:\\My Drive\\Capstone Files\\Datasets\")"
   ]
  },
  {
   "cell_type": "code",
   "execution_count": 2,
   "id": "e2a8483a",
   "metadata": {},
   "outputs": [
    {
     "data": {
      "text/plain": [
       "Index(['Unnamed: 0', 'Author', 'Review Text', 'Review Rating', 'Date',\n",
       "       'Owner Answer', 'Owner Answer Date', 'Author Profile', 'Author Image',\n",
       "       'Review URL', 'label', 'zip', 'spill1', 'spill2', 'spill3', 'spill4',\n",
       "       'spill5', 'spill7', 'spill7.1', 'spill8', 'state'],\n",
       "      dtype='object')"
      ]
     },
     "execution_count": 2,
     "metadata": {},
     "output_type": "execute_result"
    }
   ],
   "source": [
    "df = pd.read_csv(\"full.csv\")\n",
    "df.columns"
   ]
  },
  {
   "cell_type": "code",
   "execution_count": 3,
   "id": "3a24d0c0",
   "metadata": {},
   "outputs": [
    {
     "data": {
      "text/plain": [
       "Index(['Unnamed: 0', 'Author', 'Review Text', 'Review Rating', 'Date',\n",
       "       'Owner Answer', 'Owner Answer Date', 'Author Profile', 'Author Image',\n",
       "       'Review URL', 'label', 'zip', 'state'],\n",
       "      dtype='object')"
      ]
     },
     "execution_count": 3,
     "metadata": {},
     "output_type": "execute_result"
    }
   ],
   "source": [
    "df = df.drop(columns=[\"spill1\",\"spill2\",\"spill3\",\"spill4\",\"spill5\",\"spill7\",\"spill7.1\",\"spill8\"])\n",
    "df.columns"
   ]
  },
  {
   "cell_type": "code",
   "execution_count": 4,
   "id": "1f0e9869",
   "metadata": {},
   "outputs": [
    {
     "data": {
      "text/plain": [
       "Unnamed: 0                2\n",
       "Author                    9\n",
       "Review Text           24595\n",
       "Review Rating             2\n",
       "Date                      2\n",
       "Owner Answer         118405\n",
       "Owner Answer Date    118405\n",
       "Author Profile            2\n",
       "Author Image              2\n",
       "Review URL                2\n",
       "label                     2\n",
       "zip                       2\n",
       "state                     2\n",
       "dtype: int64"
      ]
     },
     "execution_count": 4,
     "metadata": {},
     "output_type": "execute_result"
    }
   ],
   "source": [
    "num_missing_vals = df.isna().sum()\n",
    "num_missing_vals"
   ]
  },
  {
   "cell_type": "code",
   "execution_count": 5,
   "id": "0b9db5f3",
   "metadata": {},
   "outputs": [
    {
     "data": {
      "text/plain": [
       "np.int64(24595)"
      ]
     },
     "execution_count": 5,
     "metadata": {},
     "output_type": "execute_result"
    }
   ],
   "source": [
    "num_missing_reviews = df['Review Text'].isna().sum()\n",
    "num_missing_reviews"
   ]
  },
  {
   "cell_type": "code",
   "execution_count": 6,
   "id": "b382a328",
   "metadata": {},
   "outputs": [
    {
     "data": {
      "text/plain": [
       "Index(['Unnamed: 0', 'Author', 'Review Text', 'Review Rating', 'Date',\n",
       "       'Owner Answer', 'Owner Answer Date', 'Author Profile', 'Author Image',\n",
       "       'Review URL', 'label', 'zip', 'state'],\n",
       "      dtype='object')"
      ]
     },
     "execution_count": 6,
     "metadata": {},
     "output_type": "execute_result"
    }
   ],
   "source": [
    "df = df.dropna(subset=['Review Text'])\n",
    "df.columns"
   ]
  },
  {
   "cell_type": "code",
   "execution_count": 7,
   "id": "9c830858",
   "metadata": {},
   "outputs": [
    {
     "data": {
      "text/plain": [
       "np.int64(0)"
      ]
     },
     "execution_count": 7,
     "metadata": {},
     "output_type": "execute_result"
    }
   ],
   "source": [
    "num_missing_reviews = df['Review Text'].isna().sum()\n",
    "num_missing_reviews"
   ]
  },
  {
   "cell_type": "code",
   "execution_count": 8,
   "id": "fc5e0192",
   "metadata": {},
   "outputs": [
    {
     "data": {
      "text/plain": [
       "np.int64(101024)"
      ]
     },
     "execution_count": 8,
     "metadata": {},
     "output_type": "execute_result"
    }
   ],
   "source": [
    "num_missing_replies = df['Owner Answer'].isna().sum()\n",
    "num_missing_replies"
   ]
  },
  {
   "cell_type": "code",
   "execution_count": 9,
   "id": "dfda8797",
   "metadata": {},
   "outputs": [
    {
     "data": {
      "text/plain": [
       "np.int64(0)"
      ]
     },
     "execution_count": 9,
     "metadata": {},
     "output_type": "execute_result"
    }
   ],
   "source": [
    "df['Owner Answer'] = df[\"Owner Answer\"].fillna('no answer')\n",
    "num_missing_replies = df['Owner Answer'].isna().sum()\n",
    "num_missing_replies"
   ]
  },
  {
   "cell_type": "code",
   "execution_count": 10,
   "id": "dd49a2ad",
   "metadata": {},
   "outputs": [
    {
     "data": {
      "text/plain": [
       "np.int64(0)"
      ]
     },
     "execution_count": 10,
     "metadata": {},
     "output_type": "execute_result"
    }
   ],
   "source": [
    "df['Owner Answer Date'] = df[\"Owner Answer Date\"].fillna('no date')\n",
    "num_missing_replies = df['Owner Answer Date'].isna().sum()\n",
    "num_missing_replies"
   ]
  },
  {
   "cell_type": "code",
   "execution_count": 11,
   "id": "734ca124",
   "metadata": {},
   "outputs": [
    {
     "data": {
      "text/plain": [
       "np.int64(0)"
      ]
     },
     "execution_count": 11,
     "metadata": {},
     "output_type": "execute_result"
    }
   ],
   "source": [
    "df['Author'] = df[\"Author\"].fillna('anonymous')\n",
    "num_missing_replies = df['Author'].isna().sum()\n",
    "num_missing_replies"
   ]
  },
  {
   "cell_type": "code",
   "execution_count": 12,
   "id": "0f1ba059",
   "metadata": {},
   "outputs": [
    {
     "data": {
      "text/plain": [
       "Unnamed: 0           0\n",
       "Author               0\n",
       "Review Text          0\n",
       "Review Rating        0\n",
       "Date                 0\n",
       "Owner Answer         0\n",
       "Owner Answer Date    0\n",
       "Author Profile       0\n",
       "Author Image         0\n",
       "Review URL           0\n",
       "label                0\n",
       "zip                  0\n",
       "state                0\n",
       "dtype: int64"
      ]
     },
     "execution_count": 12,
     "metadata": {},
     "output_type": "execute_result"
    }
   ],
   "source": [
    "num_missing_vals = df.isna().sum()\n",
    "num_missing_vals"
   ]
  },
  {
   "cell_type": "code",
   "execution_count": 13,
   "id": "9ee3ae27",
   "metadata": {},
   "outputs": [
    {
     "data": {
      "text/plain": [
       "Unnamed: 0.1           int64\n",
       "Unnamed: 0           float64\n",
       "Author                object\n",
       "Review Text           object\n",
       "Review Rating        float64\n",
       "Date                  object\n",
       "Owner Answer          object\n",
       "Owner Answer Date     object\n",
       "Author Profile        object\n",
       "Author Image          object\n",
       "Review URL            object\n",
       "label                 object\n",
       "zip                  float64\n",
       "state                 object\n",
       "dtype: object"
      ]
     },
     "execution_count": 13,
     "metadata": {},
     "output_type": "execute_result"
    }
   ],
   "source": [
    "df.to_csv(\"cleaned_full_df.csv\")\n",
    "df = pd.read_csv(\"cleaned_full_df.csv\")\n",
    "df.dtypes"
   ]
  },
  {
   "cell_type": "code",
   "execution_count": 14,
   "id": "783466a6",
   "metadata": {},
   "outputs": [
    {
     "data": {
      "text/plain": [
       "Index(['Unnamed: 0', 'Author', 'Review Text', 'Review Rating', 'Date',\n",
       "       'Owner Answer', 'Owner Answer Date', 'Author Profile', 'Author Image',\n",
       "       'Review URL', 'label', 'zip', 'state'],\n",
       "      dtype='object')"
      ]
     },
     "execution_count": 14,
     "metadata": {},
     "output_type": "execute_result"
    }
   ],
   "source": [
    "df2 = pd.read_csv(\"new_data.csv\")\n",
    "\n",
    "df2 = df2.drop(columns=[\"spill1\",\"spill2\",\"spill3\",\"spill4\",\"spill5\",\"spill6\",\"spill7\"])\n",
    "df2.columns"
   ]
  },
  {
   "cell_type": "code",
   "execution_count": 15,
   "id": "399542c3",
   "metadata": {},
   "outputs": [
    {
     "data": {
      "text/plain": [
       "Unnamed: 0              0\n",
       "Author                  0\n",
       "Review Text          1185\n",
       "Review Rating           0\n",
       "Date                    0\n",
       "Owner Answer         6377\n",
       "Owner Answer Date    6377\n",
       "Author Profile          0\n",
       "Author Image            0\n",
       "Review URL              0\n",
       "label                   0\n",
       "zip                     0\n",
       "state                   0\n",
       "dtype: int64"
      ]
     },
     "execution_count": 15,
     "metadata": {},
     "output_type": "execute_result"
    }
   ],
   "source": [
    "num_missing_vals = df2.isna().sum()\n",
    "num_missing_vals"
   ]
  },
  {
   "cell_type": "code",
   "execution_count": 16,
   "id": "ca7cc438",
   "metadata": {},
   "outputs": [
    {
     "data": {
      "text/plain": [
       "np.int64(1185)"
      ]
     },
     "execution_count": 16,
     "metadata": {},
     "output_type": "execute_result"
    }
   ],
   "source": [
    "num_missing_reviews = df2['Review Text'].isna().sum()\n",
    "num_missing_reviews"
   ]
  },
  {
   "cell_type": "code",
   "execution_count": 17,
   "id": "83dcc184",
   "metadata": {},
   "outputs": [
    {
     "data": {
      "text/plain": [
       "np.int64(0)"
      ]
     },
     "execution_count": 17,
     "metadata": {},
     "output_type": "execute_result"
    }
   ],
   "source": [
    "df2 = df2.dropna(subset=['Review Text'])\n",
    "num_missing_reviews = df2['Review Text'].isna().sum()\n",
    "num_missing_reviews"
   ]
  },
  {
   "cell_type": "code",
   "execution_count": 18,
   "id": "bc2ad0c7",
   "metadata": {},
   "outputs": [
    {
     "data": {
      "text/plain": [
       "np.int64(5684)"
      ]
     },
     "execution_count": 18,
     "metadata": {},
     "output_type": "execute_result"
    }
   ],
   "source": [
    "num_missing_replies = df2['Owner Answer'].isna().sum()\n",
    "num_missing_replies"
   ]
  },
  {
   "cell_type": "code",
   "execution_count": 19,
   "id": "3fbe155e",
   "metadata": {},
   "outputs": [
    {
     "data": {
      "text/plain": [
       "np.int64(0)"
      ]
     },
     "execution_count": 19,
     "metadata": {},
     "output_type": "execute_result"
    }
   ],
   "source": [
    "df2['Owner Answer'] = df2[\"Owner Answer\"].fillna('no answer')\n",
    "num_missing_replies = df2['Owner Answer'].isna().sum()\n",
    "num_missing_replies"
   ]
  },
  {
   "cell_type": "code",
   "execution_count": 20,
   "id": "e4e84b7b",
   "metadata": {},
   "outputs": [
    {
     "data": {
      "text/plain": [
       "np.int64(0)"
      ]
     },
     "execution_count": 20,
     "metadata": {},
     "output_type": "execute_result"
    }
   ],
   "source": [
    "df2['Owner Answer Date'] = df2[\"Owner Answer Date\"].fillna('no date')\n",
    "num_missing_replies = df2['Owner Answer Date'].isna().sum()\n",
    "num_missing_replies"
   ]
  },
  {
   "cell_type": "code",
   "execution_count": 21,
   "id": "b329ca5f",
   "metadata": {},
   "outputs": [
    {
     "data": {
      "text/plain": [
       "np.int64(0)"
      ]
     },
     "execution_count": 21,
     "metadata": {},
     "output_type": "execute_result"
    }
   ],
   "source": [
    "df2['Author'] = df2[\"Author\"].fillna('anonymous')\n",
    "num_missing_replies = df2['Author'].isna().sum()\n",
    "num_missing_replies"
   ]
  },
  {
   "cell_type": "code",
   "execution_count": 22,
   "id": "08b0cb81",
   "metadata": {},
   "outputs": [
    {
     "data": {
      "text/plain": [
       "Unnamed: 0           0\n",
       "Author               0\n",
       "Review Text          0\n",
       "Review Rating        0\n",
       "Date                 0\n",
       "Owner Answer         0\n",
       "Owner Answer Date    0\n",
       "Author Profile       0\n",
       "Author Image         0\n",
       "Review URL           0\n",
       "label                0\n",
       "zip                  0\n",
       "state                0\n",
       "dtype: int64"
      ]
     },
     "execution_count": 22,
     "metadata": {},
     "output_type": "execute_result"
    }
   ],
   "source": [
    "num_missing_vals = df2.isna().sum()\n",
    "num_missing_vals"
   ]
  },
  {
   "cell_type": "code",
   "execution_count": 23,
   "id": "339916b7",
   "metadata": {},
   "outputs": [
    {
     "data": {
      "text/plain": [
       "Unnamed: 0.1          int64\n",
       "Unnamed: 0            int64\n",
       "Author               object\n",
       "Review Text          object\n",
       "Review Rating         int64\n",
       "Date                 object\n",
       "Owner Answer         object\n",
       "Owner Answer Date    object\n",
       "Author Profile       object\n",
       "Author Image         object\n",
       "Review URL           object\n",
       "label                object\n",
       "zip                   int64\n",
       "state                object\n",
       "dtype: object"
      ]
     },
     "execution_count": 23,
     "metadata": {},
     "output_type": "execute_result"
    }
   ],
   "source": [
    "df2.to_csv(\"cleaned_full_df2.csv\")\n",
    "df2 = pd.read_csv(\"cleaned_full_df2.csv\")\n",
    "df2.dtypes"
   ]
  },
  {
   "cell_type": "code",
   "execution_count": 24,
   "id": "fb852dd4",
   "metadata": {},
   "outputs": [],
   "source": [
    "import numpy as np\n",
    "df['has owner answer'] = np.where(df[\"Owner Answer\"] != \"no answer\", '1', '0')\n",
    "df2['has owner answer'] = np.where(df2[\"Owner Answer\"] != \"no answer\", '1', '0')"
   ]
  },
  {
   "cell_type": "code",
   "execution_count": 25,
   "id": "886eb07d",
   "metadata": {},
   "outputs": [
    {
     "data": {
      "text/plain": [
       "0         1\n",
       "1         1\n",
       "2         1\n",
       "3         1\n",
       "4         1\n",
       "         ..\n",
       "208426    0\n",
       "208427    0\n",
       "208428    0\n",
       "208429    0\n",
       "208430    0\n",
       "Name: has owner answer, Length: 208431, dtype: object"
      ]
     },
     "execution_count": 25,
     "metadata": {},
     "output_type": "execute_result"
    }
   ],
   "source": [
    "df['has owner answer']"
   ]
  },
  {
   "cell_type": "code",
   "execution_count": 26,
   "id": "15313531",
   "metadata": {},
   "outputs": [
    {
     "data": {
      "text/plain": [
       "0        1\n",
       "1        1\n",
       "2        1\n",
       "3        1\n",
       "4        1\n",
       "        ..\n",
       "13964    0\n",
       "13965    0\n",
       "13966    1\n",
       "13967    1\n",
       "13968    0\n",
       "Name: has owner answer, Length: 13969, dtype: object"
      ]
     },
     "execution_count": 26,
     "metadata": {},
     "output_type": "execute_result"
    }
   ],
   "source": [
    "df2['has owner answer']"
   ]
  },
  {
   "cell_type": "code",
   "execution_count": 27,
   "id": "5f2830fb",
   "metadata": {},
   "outputs": [
    {
     "data": {
      "text/plain": [
       "array(['District of Columbia', 'Virginia', 'Maryland', 'Hawaii', 'Alaska',\n",
       "       'California', 'New York', 'Nevada', 'Oregon', 'Pennsylvania',\n",
       "       'Washington', 'Arizona', 'Florida', 'Utah', 'Idaho', 'Montana',\n",
       "       'Colorado', 'New Mexico', 'Texas', 'Oklahoma', 'Kansas',\n",
       "       'Missouri', 'Nebraska', 'South Dakota', 'North Dakota',\n",
       "       'Minnesota', 'Iowa', 'Wisconsin', 'Michigan', 'Alabama', 'Indiana',\n",
       "       'Illinois', 'Arkansas', 'Lousiana', 'Louisiana', 'Mississippi',\n",
       "       'Kentucky', 'Tennessee', 'Georgia', 'South Carolina',\n",
       "       'North Carolina', 'Maine', 'Vermont', 'New Hampshire',\n",
       "       'Massachusetts', 'Rhode Island', 'Connecticut', 'New Jersey',\n",
       "       'Delaware', 'Ohio', 'West Virginia', 'Wyoming'], dtype=object)"
      ]
     },
     "execution_count": 27,
     "metadata": {},
     "output_type": "execute_result"
    }
   ],
   "source": [
    "df['state'].unique()"
   ]
  },
  {
   "cell_type": "code",
   "execution_count": 28,
   "id": "3a05d822",
   "metadata": {},
   "outputs": [
    {
     "data": {
      "text/plain": [
       "state\n",
       "Tennessee               9360\n",
       "New Jersey              8522\n",
       "Pennsylvania            8177\n",
       "South Carolina          7902\n",
       "North Carolina          7308\n",
       "New York                6997\n",
       "Alabama                 6080\n",
       "Georgia                 5949\n",
       "Maryland                5808\n",
       "Kentucky                5737\n",
       "Texas                   5712\n",
       "Missouri                5613\n",
       "Washington              5186\n",
       "Connecticut             5185\n",
       "Ohio                    5135\n",
       "Illinois                4982\n",
       "Michigan                4808\n",
       "Florida                 4793\n",
       "Arkansas                4699\n",
       "Arizona                 4601\n",
       "Nevada                  4545\n",
       "West Virginia           4396\n",
       "California              4098\n",
       "Utah                    4095\n",
       "Wisconsin               3990\n",
       "Massachusetts           3936\n",
       "Mississippi             3843\n",
       "Virginia                3732\n",
       "New Mexico              3633\n",
       "Oregon                  3374\n",
       "Nebraska                3309\n",
       "Idaho                   3288\n",
       "Maine                   2942\n",
       "Wyoming                 2927\n",
       "South Dakota            2916\n",
       "Indiana                 2872\n",
       "Rhode Island            2644\n",
       "Kansas                  2610\n",
       "Iowa                    2559\n",
       "Minnesota               2538\n",
       "District of Columbia    2478\n",
       "Oklahoma                2428\n",
       "Delaware                2341\n",
       "Hawaii                  2234\n",
       "Alaska                  2113\n",
       "Louisiana               1971\n",
       "North Dakota            1252\n",
       "Vermont                 1131\n",
       "Colorado                1000\n",
       "New Hampshire            578\n",
       "Montana                  104\n",
       "Name: count, dtype: int64"
      ]
     },
     "execution_count": 28,
     "metadata": {},
     "output_type": "execute_result"
    }
   ],
   "source": [
    "df.replace('Lousiana','Louisiana',inplace=True)\n",
    "df['state'].value_counts()"
   ]
  },
  {
   "cell_type": "code",
   "execution_count": 29,
   "id": "6f622319",
   "metadata": {},
   "outputs": [
    {
     "data": {
      "text/plain": [
       "array(['California', 'Arizona', 'Montana', 'Oregon', 'Alaska', 'Wyoming',\n",
       "       'New Mexico', 'Colorado'], dtype=object)"
      ]
     },
     "execution_count": 29,
     "metadata": {},
     "output_type": "execute_result"
    }
   ],
   "source": [
    "df2['state'].unique()"
   ]
  },
  {
   "cell_type": "code",
   "execution_count": 30,
   "id": "71d71d8b",
   "metadata": {},
   "outputs": [
    {
     "data": {
      "text/plain": [
       "state\n",
       "Arizona       3864\n",
       "Colorado      3261\n",
       "New Mexico    2952\n",
       "California    1931\n",
       "Montana       1455\n",
       "Oregon         360\n",
       "Wyoming        129\n",
       "Alaska          17\n",
       "Name: count, dtype: int64"
      ]
     },
     "execution_count": 30,
     "metadata": {},
     "output_type": "execute_result"
    }
   ],
   "source": [
    "df2['state'].value_counts()"
   ]
  },
  {
   "cell_type": "code",
   "execution_count": 31,
   "id": "31588b41",
   "metadata": {},
   "outputs": [
    {
     "data": {
      "text/plain": [
       "census region\n",
       "southern     84537\n",
       "west         55167\n",
       "midwest      42584\n",
       "northeast    40112\n",
       "Name: count, dtype: int64"
      ]
     },
     "execution_count": 31,
     "metadata": {},
     "output_type": "execute_result"
    }
   ],
   "source": [
    "df = pd.concat([df,df2],ignore_index=True)\n",
    "\n",
    "df['census region'] = np.where((df['state'] == 'Maine')|(df['state'] == 'New Hampshire')|(df['state'] == 'Vermont')|(df['state'] == 'Massachusetts')|\n",
    "                              (df['state'] == 'Connecticut')|(df['state'] == 'Rhode Island')|(df['state'] == 'New York')|(df['state'] == 'Pennsylvania')|\n",
    "                              (df['state'] == 'New Jersey'),'northeast',np.where((df['state'] == 'Delaware')|(df['state'] == 'Maryland')|(df['state'] == 'District of Columbia')|\n",
    "                              (df['state'] == 'Virginia')|(df['state'] == 'West Virginia')|(df['state'] == 'Kentucky')|(df['state'] == 'Tennessee')|(df['state'] == 'North Carolina')|\n",
    "                              (df['state'] == 'South Carolina')|(df['state'] == 'Georgia')|(df['state'] == 'Florida')|(df['state'] == 'Alabama')|(df['state'] == 'Mississippi')|\n",
    "                              (df['state'] == 'Louisiana')|(df['state'] == 'Oklahoma')|(df['state'] == 'Arkansas')|(df['state'] == 'Texas'),'southern',\n",
    "                              np.where((df['state'] == 'Michigan')|(df['state'] == 'Ohio')|(df['state'] == 'Indiana')|(df['state'] == 'Illinois')|(df['state'] == 'Wisconsin')|\n",
    "                              (df['state'] == 'Missouri')|(df['state'] == 'Iowa')|(df['state'] == 'Minnesota')|(df['state'] == 'North Dakota')|(df['state'] == 'South Dakota')|\n",
    "                              (df['state'] == 'Nebraska')|(df['state'] == 'Kansas'),'midwest',np.where((df['state'] == 'Montana')|(df['state'] == 'Wyoming')|(df['state'] == 'Colorado')|\n",
    "                              (df['state'] == 'New Mexico')|(df['state'] == 'Arizona')|(df['state'] == 'Utah')|(df['state'] == 'Idaho')|(df['state'] == 'Nevada')|(df['state'] == 'Washington')|\n",
    "                              (df['state'] == 'Oregon')|(df['state'] == 'California')|(df['state'] == 'Alaska')|(df['state'] == 'Hawaii'),'west','?'))))\n",
    "\n",
    "df['census region'].value_counts()"
   ]
  },
  {
   "cell_type": "code",
   "execution_count": 32,
   "id": "d550c40e",
   "metadata": {},
   "outputs": [
    {
     "data": {
      "text/plain": [
       "Author                object\n",
       "Review Text           object\n",
       "Review Rating        float64\n",
       "Date                  object\n",
       "Owner Answer          object\n",
       "Owner Answer Date     object\n",
       "Author Profile        object\n",
       "Author Image          object\n",
       "Review URL            object\n",
       "label                 object\n",
       "zip                  float64\n",
       "state                 object\n",
       "has owner answer      object\n",
       "census region         object\n",
       "dtype: object"
      ]
     },
     "execution_count": 32,
     "metadata": {},
     "output_type": "execute_result"
    }
   ],
   "source": [
    "df = df.drop(columns='Unnamed: 0')\n",
    "df = df.drop(columns='Unnamed: 0.1')\n",
    "df.dtypes"
   ]
  },
  {
   "cell_type": "code",
   "execution_count": 33,
   "id": "2f9cf1e6",
   "metadata": {},
   "outputs": [
    {
     "data": {
      "text/plain": [
       "np.int64(0)"
      ]
     },
     "execution_count": 33,
     "metadata": {},
     "output_type": "execute_result"
    }
   ],
   "source": [
    "df['Author'] = df[\"Author\"].replace({\"#NAME?\":\"anonymous\"})\n",
    "num_missing_replies = df['Author'].isna().sum()\n",
    "num_missing_replies"
   ]
  },
  {
   "cell_type": "code",
   "execution_count": 34,
   "id": "44888074",
   "metadata": {},
   "outputs": [
    {
     "name": "stdout",
     "output_type": "stream",
     "text": [
      "                                              Review Text  \\\n",
      "20898   \"Best hospital in the state\" Somehow my MRI is...   \n",
      "25353   \"Best hospital in the state\" Somehow my MRI is...   \n",
      "21731   \"Capital’s unlawful collections practices prev...   \n",
      "24370   \"Capital’s unlawful collections practices prev...   \n",
      "216971  \"Not the Patient\", My sister was admitted on 1...   \n",
      "...                                                   ...   \n",
      "153207                                                  👍   \n",
      "21853   😁👍👍👍 good   nice nurse and doctors  good  bles...   \n",
      "24966   😁👍👍👍 good   nice nurse and doctors  good  bles...   \n",
      "40928   🤬😡01/02/2019 WHY BE IN THIS FEILD IF YOU'RE GO...   \n",
      "217022  🤬😡01/02/2019 WHY BE IN THIS FEILD IF YOU'RE GO...   \n",
      "\n",
      "                                           Author Profile  \n",
      "20898   https://www.google.com/maps/contrib/1082131836...  \n",
      "25353   https://www.google.com/maps/contrib/1082131836...  \n",
      "21731   https://www.google.com/maps/contrib/1137279277...  \n",
      "24370   https://www.google.com/maps/contrib/1137279277...  \n",
      "216971  https://www.google.com/maps/contrib/1007726409...  \n",
      "...                                                   ...  \n",
      "153207  https://www.google.com/maps/contrib/1048326174...  \n",
      "21853   https://www.google.com/maps/contrib/1172655352...  \n",
      "24966   https://www.google.com/maps/contrib/1172655352...  \n",
      "40928   https://www.google.com/maps/contrib/1049841758...  \n",
      "217022  https://www.google.com/maps/contrib/1049841758...  \n",
      "\n",
      "[13770 rows x 2 columns]\n",
      "Empty DataFrame\n",
      "Columns: [Review Text, Author Profile]\n",
      "Index: []\n"
     ]
    }
   ],
   "source": [
    "def dupe_detection(column1, column2):\n",
    "    dupes = df.duplicated(subset = column1, keep = False)\n",
    "    duped_reviews = df[dupes].sort_values(by = column1)\n",
    "    print(duped_reviews[[column1,column2]])\n",
    "\n",
    "dupe_detection('Review Text','Author Profile')\n",
    "df = df.drop_duplicates(subset=['Review Text'])\n",
    "dupe_detection('Review Text','Author Profile')\n",
    "\n",
    "df.to_csv(\"cleaned_full_df_with_census_regions.csv\")"
   ]
  },
  {
   "cell_type": "code",
   "execution_count": 35,
   "id": "af637781",
   "metadata": {},
   "outputs": [
    {
     "data": {
      "image/png": "[encoded data removed]",
      "text/plain": [
       "<Figure size 640x480 with 1 Axes>"
      ]
     },
     "metadata": {},
     "output_type": "display_data"
    }
   ],
   "source": [
    "import matplotlib.pyplot as plt\n",
    "\n",
    "x = df['label']\n",
    "values, bins, bars = plt.hist(x)\n",
    "plt.xlabel('label')\n",
    "plt.bar_label(bars, fontsize=10)\n",
    "plt.show()"
   ]
  },
  {
   "cell_type": "code",
   "execution_count": 36,
   "id": "bd288b10",
   "metadata": {},
   "outputs": [
    {
     "data": {
      "text/plain": [
       "census region\n",
       "southern    83476\n",
       "west        51483\n",
       "Name: count, dtype: int64"
      ]
     },
     "execution_count": 36,
     "metadata": {},
     "output_type": "execute_result"
    }
   ],
   "source": [
    "cols_to_drop = df[(df['census region'] == 'northeast') | (df['census region'] == 'midwest')].index\n",
    "df.drop(cols_to_drop, inplace=True)\n",
    "\n",
    "df['census region'].value_counts()"
   ]
  },
  {
   "cell_type": "code",
   "execution_count": 37,
   "id": "3599763e",
   "metadata": {},
   "outputs": [],
   "source": [
    "import scipy.stats as stats\n",
    "#alpha = 0.05\n",
    "\n",
    "#region_v_label = pd.crosstab(df['census region'],df['label'],margins=True)\n",
    "#chi2, p_value, degrees_of_freedom, expected_values = stats.chi2_contingency(region_v_label)\n",
    "\n",
    "#if p_value < alpha:\n",
    "    #print(\"Significance Found\")\n",
    "\n",
    "#print(p_value)"
   ]
  },
  {
   "cell_type": "code",
   "execution_count": 38,
   "id": "605760d7",
   "metadata": {},
   "outputs": [],
   "source": [
    "#region_v_answer = pd.crosstab(df['census region'],df['has owner answer'],margins=True)\n",
    "#chi2, p_value, degrees_of_freedom, expected_values = stats.chi2_contingency(region_v_answer)\n",
    "\n",
    "#if p_value < alpha:\n",
    "    #print(\"Significance Found\")\n",
    "\n",
    "#print(p_value)"
   ]
  },
  {
   "cell_type": "code",
   "execution_count": 39,
   "id": "75b0d9a2",
   "metadata": {},
   "outputs": [],
   "source": [
    "#label_v_answer = pd.crosstab(df['label'],df['has owner answer'],margins=True)\n",
    "#chi2, p_value, degrees_of_freedom, expected_values = stats.chi2_contingency(label_v_answer)\n",
    "\n",
    "#if p_value < alpha:\n",
    "    #print(\"Significance Found\")\n",
    "\n",
    "#print(p_value)"
   ]
  },
  {
   "cell_type": "code",
   "execution_count": 40,
   "id": "e5540d49",
   "metadata": {},
   "outputs": [],
   "source": [
    "#three_way_contingency = pd.crosstab([df['census region'],df['label']],df['has owner answer'],margins=True)\n",
    "#three_way_contingency"
   ]
  },
  {
   "cell_type": "code",
   "execution_count": 41,
   "id": "df16246d",
   "metadata": {},
   "outputs": [],
   "source": [
    "#alpha = 0.05\n",
    "\n",
    "#chi2, p_value, degrees_of_freedom, expected_values = stats.chi2_contingency(three_way_contingency)\n",
    "\n",
    "#if p_value < alpha:\n",
    "    #print(\"Significance Found\")\n",
    "\n",
    "#print(p_value)"
   ]
  },
  {
   "cell_type": "code",
   "execution_count": 42,
   "id": "76792cab",
   "metadata": {},
   "outputs": [],
   "source": [
    "#pd.crosstab(df['census region'],df['label'],margins=True)"
   ]
  },
  {
   "cell_type": "code",
   "execution_count": 43,
   "id": "7e285a0d",
   "metadata": {},
   "outputs": [],
   "source": [
    "#pd.crosstab(df['census region'],df['label'],margins=True,normalize='all')"
   ]
  },
  {
   "cell_type": "code",
   "execution_count": 44,
   "id": "373c8960",
   "metadata": {},
   "outputs": [],
   "source": [
    "#pd.crosstab(df['census region'],df['label'],margins=True,normalize='columns')"
   ]
  },
  {
   "cell_type": "code",
   "execution_count": 45,
   "id": "124acfd7",
   "metadata": {},
   "outputs": [],
   "source": [
    "#pd.crosstab(df['census region'],df['label'],margins=True,normalize='index')"
   ]
  },
  {
   "cell_type": "code",
   "execution_count": 46,
   "id": "f6ca1ad8",
   "metadata": {},
   "outputs": [],
   "source": [
    "#pd.crosstab(df['label'],df['has owner answer'],margins=True)"
   ]
  },
  {
   "cell_type": "code",
   "execution_count": 47,
   "id": "41ceac21",
   "metadata": {},
   "outputs": [],
   "source": [
    "#pd.crosstab(df['label'],df['has owner answer'],margins=True, normalize='all')"
   ]
  },
  {
   "cell_type": "code",
   "execution_count": 48,
   "id": "b64a40c0",
   "metadata": {},
   "outputs": [],
   "source": [
    "#pd.crosstab(df['label'],df['has owner answer'],margins=True,normalize='columns')"
   ]
  },
  {
   "cell_type": "code",
   "execution_count": 49,
   "id": "96086f07",
   "metadata": {},
   "outputs": [],
   "source": [
    "#pd.crosstab(df['label'],df['has owner answer'],margins=True,normalize='index')"
   ]
  },
  {
   "cell_type": "code",
   "execution_count": 50,
   "id": "e51c9fb2",
   "metadata": {},
   "outputs": [],
   "source": [
    "#pd.crosstab([df['census region'],df['label']],df['has owner answer'],margins=True)"
   ]
  },
  {
   "cell_type": "code",
   "execution_count": 51,
   "id": "d8b11f5a",
   "metadata": {},
   "outputs": [],
   "source": [
    "#pd.crosstab([df['census region'],df['label']],df['has owner answer'],margins=True, normalize='all')"
   ]
  },
  {
   "cell_type": "code",
   "execution_count": 52,
   "id": "09613ade",
   "metadata": {},
   "outputs": [],
   "source": [
    "#pd.crosstab([df['census region'],df['label']],df['has owner answer'],margins=True, normalize='index')"
   ]
  },
  {
   "cell_type": "code",
   "execution_count": 53,
   "id": "ccb0ea2c",
   "metadata": {},
   "outputs": [],
   "source": [
    "#pd.crosstab([df['census region'],df['label']],df['has owner answer'],margins=True, normalize='columns')"
   ]
  },
  {
   "cell_type": "code",
   "execution_count": 54,
   "id": "afad6c4f",
   "metadata": {},
   "outputs": [
    {
     "data": {
      "text/plain": [
       "0    MedStar Navy Yard is my new go-to for urgent h...\n",
       "1    Dr. Kalra is a very good Doctor. He's all abou...\n",
       "2    Dr. Janelle Leuschen is knowledgeable, patient...\n",
       "3    Very efficient operation - making an appointme...\n",
       "4    Everything from check in to Dr. visit to lab w...\n",
       "Name: cleaned text, dtype: object"
      ]
     },
     "execution_count": 54,
     "metadata": {},
     "output_type": "execute_result"
    }
   ],
   "source": [
    "import demoji\n",
    "import re\n",
    "\n",
    "def remove_emoji(string):\n",
    "    return demoji.replace(string, '')\n",
    "\n",
    "def remove_extra_spaces(string):\n",
    "    return re.sub(r'\\s{2,}',' ',str(string))\n",
    "\n",
    "df['cleaned text'] = df['Review Text'].apply(remove_emoji)\n",
    "df['cleaned text'] = df['cleaned text'].apply(remove_extra_spaces)\n",
    "\n",
    "df['cleaned text'].head()\n"
   ]
  },
  {
   "cell_type": "code",
   "execution_count": 55,
   "id": "2cf63526",
   "metadata": {},
   "outputs": [
    {
     "name": "stderr",
     "output_type": "stream",
     "text": [
      "[nltk_data] Downloading package punkt to\n",
      "[nltk_data]     C:\\Users\\cgrow\\AppData\\Roaming\\nltk_data...\n",
      "[nltk_data]   Package punkt is already up-to-date!\n",
      "[nltk_data] Downloading package punkt_tab to\n",
      "[nltk_data]     C:\\Users\\cgrow\\AppData\\Roaming\\nltk_data...\n",
      "[nltk_data]   Package punkt_tab is already up-to-date!\n",
      "[nltk_data] Downloading package stopwords to\n",
      "[nltk_data]     C:\\Users\\cgrow\\AppData\\Roaming\\nltk_data...\n",
      "[nltk_data]   Package stopwords is already up-to-date!\n",
      "[nltk_data] Downloading package wordnet to\n",
      "[nltk_data]     C:\\Users\\cgrow\\AppData\\Roaming\\nltk_data...\n",
      "[nltk_data]   Package wordnet is already up-to-date!\n"
     ]
    }
   ],
   "source": [
    "'''\n",
    "Uses code from Ednalyn C. De Dios (2022)\n",
    "https://github.com/ecdedios/d213-advanced-data-analytics/blob/main/task2/notebooks/D213%20Performance%20Assessment%20Task%202%20(Rev.%200)-Copy2.ipynb\n",
    "and\n",
    "William J. Townsend (2022)\n",
    "https://github.com/WJTownsend/WGU_Portfolio/blob/main/D213/d213task2.ipynb\n",
    "and\n",
    "Charles G. Rowe (2025)\n",
    "https://github.com/CGRowe96/WGU_MSDA/blob/main/D213/Task%202/D213-Task2.ipynb\n",
    "'''\n",
    "\n",
    "import nltk\n",
    "import string\n",
    "import unicodedata\n",
    "import nltk.corpus\n",
    "nltk.download('punkt')\n",
    "nltk.download('punkt_tab')\n",
    "nltk.download('stopwords')\n",
    "nltk.download('wordnet')\n",
    "\n",
    "def clean_sentence(sentence):\n",
    "    stops = nltk.corpus.stopwords.words('english') + list(string.punctuation) + ['...',' - ', 'ca', 'wo', \"'s\", \"'ing\",\"'ll\", \"'re\"]\n",
    "    negation = ['but', 'not', \"don't\", \"aren't\", \"couldn't\", \"doesn't\", \"hadn't\", \"hasn't\", \"haven't\", \n",
    "                  \"isn't\", \"shouldn't\", \"wouldn't\"]\n",
    "    for word in negation:\n",
    "        stops.remove(word)\n",
    "    sentence = (unicodedata.normalize('NFKD', sentence)\n",
    "        .encode('ascii', 'ignore')\n",
    "        .decode('utf-8', 'ignore')\n",
    "        .lower())\n",
    "    words = re.sub(r'[^\\w\\s]', '', sentence).split()\n",
    "    word_list = [word for word in words if word not in stops]\n",
    "    return word_list\n",
    "\n",
    "def get_words(df, column):\n",
    "    return clean_sentence(''.join(str(df[column].tolist())))"
   ]
  },
  {
   "cell_type": "code",
   "execution_count": 56,
   "id": "5d664103",
   "metadata": {},
   "outputs": [],
   "source": [
    "#mask = df['census region'] == 'southern'\n",
    "#south_df = df[mask]\n",
    "#south_df"
   ]
  },
  {
   "cell_type": "code",
   "execution_count": 57,
   "id": "7ef7e524",
   "metadata": {},
   "outputs": [],
   "source": [
    "#west_df = df[~mask]\n",
    "#west_df"
   ]
  },
  {
   "cell_type": "code",
   "execution_count": 58,
   "id": "3a816489",
   "metadata": {},
   "outputs": [
    {
     "data": {
      "text/plain": [
       "\"all_words = get_words(df, 'cleaned text')\\nall_freq = pd.Series(all_words).value_counts()\\nvocab_size = len(all_freq)\\n\\nprint('Vocabulary size: ' + str(vocab_size))\""
      ]
     },
     "execution_count": 58,
     "metadata": {},
     "output_type": "execute_result"
    }
   ],
   "source": [
    "'''all_words = get_words(df, 'cleaned text')\n",
    "all_freq = pd.Series(all_words).value_counts()\n",
    "vocab_size = len(all_freq)\n",
    "\n",
    "print('Vocabulary size: ' + str(vocab_size))'''"
   ]
  },
  {
   "cell_type": "code",
   "execution_count": 59,
   "id": "84131217",
   "metadata": {},
   "outputs": [
    {
     "data": {
      "text/plain": [
       "\"pos_mask = df['label'] == 'positive'\\nneg_mask = df['label'] == 'negative'\\nneu_mask = df['label'] == 'neutral'\\n\\nall_pos_words = df[pos_mask]\\nall_neg_words = df[neg_mask]\\nall_neu_words = df[neu_mask]\\n\\na_pos_word_list = get_words(all_pos_words, 'cleaned text')\\na_neg_word_list = get_words(all_neg_words, 'cleaned text')\\na_neu_word_list = get_words(all_neu_words, 'cleaned text')\\n\\na_pos_word_freq = pd.Series(a_pos_word_list).value_counts()\\na_neg_word_freq = pd.Series(a_neg_word_list).value_counts()\\na_neu_word_freq = pd.Series(a_neu_word_list).value_counts()\\n\\nword_counts_df = (pd.concat([all_freq, a_pos_word_freq, a_neg_word_freq, a_neu_word_freq],\\n                            axis=1, sort=True).set_axis(['all','pos','neg','neu'], axis=1)\\n                            .apply(lambda s: s.astype(str)))\\n\\nword_counts_df.fillna(0)\\nword_counts_df.sort_values(by='all', ascending=False).head(10)\""
      ]
     },
     "execution_count": 59,
     "metadata": {},
     "output_type": "execute_result"
    }
   ],
   "source": [
    "'''pos_mask = df['label'] == 'positive'\n",
    "neg_mask = df['label'] == 'negative'\n",
    "neu_mask = df['label'] == 'neutral'\n",
    "\n",
    "all_pos_words = df[pos_mask]\n",
    "all_neg_words = df[neg_mask]\n",
    "all_neu_words = df[neu_mask]\n",
    "\n",
    "a_pos_word_list = get_words(all_pos_words, 'cleaned text')\n",
    "a_neg_word_list = get_words(all_neg_words, 'cleaned text')\n",
    "a_neu_word_list = get_words(all_neu_words, 'cleaned text')\n",
    "\n",
    "a_pos_word_freq = pd.Series(a_pos_word_list).value_counts()\n",
    "a_neg_word_freq = pd.Series(a_neg_word_list).value_counts()\n",
    "a_neu_word_freq = pd.Series(a_neu_word_list).value_counts()\n",
    "\n",
    "word_counts_df = (pd.concat([all_freq, a_pos_word_freq, a_neg_word_freq, a_neu_word_freq],\n",
    "                            axis=1, sort=True).set_axis(['all','pos','neg','neu'], axis=1)\n",
    "                            .apply(lambda s: s.astype(str)))\n",
    "\n",
    "word_counts_df.fillna(0)\n",
    "word_counts_df.sort_values(by='all', ascending=False).head(10)'''"
   ]
  },
  {
   "cell_type": "code",
   "execution_count": 60,
   "id": "b74467b7",
   "metadata": {},
   "outputs": [
    {
     "data": {
      "text/plain": [
       "\"all_words_south = get_words(south_df, 'cleaned text')\\nall_freq_south = pd.Series(all_words_south).value_counts()\\nvocab_size_south = len(all_freq_south)\\n\\nprint('Vocabulary size: ' + str(vocab_size_south))\""
      ]
     },
     "execution_count": 60,
     "metadata": {},
     "output_type": "execute_result"
    }
   ],
   "source": [
    "'''all_words_south = get_words(south_df, 'cleaned text')\n",
    "all_freq_south = pd.Series(all_words_south).value_counts()\n",
    "vocab_size_south = len(all_freq_south)\n",
    "\n",
    "print('Vocabulary size: ' + str(vocab_size_south))'''"
   ]
  },
  {
   "cell_type": "code",
   "execution_count": 61,
   "id": "e4069097",
   "metadata": {},
   "outputs": [
    {
     "data": {
      "text/plain": [
       "\"pos_mask = south_df['label'] == 'positive'\\nneg_mask = south_df['label'] == 'negative'\\nneu_mask = south_df['label'] == 'neutral'\\n\\nsouth_pos_words = south_df[pos_mask]\\nsouth_neg_words = south_df[neg_mask]\\nsouth_neu_words = south_df[neu_mask]\\n\\ns_pos_word_list = get_words(south_pos_words, 'cleaned text')\\ns_neg_word_list = get_words(south_neg_words, 'cleaned text')\\ns_neu_word_list = get_words(south_neu_words, 'cleaned text')\\n\\ns_pos_word_freq = pd.Series(s_pos_word_list).value_counts()\\ns_neg_word_freq = pd.Series(s_neg_word_list).value_counts()\\ns_neu_word_freq = pd.Series(s_neu_word_list).value_counts()\\n\\nword_counts_df = (pd.concat([all_freq_south, s_pos_word_freq, s_neg_word_freq, s_neu_word_freq],\\n                            axis=1, sort=True).set_axis(['all','pos','neg','neu'], axis=1)\\n                            .apply(lambda s: s.astype(str)))\\n\\nword_counts_df.fillna(0)\\nword_counts_df.sort_values(by='all', ascending=False).head(10)\""
      ]
     },
     "execution_count": 61,
     "metadata": {},
     "output_type": "execute_result"
    }
   ],
   "source": [
    "'''pos_mask = south_df['label'] == 'positive'\n",
    "neg_mask = south_df['label'] == 'negative'\n",
    "neu_mask = south_df['label'] == 'neutral'\n",
    "\n",
    "south_pos_words = south_df[pos_mask]\n",
    "south_neg_words = south_df[neg_mask]\n",
    "south_neu_words = south_df[neu_mask]\n",
    "\n",
    "s_pos_word_list = get_words(south_pos_words, 'cleaned text')\n",
    "s_neg_word_list = get_words(south_neg_words, 'cleaned text')\n",
    "s_neu_word_list = get_words(south_neu_words, 'cleaned text')\n",
    "\n",
    "s_pos_word_freq = pd.Series(s_pos_word_list).value_counts()\n",
    "s_neg_word_freq = pd.Series(s_neg_word_list).value_counts()\n",
    "s_neu_word_freq = pd.Series(s_neu_word_list).value_counts()\n",
    "\n",
    "word_counts_df = (pd.concat([all_freq_south, s_pos_word_freq, s_neg_word_freq, s_neu_word_freq],\n",
    "                            axis=1, sort=True).set_axis(['all','pos','neg','neu'], axis=1)\n",
    "                            .apply(lambda s: s.astype(str)))\n",
    "\n",
    "word_counts_df.fillna(0)\n",
    "word_counts_df.sort_values(by='all', ascending=False).head(10)'''"
   ]
  },
  {
   "cell_type": "code",
   "execution_count": 62,
   "id": "872ada08",
   "metadata": {},
   "outputs": [
    {
     "data": {
      "text/plain": [
       "\"all_words_west = get_words(west_df, 'cleaned text')\\nall_freq_west = pd.Series(all_words_west).value_counts()\\nvocab_size_west = len(all_freq_west)\\n\\nprint('Vocabulary size: ' + str(vocab_size_west))\""
      ]
     },
     "execution_count": 62,
     "metadata": {},
     "output_type": "execute_result"
    }
   ],
   "source": [
    "'''all_words_west = get_words(west_df, 'cleaned text')\n",
    "all_freq_west = pd.Series(all_words_west).value_counts()\n",
    "vocab_size_west = len(all_freq_west)\n",
    "\n",
    "print('Vocabulary size: ' + str(vocab_size_west))'''"
   ]
  },
  {
   "cell_type": "code",
   "execution_count": 63,
   "id": "ee367429",
   "metadata": {},
   "outputs": [
    {
     "data": {
      "text/plain": [
       "\"pos_mask = west_df['label'] == 'positive'\\nneg_mask = west_df['label'] == 'negative'\\nneu_mask = west_df['label'] == 'neutral'\\n\\nwest_pos_words = west_df[pos_mask]\\nwest_neg_words = west_df[neg_mask]\\nwest_neu_words = west_df[neu_mask]\\n\\nw_pos_word_list = get_words(west_pos_words, 'cleaned text')\\nw_neg_word_list = get_words(west_neg_words, 'cleaned text')\\nw_neu_word_list = get_words(west_neu_words, 'cleaned text')\\n\\nw_pos_word_freq = pd.Series(w_pos_word_list).value_counts()\\nw_neg_word_freq = pd.Series(w_neg_word_list).value_counts()\\nw_neu_word_freq = pd.Series(w_neu_word_list).value_counts()\\n\\nword_counts_df = (pd.concat([all_freq_west, w_pos_word_freq, w_neg_word_freq, w_neu_word_freq],\\n                            axis=1, sort=True).set_axis(['all','pos','neg','neu'], axis=1)\\n                            .apply(lambda s: s.astype(str)))\\n\\nword_counts_df.fillna(0)\\nword_counts_df.sort_values(by='all', ascending=False).head(10)\""
      ]
     },
     "execution_count": 63,
     "metadata": {},
     "output_type": "execute_result"
    }
   ],
   "source": [
    "'''pos_mask = west_df['label'] == 'positive'\n",
    "neg_mask = west_df['label'] == 'negative'\n",
    "neu_mask = west_df['label'] == 'neutral'\n",
    "\n",
    "west_pos_words = west_df[pos_mask]\n",
    "west_neg_words = west_df[neg_mask]\n",
    "west_neu_words = west_df[neu_mask]\n",
    "\n",
    "w_pos_word_list = get_words(west_pos_words, 'cleaned text')\n",
    "w_neg_word_list = get_words(west_neg_words, 'cleaned text')\n",
    "w_neu_word_list = get_words(west_neu_words, 'cleaned text')\n",
    "\n",
    "w_pos_word_freq = pd.Series(w_pos_word_list).value_counts()\n",
    "w_neg_word_freq = pd.Series(w_neg_word_list).value_counts()\n",
    "w_neu_word_freq = pd.Series(w_neu_word_list).value_counts()\n",
    "\n",
    "word_counts_df = (pd.concat([all_freq_west, w_pos_word_freq, w_neg_word_freq, w_neu_word_freq],\n",
    "                            axis=1, sort=True).set_axis(['all','pos','neg','neu'], axis=1)\n",
    "                            .apply(lambda s: s.astype(str)))\n",
    "\n",
    "word_counts_df.fillna(0)\n",
    "word_counts_df.sort_values(by='all', ascending=False).head(10)'''"
   ]
  },
  {
   "cell_type": "code",
   "execution_count": 64,
   "id": "47a7cf81",
   "metadata": {},
   "outputs": [
    {
     "data": {
      "text/plain": [
       "\"def get_bigrams(words):\\n    return (pd.Series(nltk.ngrams(words, 2)).value_counts())[:20]\\n\\ndef get_trigrams(words):\\n    return (pd.Series(nltk.ngrams(words, 3)).value_counts())[:20]\\n\\ndef get_qualgrams(words):\\n    return (pd.Series(nltk.ngrams(words, 4)).value_counts())[:20]\\n\\ndef viz_bigrams(df, column, title):\\n    get_bigrams(get_words(df,column)).sort_values().plot.barh(color='blue', width=.9, figsize=(12, 8))\\n\\n    plt.title(title)\\n    plt.ylabel('Bigram')\\n    plt.xlabel('# Occurances')\\n\\ndef viz_trigrams(df, column, title):\\n    get_trigrams(get_words(df,column)).sort_values().plot.barh(color='blue', width=.9, figsize=(12, 8))\\n\\n    plt.title(title)\\n    plt.ylabel('Trigram')\\n    plt.xlabel('# Occurances')\\n    \\ndef viz_qualgrams(df, column, title):\\n    get_qualgrams(get_words(df,column)).sort_values().plot.barh(color='blue', width=.9, figsize=(12, 8))\\n\\n    plt.title(title)\\n    plt.ylabel('Qualgram')\\n    plt.xlabel('# Occurances')\""
      ]
     },
     "execution_count": 64,
     "metadata": {},
     "output_type": "execute_result"
    }
   ],
   "source": [
    "'''\n",
    "Uses code from Ednalyn C. De Dios (2022)\n",
    "https://github.com/ecdedios/d213-advanced-data-analytics/blob/main/task2/notebooks/D213%20Performance%20Assessment%20Task%202%20(Rev.%200)-Copy2.ipynb\n",
    "'''\n",
    "\n",
    "'''def get_bigrams(words):\n",
    "    return (pd.Series(nltk.ngrams(words, 2)).value_counts())[:20]\n",
    "\n",
    "def get_trigrams(words):\n",
    "    return (pd.Series(nltk.ngrams(words, 3)).value_counts())[:20]\n",
    "\n",
    "def get_qualgrams(words):\n",
    "    return (pd.Series(nltk.ngrams(words, 4)).value_counts())[:20]\n",
    "\n",
    "def viz_bigrams(df, column, title):\n",
    "    get_bigrams(get_words(df,column)).sort_values().plot.barh(color='blue', width=.9, figsize=(12, 8))\n",
    "\n",
    "    plt.title(title)\n",
    "    plt.ylabel('Bigram')\n",
    "    plt.xlabel('# Occurances')\n",
    "\n",
    "def viz_trigrams(df, column, title):\n",
    "    get_trigrams(get_words(df,column)).sort_values().plot.barh(color='blue', width=.9, figsize=(12, 8))\n",
    "\n",
    "    plt.title(title)\n",
    "    plt.ylabel('Trigram')\n",
    "    plt.xlabel('# Occurances')\n",
    "    \n",
    "def viz_qualgrams(df, column, title):\n",
    "    get_qualgrams(get_words(df,column)).sort_values().plot.barh(color='blue', width=.9, figsize=(12, 8))\n",
    "\n",
    "    plt.title(title)\n",
    "    plt.ylabel('Qualgram')\n",
    "    plt.xlabel('# Occurances')'''"
   ]
  },
  {
   "cell_type": "code",
   "execution_count": 65,
   "id": "b2c196ee",
   "metadata": {},
   "outputs": [],
   "source": [
    "#viz_bigrams(df,'cleaned text','Most Frequent Bigrams (All)')"
   ]
  },
  {
   "cell_type": "code",
   "execution_count": 66,
   "id": "e01c3b9d",
   "metadata": {},
   "outputs": [],
   "source": [
    "#viz_trigrams(df,'cleaned text','Most Frequent Trigrams (All)')"
   ]
  },
  {
   "cell_type": "code",
   "execution_count": 67,
   "id": "85380438",
   "metadata": {},
   "outputs": [],
   "source": [
    "#viz_qualgrams(df,'cleaned text','Most Frequent Qualgrams (All)')"
   ]
  },
  {
   "cell_type": "code",
   "execution_count": 68,
   "id": "af71a2df",
   "metadata": {},
   "outputs": [],
   "source": [
    "#viz_bigrams(south_df,'cleaned text','Most Frequent Bigrams (South)')"
   ]
  },
  {
   "cell_type": "code",
   "execution_count": 69,
   "id": "c0fca8b8",
   "metadata": {},
   "outputs": [],
   "source": [
    "#viz_trigrams(south_df,'cleaned text','Most Frequent Trigrams (South)')"
   ]
  },
  {
   "cell_type": "code",
   "execution_count": 70,
   "id": "a44b583d",
   "metadata": {},
   "outputs": [],
   "source": [
    "#viz_qualgrams(south_df,'cleaned text','Most Frequent Qualgrams (South)')"
   ]
  },
  {
   "cell_type": "code",
   "execution_count": 71,
   "id": "2688f372",
   "metadata": {},
   "outputs": [],
   "source": [
    "#viz_bigrams(west_df,'cleaned text','Most Frequent Bigrams (West)')"
   ]
  },
  {
   "cell_type": "code",
   "execution_count": 72,
   "id": "7a99ee11",
   "metadata": {},
   "outputs": [],
   "source": [
    "#viz_trigrams(west_df,'cleaned text','Most Frequent Trigrams (West)')"
   ]
  },
  {
   "cell_type": "code",
   "execution_count": 73,
   "id": "dc6a0a55",
   "metadata": {},
   "outputs": [],
   "source": [
    "#viz_qualgrams(west_df,'cleaned text','Most Frequent Qualgrams (West)')"
   ]
  },
  {
   "cell_type": "code",
   "execution_count": 74,
   "id": "d62305ff",
   "metadata": {},
   "outputs": [
    {
     "data": {
      "text/plain": [
       "'from nltk.collocations import BigramCollocationFinder\\nfrom nltk.metrics import BigramAssocMeasures\\nfrom nltk.collocations import TrigramCollocationFinder\\nfrom nltk.metrics import TrigramAssocMeasures\\n\\nstopset = nltk.corpus.stopwords.words(\\'english\\') + list(string.punctuation) + [\\'...\\',\\' - \\', \\'ca\\', \\'wo\\', \"\\'s\", \"\\'ing\",\"\\'ll\", \"\\'re\"]\\nfilter_stops = lambda w: len(w) < 3 or w in stopset\\n\\ndef get_bi_collocations(list):\\n    list_col = [a.lower() for a in list]\\n    biagram_collocation = BigramCollocationFinder.from_words(list_col)\\n    biagram_collocation.apply_word_filter(filter_stops)\\n    biagram_collocation.apply_freq_filter(3)\\n    return biagram_collocation.nbest(BigramAssocMeasures.likelihood_ratio, 15)\\n\\ndef get_tri_collocation(list):\\n    list_col = [a.lower() for a in list]\\n    trigram_collocation = TrigramCollocationFinder.from_words(list_col)\\n    trigram_collocation.apply_word_filter(filter_stops)\\n    trigram_collocation.apply_freq_filter(3)\\n    return trigram_collocation.nbest(TrigramAssocMeasures.likelihood_ratio, 15)'"
      ]
     },
     "execution_count": 74,
     "metadata": {},
     "output_type": "execute_result"
    }
   ],
   "source": [
    "'''\n",
    "Uses code from GeekForGeeks (2022)\n",
    "https://www.geeksforgeeks.org/nlp-word-collocations/\n",
    "'''\n",
    "\n",
    "'''from nltk.collocations import BigramCollocationFinder\n",
    "from nltk.metrics import BigramAssocMeasures\n",
    "from nltk.collocations import TrigramCollocationFinder\n",
    "from nltk.metrics import TrigramAssocMeasures\n",
    "\n",
    "stopset = nltk.corpus.stopwords.words('english') + list(string.punctuation) + ['...',' - ', 'ca', 'wo', \"'s\", \"'ing\",\"'ll\", \"'re\"]\n",
    "filter_stops = lambda w: len(w) < 3 or w in stopset\n",
    "\n",
    "def get_bi_collocations(list):\n",
    "    list_col = [a.lower() for a in list]\n",
    "    biagram_collocation = BigramCollocationFinder.from_words(list_col)\n",
    "    biagram_collocation.apply_word_filter(filter_stops)\n",
    "    biagram_collocation.apply_freq_filter(3)\n",
    "    return biagram_collocation.nbest(BigramAssocMeasures.likelihood_ratio, 15)\n",
    "\n",
    "def get_tri_collocation(list):\n",
    "    list_col = [a.lower() for a in list]\n",
    "    trigram_collocation = TrigramCollocationFinder.from_words(list_col)\n",
    "    trigram_collocation.apply_word_filter(filter_stops)\n",
    "    trigram_collocation.apply_freq_filter(3)\n",
    "    return trigram_collocation.nbest(TrigramAssocMeasures.likelihood_ratio, 15)'''"
   ]
  },
  {
   "cell_type": "code",
   "execution_count": 75,
   "id": "103e5e9c",
   "metadata": {},
   "outputs": [],
   "source": [
    "#get_bi_collocations(all_words)"
   ]
  },
  {
   "cell_type": "code",
   "execution_count": 76,
   "id": "ebacd68c",
   "metadata": {},
   "outputs": [],
   "source": [
    "#get_tri_collocation(all_words)"
   ]
  },
  {
   "cell_type": "code",
   "execution_count": 77,
   "id": "535ec86c",
   "metadata": {},
   "outputs": [],
   "source": [
    "#get_bi_collocations(a_pos_word_list)"
   ]
  },
  {
   "cell_type": "code",
   "execution_count": 78,
   "id": "2e4f77ea",
   "metadata": {},
   "outputs": [],
   "source": [
    "#get_tri_collocation(a_pos_word_list)"
   ]
  },
  {
   "cell_type": "code",
   "execution_count": 79,
   "id": "f257502a",
   "metadata": {},
   "outputs": [],
   "source": [
    "#get_bi_collocations(a_neg_word_list)"
   ]
  },
  {
   "cell_type": "code",
   "execution_count": 80,
   "id": "bb1ccd48",
   "metadata": {},
   "outputs": [],
   "source": [
    "#get_tri_collocation(a_neg_word_list)"
   ]
  },
  {
   "cell_type": "code",
   "execution_count": 81,
   "id": "91d7de29",
   "metadata": {},
   "outputs": [],
   "source": [
    "#get_bi_collocations(a_neu_word_list)"
   ]
  },
  {
   "cell_type": "code",
   "execution_count": 82,
   "id": "cc8fe0a3",
   "metadata": {},
   "outputs": [],
   "source": [
    "#get_tri_collocation(a_neu_word_list)"
   ]
  },
  {
   "cell_type": "code",
   "execution_count": 83,
   "id": "56ce6818",
   "metadata": {},
   "outputs": [],
   "source": [
    "#get_bi_collocations(all_words_south)"
   ]
  },
  {
   "cell_type": "code",
   "execution_count": 84,
   "id": "163ca1c6",
   "metadata": {},
   "outputs": [],
   "source": [
    "#get_tri_collocation(all_words_south)"
   ]
  },
  {
   "cell_type": "code",
   "execution_count": 85,
   "id": "949ec143",
   "metadata": {},
   "outputs": [],
   "source": [
    "#get_bi_collocations(s_pos_word_list)"
   ]
  },
  {
   "cell_type": "code",
   "execution_count": 86,
   "id": "c0bde484",
   "metadata": {},
   "outputs": [],
   "source": [
    "#get_tri_collocation(s_pos_word_list)"
   ]
  },
  {
   "cell_type": "code",
   "execution_count": 87,
   "id": "76364d3a",
   "metadata": {},
   "outputs": [],
   "source": [
    "#get_bi_collocations(s_neg_word_list)"
   ]
  },
  {
   "cell_type": "code",
   "execution_count": 88,
   "id": "58ba53aa",
   "metadata": {},
   "outputs": [],
   "source": [
    "#get_tri_collocation(s_neg_word_list)"
   ]
  },
  {
   "cell_type": "code",
   "execution_count": 89,
   "id": "89d06179",
   "metadata": {},
   "outputs": [],
   "source": [
    "#get_bi_collocations(s_neu_word_list)"
   ]
  },
  {
   "cell_type": "code",
   "execution_count": 90,
   "id": "0e19c1e2",
   "metadata": {},
   "outputs": [],
   "source": [
    "#get_tri_collocation(s_neu_word_list)"
   ]
  },
  {
   "cell_type": "code",
   "execution_count": 91,
   "id": "0f7604a9",
   "metadata": {},
   "outputs": [],
   "source": [
    "#get_bi_collocations(all_words_west)"
   ]
  },
  {
   "cell_type": "code",
   "execution_count": 92,
   "id": "c0e8802f",
   "metadata": {},
   "outputs": [],
   "source": [
    "#get_tri_collocation(all_words_west)"
   ]
  },
  {
   "cell_type": "code",
   "execution_count": 93,
   "id": "daeccc3b",
   "metadata": {},
   "outputs": [],
   "source": [
    "#get_bi_collocations(w_pos_word_list)"
   ]
  },
  {
   "cell_type": "code",
   "execution_count": 94,
   "id": "d87a54cd",
   "metadata": {},
   "outputs": [],
   "source": [
    "#get_tri_collocation(w_pos_word_list)"
   ]
  },
  {
   "cell_type": "code",
   "execution_count": 95,
   "id": "de2a026c",
   "metadata": {},
   "outputs": [],
   "source": [
    "#get_bi_collocations(w_neg_word_list)"
   ]
  },
  {
   "cell_type": "code",
   "execution_count": 96,
   "id": "54ddd32f",
   "metadata": {},
   "outputs": [],
   "source": [
    "#get_tri_collocation(w_neg_word_list)"
   ]
  },
  {
   "cell_type": "code",
   "execution_count": 97,
   "id": "5f322ebd",
   "metadata": {},
   "outputs": [],
   "source": [
    "#get_bi_collocations(w_neu_word_list)"
   ]
  },
  {
   "cell_type": "code",
   "execution_count": 98,
   "id": "94f7e2b2",
   "metadata": {},
   "outputs": [],
   "source": [
    "#get_tri_collocation(w_neu_word_list)"
   ]
  },
  {
   "cell_type": "code",
   "execution_count": 99,
   "id": "2aef0cea",
   "metadata": {},
   "outputs": [
    {
     "data": {
      "text/plain": [
       "['’', '’', '’', '’', '’', '’', '’', '’', '’', '’']"
      ]
     },
     "execution_count": 99,
     "metadata": {},
     "output_type": "execute_result"
    }
   ],
   "source": [
    "def isEnglish(c):\n",
    "    try:\n",
    "        c.encode(encoding='utf-8').decode('ascii')\n",
    "    except UnicodeDecodeError:\n",
    "        return False\n",
    "    else:\n",
    "        return True\n",
    "\n",
    "non_english = []\n",
    "for index, row in df.iterrows():\n",
    "    for l in list(row['cleaned text']):\n",
    "        for c in l:\n",
    "            if isEnglish(c) == True:\n",
    "                pass\n",
    "            else:\n",
    "                non_english.append(c)\n",
    "non_english[:10]"
   ]
  },
  {
   "cell_type": "code",
   "execution_count": 100,
   "id": "5a46e357",
   "metadata": {},
   "outputs": [
    {
     "data": {
      "text/plain": [
       "label           float64\n",
       "cleaned text     object\n",
       "dtype: object"
      ]
     },
     "execution_count": 100,
     "metadata": {},
     "output_type": "execute_result"
    }
   ],
   "source": [
    "sentiment_df = df.drop(columns=[\"Author\",\"Review Text\",\"Date\",\"Owner Answer\",\"Owner Answer Date\",\"Author Profile\",\"Author Image\",\"Review URL\",\"label\",\"zip\",\"state\",\"has owner answer\",\"census region\"])\n",
    "sentiment_df = sentiment_df.rename(columns={'Review Rating':'label'})\n",
    "sentiment_df.dtypes"
   ]
  },
  {
   "cell_type": "code",
   "execution_count": 101,
   "id": "025ea321",
   "metadata": {},
   "outputs": [
    {
     "name": "stdout",
     "output_type": "stream",
     "text": [
      "Vocabulary size: 137804\n",
      "Max sequence embedding: 19\n"
     ]
    }
   ],
   "source": [
    "all_words_sent = get_words(sentiment_df, 'cleaned text')\n",
    "all_freq_sent = pd.Series(all_words_sent).value_counts()\n",
    "vocab_size_sent = len(all_freq_sent)\n",
    "\n",
    "print('Vocabulary size: ' + str(vocab_size_sent))\n",
    "\n",
    "max_sequence_embedding = int(round(np.sqrt(np.sqrt(vocab_size_sent)), 0))\n",
    "print('Max sequence embedding: ' + str(max_sequence_embedding))"
   ]
  },
  {
   "cell_type": "code",
   "execution_count": 102,
   "id": "dddab120",
   "metadata": {},
   "outputs": [
    {
     "name": "stdout",
     "output_type": "stream",
     "text": [
      "Sequence length: 425\n"
     ]
    }
   ],
   "source": [
    "list_of_lens = []\n",
    "for index, row in sentiment_df.iterrows():\n",
    "    list_of_lens.append(len(clean_sentence(row['cleaned text'])))\n",
    "sequence_length = max(list_of_lens)\n",
    "print('Sequence length: ' + str(sequence_length))"
   ]
  },
  {
   "cell_type": "code",
   "execution_count": 103,
   "id": "98b2a64e",
   "metadata": {},
   "outputs": [],
   "source": [
    "vocab_size = 137804\n",
    "embedding_dim = 19\n",
    "max_length = 425"
   ]
  },
  {
   "cell_type": "code",
   "execution_count": 104,
   "id": "bd642c3c",
   "metadata": {},
   "outputs": [
    {
     "name": "stdout",
     "output_type": "stream",
     "text": [
      "Vocab is 81657 elements long.\n",
      "((101219, 425), (101219, 6), (33740, 425), (33740, 6))\n"
     ]
    }
   ],
   "source": [
    "'''\n",
    "Uses code from Md Zahidul Islam - https://github.com/Snigdho8869/Multiclass-Text-Classification/blob/main/Notebook/Multiclass_Text_Classification.ipynb\n",
    "'''\n",
    "\n",
    "import tensorflow as tf\n",
    "from tensorflow.keras.preprocessing.text import Tokenizer\n",
    "from tensorflow.keras.preprocessing.sequence import pad_sequences\n",
    "from tensorflow.keras.callbacks import EarlyStopping, ReduceLROnPlateau, TerminateOnNaN\n",
    "from tensorflow.keras.utils import to_categorical\n",
    "from tensorflow.keras.layers import Dense, Embedding, Flatten, LSTM, Bidirectional, SpatialDropout1D, Dropout\n",
    "from tensorflow.keras.models import Sequential\n",
    "from sklearn.model_selection import train_test_split\n",
    "\n",
    "tokenizer = Tokenizer(num_words= vocab_size)\n",
    "tokenizer.fit_on_texts(sentiment_df['cleaned text'].values)\n",
    "vocab_size = len(tokenizer.word_index) + 1\n",
    "print(f\"Vocab is {vocab_size} elements long.\")\n",
    "\n",
    "sequences = tokenizer.texts_to_sequences(sentiment_df['cleaned text'].values)\n",
    "X_ml = pad_sequences(sequences,maxlen=max_length)\n",
    "\n",
    "labels = to_categorical(sentiment_df['label'], num_classes=6)\n",
    "\n",
    "X_train, X_test, y_train, y_test = train_test_split(X_ml , labels, test_size=0.25, random_state=1987)\n",
    "print((X_train.shape, y_train.shape, X_test.shape, y_test.shape))"
   ]
  },
  {
   "cell_type": "code",
   "execution_count": 105,
   "id": "014db3c7",
   "metadata": {},
   "outputs": [
    {
     "name": "stderr",
     "output_type": "stream",
     "text": [
      "c:\\Users\\cgrow\\AppData\\Local\\Programs\\Python\\Python312\\Lib\\site-packages\\keras\\src\\layers\\core\\embedding.py:97: UserWarning: Argument `input_length` is deprecated. Just remove it.\n",
      "  warnings.warn(\n"
     ]
    },
    {
     "data": {
      "text/html": [
       "<pre style=\"white-space:pre;overflow-x:auto;line-height:normal;font-family:Menlo,'DejaVu Sans Mono',consolas,'Courier New',monospace\"><span style=\"font-weight: bold\">Model: \"sequential\"</span>\n",
       "</pre>\n"
      ],
      "text/plain": [
       "\u001b[1mModel: \"sequential\"\u001b[0m\n"
      ]
     },
     "metadata": {},
     "output_type": "display_data"
    },
    {
     "data": {
      "text/html": [
       "<pre style=\"white-space:pre;overflow-x:auto;line-height:normal;font-family:Menlo,'DejaVu Sans Mono',consolas,'Courier New',monospace\">┏━━━━━━━━━━━━━━━━━━━━━━━━━━━━━━━━━┳━━━━━━━━━━━━━━━━━━━━━━━━┳━━━━━━━━━━━━━━━┓\n",
       "┃<span style=\"font-weight: bold\"> Layer (type)                    </span>┃<span style=\"font-weight: bold\"> Output Shape           </span>┃<span style=\"font-weight: bold\">       Param # </span>┃\n",
       "┡━━━━━━━━━━━━━━━━━━━━━━━━━━━━━━━━━╇━━━━━━━━━━━━━━━━━━━━━━━━╇━━━━━━━━━━━━━━━┩\n",
       "│ embedding (<span style=\"color: #0087ff; text-decoration-color: #0087ff\">Embedding</span>)           │ (<span style=\"color: #00d7ff; text-decoration-color: #00d7ff\">None</span>, <span style=\"color: #00af00; text-decoration-color: #00af00\">6</span>, <span style=\"color: #00af00; text-decoration-color: #00af00\">19</span>)          │     <span style=\"color: #00af00; text-decoration-color: #00af00\">1,551,483</span> │\n",
       "├─────────────────────────────────┼────────────────────────┼───────────────┤\n",
       "│ spatial_dropout1d               │ (<span style=\"color: #00d7ff; text-decoration-color: #00d7ff\">None</span>, <span style=\"color: #00af00; text-decoration-color: #00af00\">6</span>, <span style=\"color: #00af00; text-decoration-color: #00af00\">19</span>)          │             <span style=\"color: #00af00; text-decoration-color: #00af00\">0</span> │\n",
       "│ (<span style=\"color: #0087ff; text-decoration-color: #0087ff\">SpatialDropout1D</span>)              │                        │               │\n",
       "├─────────────────────────────────┼────────────────────────┼───────────────┤\n",
       "│ bidirectional (<span style=\"color: #0087ff; text-decoration-color: #0087ff\">Bidirectional</span>)   │ (<span style=\"color: #00d7ff; text-decoration-color: #00d7ff\">None</span>, <span style=\"color: #00af00; text-decoration-color: #00af00\">600</span>)            │       <span style=\"color: #00af00; text-decoration-color: #00af00\">768,000</span> │\n",
       "├─────────────────────────────────┼────────────────────────┼───────────────┤\n",
       "│ dropout (<span style=\"color: #0087ff; text-decoration-color: #0087ff\">Dropout</span>)               │ (<span style=\"color: #00d7ff; text-decoration-color: #00d7ff\">None</span>, <span style=\"color: #00af00; text-decoration-color: #00af00\">600</span>)            │             <span style=\"color: #00af00; text-decoration-color: #00af00\">0</span> │\n",
       "├─────────────────────────────────┼────────────────────────┼───────────────┤\n",
       "│ flatten (<span style=\"color: #0087ff; text-decoration-color: #0087ff\">Flatten</span>)               │ (<span style=\"color: #00d7ff; text-decoration-color: #00d7ff\">None</span>, <span style=\"color: #00af00; text-decoration-color: #00af00\">600</span>)            │             <span style=\"color: #00af00; text-decoration-color: #00af00\">0</span> │\n",
       "├─────────────────────────────────┼────────────────────────┼───────────────┤\n",
       "│ dense (<span style=\"color: #0087ff; text-decoration-color: #0087ff\">Dense</span>)                   │ (<span style=\"color: #00d7ff; text-decoration-color: #00d7ff\">None</span>, <span style=\"color: #00af00; text-decoration-color: #00af00\">64</span>)             │        <span style=\"color: #00af00; text-decoration-color: #00af00\">38,464</span> │\n",
       "├─────────────────────────────────┼────────────────────────┼───────────────┤\n",
       "│ dropout_1 (<span style=\"color: #0087ff; text-decoration-color: #0087ff\">Dropout</span>)             │ (<span style=\"color: #00d7ff; text-decoration-color: #00d7ff\">None</span>, <span style=\"color: #00af00; text-decoration-color: #00af00\">64</span>)             │             <span style=\"color: #00af00; text-decoration-color: #00af00\">0</span> │\n",
       "├─────────────────────────────────┼────────────────────────┼───────────────┤\n",
       "│ dense_1 (<span style=\"color: #0087ff; text-decoration-color: #0087ff\">Dense</span>)                 │ (<span style=\"color: #00d7ff; text-decoration-color: #00d7ff\">None</span>, <span style=\"color: #00af00; text-decoration-color: #00af00\">6</span>)              │           <span style=\"color: #00af00; text-decoration-color: #00af00\">390</span> │\n",
       "└─────────────────────────────────┴────────────────────────┴───────────────┘\n",
       "</pre>\n"
      ],
      "text/plain": [
       "┏━━━━━━━━━━━━━━━━━━━━━━━━━━━━━━━━━┳━━━━━━━━━━━━━━━━━━━━━━━━┳━━━━━━━━━━━━━━━┓\n",
       "┃\u001b[1m \u001b[0m\u001b[1mLayer (type)                   \u001b[0m\u001b[1m \u001b[0m┃\u001b[1m \u001b[0m\u001b[1mOutput Shape          \u001b[0m\u001b[1m \u001b[0m┃\u001b[1m \u001b[0m\u001b[1m      Param #\u001b[0m\u001b[1m \u001b[0m┃\n",
       "┡━━━━━━━━━━━━━━━━━━━━━━━━━━━━━━━━━╇━━━━━━━━━━━━━━━━━━━━━━━━╇━━━━━━━━━━━━━━━┩\n",
       "│ embedding (\u001b[38;5;33mEmbedding\u001b[0m)           │ (\u001b[38;5;45mNone\u001b[0m, \u001b[38;5;34m6\u001b[0m, \u001b[38;5;34m19\u001b[0m)          │     \u001b[38;5;34m1,551,483\u001b[0m │\n",
       "├─────────────────────────────────┼────────────────────────┼───────────────┤\n",
       "│ spatial_dropout1d               │ (\u001b[38;5;45mNone\u001b[0m, \u001b[38;5;34m6\u001b[0m, \u001b[38;5;34m19\u001b[0m)          │             \u001b[38;5;34m0\u001b[0m │\n",
       "│ (\u001b[38;5;33mSpatialDropout1D\u001b[0m)              │                        │               │\n",
       "├─────────────────────────────────┼────────────────────────┼───────────────┤\n",
       "│ bidirectional (\u001b[38;5;33mBidirectional\u001b[0m)   │ (\u001b[38;5;45mNone\u001b[0m, \u001b[38;5;34m600\u001b[0m)            │       \u001b[38;5;34m768,000\u001b[0m │\n",
       "├─────────────────────────────────┼────────────────────────┼───────────────┤\n",
       "│ dropout (\u001b[38;5;33mDropout\u001b[0m)               │ (\u001b[38;5;45mNone\u001b[0m, \u001b[38;5;34m600\u001b[0m)            │             \u001b[38;5;34m0\u001b[0m │\n",
       "├─────────────────────────────────┼────────────────────────┼───────────────┤\n",
       "│ flatten (\u001b[38;5;33mFlatten\u001b[0m)               │ (\u001b[38;5;45mNone\u001b[0m, \u001b[38;5;34m600\u001b[0m)            │             \u001b[38;5;34m0\u001b[0m │\n",
       "├─────────────────────────────────┼────────────────────────┼───────────────┤\n",
       "│ dense (\u001b[38;5;33mDense\u001b[0m)                   │ (\u001b[38;5;45mNone\u001b[0m, \u001b[38;5;34m64\u001b[0m)             │        \u001b[38;5;34m38,464\u001b[0m │\n",
       "├─────────────────────────────────┼────────────────────────┼───────────────┤\n",
       "│ dropout_1 (\u001b[38;5;33mDropout\u001b[0m)             │ (\u001b[38;5;45mNone\u001b[0m, \u001b[38;5;34m64\u001b[0m)             │             \u001b[38;5;34m0\u001b[0m │\n",
       "├─────────────────────────────────┼────────────────────────┼───────────────┤\n",
       "│ dense_1 (\u001b[38;5;33mDense\u001b[0m)                 │ (\u001b[38;5;45mNone\u001b[0m, \u001b[38;5;34m6\u001b[0m)              │           \u001b[38;5;34m390\u001b[0m │\n",
       "└─────────────────────────────────┴────────────────────────┴───────────────┘\n"
      ]
     },
     "metadata": {},
     "output_type": "display_data"
    },
    {
     "data": {
      "text/html": [
       "<pre style=\"white-space:pre;overflow-x:auto;line-height:normal;font-family:Menlo,'DejaVu Sans Mono',consolas,'Courier New',monospace\"><span style=\"font-weight: bold\"> Total params: </span><span style=\"color: #00af00; text-decoration-color: #00af00\">2,358,337</span> (9.00 MB)\n",
       "</pre>\n"
      ],
      "text/plain": [
       "\u001b[1m Total params: \u001b[0m\u001b[38;5;34m2,358,337\u001b[0m (9.00 MB)\n"
      ]
     },
     "metadata": {},
     "output_type": "display_data"
    },
    {
     "data": {
      "text/html": [
       "<pre style=\"white-space:pre;overflow-x:auto;line-height:normal;font-family:Menlo,'DejaVu Sans Mono',consolas,'Courier New',monospace\"><span style=\"font-weight: bold\"> Trainable params: </span><span style=\"color: #00af00; text-decoration-color: #00af00\">2,358,337</span> (9.00 MB)\n",
       "</pre>\n"
      ],
      "text/plain": [
       "\u001b[1m Trainable params: \u001b[0m\u001b[38;5;34m2,358,337\u001b[0m (9.00 MB)\n"
      ]
     },
     "metadata": {},
     "output_type": "display_data"
    },
    {
     "data": {
      "text/html": [
       "<pre style=\"white-space:pre;overflow-x:auto;line-height:normal;font-family:Menlo,'DejaVu Sans Mono',consolas,'Courier New',monospace\"><span style=\"font-weight: bold\"> Non-trainable params: </span><span style=\"color: #00af00; text-decoration-color: #00af00\">0</span> (0.00 B)\n",
       "</pre>\n"
      ],
      "text/plain": [
       "\u001b[1m Non-trainable params: \u001b[0m\u001b[38;5;34m0\u001b[0m (0.00 B)\n"
      ]
     },
     "metadata": {},
     "output_type": "display_data"
    },
    {
     "name": "stdout",
     "output_type": "stream",
     "text": [
      "None\n"
     ]
    }
   ],
   "source": [
    "epochs = 25\n",
    "emb_dim = 19\n",
    "batch_size = 50\n",
    "model = Sequential()\n",
    "model.add(Embedding(vocab_size, emb_dim, input_length=X_ml.shape[1]))\n",
    "model.add(SpatialDropout1D(0.8))\n",
    "model.add(Bidirectional(LSTM(300, dropout=0.5, recurrent_dropout=0.5)))\n",
    "model.add(Dropout(0.5))\n",
    "model.add(Flatten())\n",
    "model.add(Dense(64, activation='relu'))\n",
    "model.add(Dropout(0.5))\n",
    "model.add(Dense(6, activation='softmax'))\n",
    "model.build(input_shape=(None,6))\n",
    "model.compile(optimizer= 'adam', loss= 'categorical_crossentropy', metrics=['accuracy'])\n",
    "print(model.summary())"
   ]
  },
  {
   "cell_type": "code",
   "execution_count": null,
   "id": "f6e4e3e1",
   "metadata": {},
   "outputs": [
    {
     "name": "stdout",
     "output_type": "stream",
     "text": [
      "Epoch 1/25\n",
      "\u001b[1m3164/3164\u001b[0m \u001b[32m━━━━━━━━━━━━━━━━━━━━\u001b[0m\u001b[37m\u001b[0m \u001b[1m2742s\u001b[0m 866ms/step - accuracy: 0.6277 - loss: 1.0212 - val_accuracy: 0.5350 - val_loss: 1.0799 - learning_rate: 0.0010\n",
      "Epoch 2/25\n",
      "\u001b[1m3164/3164\u001b[0m \u001b[32m━━━━━━━━━━━━━━━━━━━━\u001b[0m\u001b[37m\u001b[0m \u001b[1m2689s\u001b[0m 850ms/step - accuracy: 0.6884 - loss: 0.8919 - val_accuracy: 0.8178 - val_loss: 0.6348 - learning_rate: 0.0010\n",
      "Epoch 3/25\n",
      "\u001b[1m3164/3164\u001b[0m \u001b[32m━━━━━━━━━━━━━━━━━━━━\u001b[0m\u001b[37m\u001b[0m \u001b[1m2892s\u001b[0m 914ms/step - accuracy: 0.7163 - loss: 0.8498 - val_accuracy: 0.7842 - val_loss: 0.7269 - learning_rate: 0.0010\n",
      "Epoch 4/25\n",
      "\u001b[1m3164/3164\u001b[0m \u001b[32m━━━━━━━━━━━━━━━━━━━━\u001b[0m\u001b[37m\u001b[0m \u001b[1m2881s\u001b[0m 910ms/step - accuracy: 0.6902 - loss: 0.8856 - val_accuracy: 0.7856 - val_loss: 0.7561 - learning_rate: 0.0010\n",
      "Epoch 5/25\n",
      "\u001b[1m3164/3164\u001b[0m \u001b[32m━━━━━━━━━━━━━━━━━━━━\u001b[0m\u001b[37m\u001b[0m \u001b[1m2918s\u001b[0m 922ms/step - accuracy: 0.6895 - loss: 0.8850 - val_accuracy: 0.7501 - val_loss: 0.8671 - learning_rate: 0.0010\n"
     ]
    },
    {
     "data": {
      "text/plain": [
       "<keras.src.callbacks.history.History at 0x27085e4c500>"
      ]
     },
     "execution_count": 106,
     "metadata": {},
     "output_type": "execute_result"
    }
   ],
   "source": [
    "reduce_lr_callback = ReduceLROnPlateau(monitor=\"val_loss\", factor=0.15, patience=5, verbose=1, mode=\"min\", min_delta=0.0001, cooldown=0, min_lr=0)\n",
    "early_stop_check = EarlyStopping(monitor='val_accuracy', patience=3)\n",
    "terminate = TerminateOnNaN()\n",
    "\n",
    "results = model.fit(X_train, y_train, validation_data = (X_test, y_test), epochs=epochs, callbacks=[reduce_lr_callback,early_stop_check,terminate])"
   ]
  },
  {
   "cell_type": "code",
   "execution_count": 110,
   "id": "1ae22a92",
   "metadata": {},
   "outputs": [
    {
     "name": "stdout",
     "output_type": "stream",
     "text": [
      "\u001b[1m1055/1055\u001b[0m \u001b[32m━━━━━━━━━━━━━━━━━━━━\u001b[0m\u001b[37m\u001b[0m \u001b[1m183s\u001b[0m 173ms/step - accuracy: 0.7485 - loss: 0.8665\n"
     ]
    },
    {
     "data": {
      "text/plain": [
       "[0.8671448230743408, 0.7500889301300049]"
      ]
     },
     "execution_count": 110,
     "metadata": {},
     "output_type": "execute_result"
    }
   ],
   "source": [
    "model.evaluate(X_test,y_test)"
   ]
  },
  {
   "cell_type": "code",
   "execution_count": 111,
   "id": "56ac3636",
   "metadata": {},
   "outputs": [
    {
     "data": {
      "text/plain": [
       "\"model.save('capstone.keras')\""
      ]
     },
     "execution_count": 111,
     "metadata": {},
     "output_type": "execute_result"
    }
   ],
   "source": [
    "'''model.save('capstone.keras')'''"
   ]
  },
  {
   "cell_type": "code",
   "execution_count": 112,
   "id": "130d8a77",
   "metadata": {},
   "outputs": [
    {
     "ename": "AttributeError",
     "evalue": "'Sequential' object has no attribute 'history'",
     "output_type": "error",
     "traceback": [
      "\u001b[1;31m---------------------------------------------------------------------------\u001b[0m",
      "\u001b[1;31mAttributeError\u001b[0m                            Traceback (most recent call last)",
      "Cell \u001b[1;32mIn[112], line 1\u001b[0m\n\u001b[1;32m----> 1\u001b[0m plt\u001b[38;5;241m.\u001b[39mplot(\u001b[43mresults\u001b[49m\u001b[38;5;241;43m.\u001b[39;49m\u001b[43mhistory\u001b[49m[\u001b[38;5;124m'\u001b[39m\u001b[38;5;124maccuracy\u001b[39m\u001b[38;5;124m'\u001b[39m], label\u001b[38;5;241m=\u001b[39m \u001b[38;5;124m\"\u001b[39m\u001b[38;5;124mAccuracy (training)\u001b[39m\u001b[38;5;124m\"\u001b[39m)\n\u001b[0;32m      2\u001b[0m plt\u001b[38;5;241m.\u001b[39mplot(results\u001b[38;5;241m.\u001b[39mhistory[\u001b[38;5;124m'\u001b[39m\u001b[38;5;124mval_accuracy\u001b[39m\u001b[38;5;124m'\u001b[39m], label\u001b[38;5;241m=\u001b[39m \u001b[38;5;124m\"\u001b[39m\u001b[38;5;124mAccuracy (validation)\u001b[39m\u001b[38;5;124m\"\u001b[39m)\n\u001b[0;32m      3\u001b[0m plt\u001b[38;5;241m.\u001b[39mxlabel(\u001b[38;5;124m\"\u001b[39m\u001b[38;5;124mNumber of Epochs\u001b[39m\u001b[38;5;124m\"\u001b[39m)\n",
      "\u001b[1;31mAttributeError\u001b[0m: 'Sequential' object has no attribute 'history'"
     ]
    }
   ],
   "source": [
    "plt.plot(results.history['accuracy'], label= \"Accuracy (training)\")\n",
    "plt.plot(results.history['val_accuracy'], label= \"Accuracy (validation)\")\n",
    "plt.xlabel(\"Number of Epochs\")\n",
    "plt.ylabel(\"Accuracy of Model\")\n",
    "plt.legend()\n",
    "plt.title(\"Accuracy of Training Model Across Epochs\")\n",
    "plt.show()"
   ]
  }
 ],
 "metadata": {
  "kernelspec": {
   "display_name": "Python 3",
   "language": "python",
   "name": "python3"
  },
  "language_info": {
   "codemirror_mode": {
    "name": "ipython",
    "version": 3
   },
   "file_extension": ".py",
   "mimetype": "text/x-python",
   "name": "python",
   "nbconvert_exporter": "python",
   "pygments_lexer": "ipython3",
   "version": "3.12.2"
  }
 },
 "nbformat": 4,
 "nbformat_minor": 5
}
