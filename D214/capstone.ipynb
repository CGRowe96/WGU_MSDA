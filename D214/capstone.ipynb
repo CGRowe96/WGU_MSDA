{
 "cells": [
  {
   "cell_type": "markdown",
   "id": "20f94527",
   "metadata": {},
   "source": [
    "<font size='10'>Opinions of Medical Facilities: A Regional Comparison</font><br>\n",
    "<font size='6'>Companion Notebook</font>\n",
    "\n",
    "<font size='4'>WGU MSDA Program D214 - Charles G. Rowe 006539689</font>"
   ]
  },
  {
   "cell_type": "code",
   "execution_count": 35,
   "id": "fd020e07",
   "metadata": {},
   "outputs": [
    {
     "name": "stderr",
     "output_type": "stream",
     "text": [
      "<>:4: SyntaxWarning: invalid escape sequence '\\M'\n",
      "<>:4: SyntaxWarning: invalid escape sequence '\\M'\n",
      "C:\\Users\\charlesrowe\\AppData\\Local\\Temp\\ipykernel_25896\\1295670377.py:4: SyntaxWarning: invalid escape sequence '\\M'\n",
      "  directory = os.chdir(\"G:\\My Drive\\Capstone Files\\Datasets\")\n"
     ]
    }
   ],
   "source": [
    "import os\n",
    "import pandas as pd\n",
    "\n",
    "directory = os.chdir(\"G:\\My Drive\\Capstone Files\\Datasets\")"
   ]
  },
  {
   "cell_type": "code",
   "execution_count": 36,
   "id": "e2a8483a",
   "metadata": {},
   "outputs": [
    {
     "data": {
      "text/plain": [
       "Index(['Unnamed: 0', 'Author', 'Review Text', 'Review Rating', 'Date',\n",
       "       'Owner Answer', 'Owner Answer Date', 'Author Profile', 'Author Image',\n",
       "       'Review URL', 'label', 'zip', 'spill1', 'spill2', 'spill3', 'spill4',\n",
       "       'spill5', 'spill7', 'spill7.1', 'spill8', 'state'],\n",
       "      dtype='object')"
      ]
     },
     "execution_count": 36,
     "metadata": {},
     "output_type": "execute_result"
    }
   ],
   "source": [
    "df = pd.read_csv(\"full.csv\")\n",
    "df.columns"
   ]
  },
  {
   "cell_type": "code",
   "execution_count": 37,
   "id": "3a24d0c0",
   "metadata": {},
   "outputs": [
    {
     "data": {
      "text/plain": [
       "Index(['Unnamed: 0', 'Author', 'Review Text', 'Review Rating', 'Date',\n",
       "       'Owner Answer', 'Owner Answer Date', 'Author Profile', 'Author Image',\n",
       "       'Review URL', 'label', 'zip', 'state'],\n",
       "      dtype='object')"
      ]
     },
     "execution_count": 37,
     "metadata": {},
     "output_type": "execute_result"
    }
   ],
   "source": [
    "df = df.drop(columns=[\"spill1\",\"spill2\",\"spill3\",\"spill4\",\"spill5\",\"spill7\",\"spill7.1\",\"spill8\"])\n",
    "df.columns"
   ]
  },
  {
   "cell_type": "code",
   "execution_count": 38,
   "id": "1f0e9869",
   "metadata": {},
   "outputs": [
    {
     "data": {
      "text/plain": [
       "Unnamed: 0.1           int64\n",
       "Unnamed: 0             int64\n",
       "Author                object\n",
       "Review Text           object\n",
       "Review Rating          int64\n",
       "Date                  object\n",
       "Owner Answer          object\n",
       "Owner Answer Date     object\n",
       "Author Profile        object\n",
       "Author Image          object\n",
       "Review URL            object\n",
       "label                 object\n",
       "zip                  float64\n",
       "state                 object\n",
       "dtype: object"
      ]
     },
     "execution_count": 38,
     "metadata": {},
     "output_type": "execute_result"
    }
   ],
   "source": [
    "num_missing_vals = df.isna().sum()\n",
    "num_missing_vals\n",
    "\n",
    "num_missing_reviews = df['Review Text'].isna().sum()\n",
    "num_missing_reviews\n",
    "\n",
    "df = df.dropna(subset=['Review Text'])\n",
    "df.columns\n",
    "\n",
    "num_missing_reviews = df['Review Text'].isna().sum()\n",
    "num_missing_reviews\n",
    "\n",
    "num_missing_replies = df['Owner Answer'].isna().sum()\n",
    "num_missing_replies\n",
    "\n",
    "df['Owner Answer'] = df[\"Owner Answer\"].fillna('no answer')\n",
    "num_missing_replies = df['Owner Answer'].isna().sum()\n",
    "num_missing_replies\n",
    "\n",
    "df['Owner Answer Date'] = df[\"Owner Answer Date\"].fillna('no date')\n",
    "num_missing_replies = df['Owner Answer Date'].isna().sum()\n",
    "num_missing_replies\n",
    "\n",
    "df['Author'] = df[\"Author\"].fillna('anonymous')\n",
    "num_missing_replies = df['Author'].isna().sum()\n",
    "num_missing_replies\n",
    "\n",
    "num_missing_vals = df.isna().sum()\n",
    "num_missing_vals\n",
    "\n",
    "df.to_csv(\"cleaned_full_df.csv\")\n",
    "df = pd.read_csv(\"cleaned_full_df.csv\")\n",
    "\n",
    "df.dtypes"
   ]
  },
  {
   "cell_type": "code",
   "execution_count": 39,
   "id": "783466a6",
   "metadata": {},
   "outputs": [
    {
     "data": {
      "text/plain": [
       "Index(['Unnamed: 0', 'Author', 'Review Text', 'Review Rating', 'Date',\n",
       "       'Owner Answer', 'Owner Answer Date', 'Author Profile', 'Author Image',\n",
       "       'Review URL', 'label', 'zip', 'state'],\n",
       "      dtype='object')"
      ]
     },
     "execution_count": 39,
     "metadata": {},
     "output_type": "execute_result"
    }
   ],
   "source": [
    "df2 = pd.read_csv(\"new_data.csv\")\n",
    "\n",
    "df2 = df2.drop(columns=[\"spill1\",\"spill2\",\"spill3\",\"spill4\",\"spill5\",\"spill6\",\"spill7\"])\n",
    "df2.columns"
   ]
  },
  {
   "cell_type": "code",
   "execution_count": 40,
   "id": "399542c3",
   "metadata": {},
   "outputs": [
    {
     "data": {
      "text/plain": [
       "Unnamed: 0.1          int64\n",
       "Unnamed: 0            int64\n",
       "Author               object\n",
       "Review Text          object\n",
       "Review Rating         int64\n",
       "Date                 object\n",
       "Owner Answer         object\n",
       "Owner Answer Date    object\n",
       "Author Profile       object\n",
       "Author Image         object\n",
       "Review URL           object\n",
       "label                object\n",
       "zip                   int64\n",
       "state                object\n",
       "dtype: object"
      ]
     },
     "execution_count": 40,
     "metadata": {},
     "output_type": "execute_result"
    }
   ],
   "source": [
    "num_missing_vals = df2.isna().sum()\n",
    "num_missing_vals\n",
    "\n",
    "num_missing_reviews = df2['Review Text'].isna().sum()\n",
    "num_missing_reviews\n",
    "\n",
    "df2 = df2.dropna(subset=['Review Text'])\n",
    "df.columns\n",
    "\n",
    "num_missing_reviews = df2['Review Text'].isna().sum()\n",
    "num_missing_reviews\n",
    "\n",
    "num_missing_replies = df2['Owner Answer'].isna().sum()\n",
    "num_missing_replies\n",
    "\n",
    "df2['Owner Answer'] = df2[\"Owner Answer\"].fillna('no answer')\n",
    "num_missing_replies = df2['Owner Answer'].isna().sum()\n",
    "num_missing_replies\n",
    "\n",
    "df2['Owner Answer Date'] = df2[\"Owner Answer Date\"].fillna('no date')\n",
    "num_missing_replies = df2['Owner Answer Date'].isna().sum()\n",
    "num_missing_replies\n",
    "\n",
    "df2['Author'] = df2[\"Author\"].fillna('anonymous')\n",
    "num_missing_replies = df2['Author'].isna().sum()\n",
    "num_missing_replies\n",
    "\n",
    "num_missing_vals = df2.isna().sum()\n",
    "num_missing_vals\n",
    "\n",
    "df2.to_csv(\"cleaned_full_df2.csv\")\n",
    "\n",
    "df = pd.read_csv(\"cleaned_full_df.csv\")\n",
    "df2 = pd.read_csv(\"cleaned_full_df2.csv\")\n",
    "\n",
    "df.dtypes\n",
    "df2.dtypes"
   ]
  },
  {
   "cell_type": "code",
   "execution_count": 41,
   "id": "fb852dd4",
   "metadata": {},
   "outputs": [],
   "source": [
    "import numpy as np\n",
    "df['has owner answer'] = np.where(df[\"Owner Answer\"] != \"no answer\", '1', '0')\n",
    "df2['has owner answer'] = np.where(df2[\"Owner Answer\"] != \"no answer\", '1', '0')"
   ]
  },
  {
   "cell_type": "code",
   "execution_count": 42,
   "id": "886eb07d",
   "metadata": {},
   "outputs": [
    {
     "data": {
      "text/plain": [
       "0        1\n",
       "1        1\n",
       "2        1\n",
       "3        1\n",
       "4        1\n",
       "        ..\n",
       "13964    0\n",
       "13965    0\n",
       "13966    1\n",
       "13967    1\n",
       "13968    0\n",
       "Name: has owner answer, Length: 13969, dtype: object"
      ]
     },
     "execution_count": 42,
     "metadata": {},
     "output_type": "execute_result"
    }
   ],
   "source": [
    "df['has owner answer']\n",
    "df2['has owner answer']"
   ]
  },
  {
   "cell_type": "code",
   "execution_count": 43,
   "id": "5f2830fb",
   "metadata": {},
   "outputs": [
    {
     "data": {
      "text/plain": [
       "state\n",
       "Arizona       3864\n",
       "Colorado      3261\n",
       "New Mexico    2952\n",
       "California    1931\n",
       "Montana       1455\n",
       "Oregon         360\n",
       "Wyoming        129\n",
       "Alaska          17\n",
       "Name: count, dtype: int64"
      ]
     },
     "execution_count": 43,
     "metadata": {},
     "output_type": "execute_result"
    }
   ],
   "source": [
    "df['state'].unique()\n",
    "df['state'].value_counts()\n",
    "df.replace('Lousiana','Louisiana',inplace=True)\n",
    "df['state'].unique()\n",
    "df['state'].value_counts()\n",
    "\n",
    "df2['state'].unique()\n",
    "df2['state'].value_counts()"
   ]
  },
  {
   "cell_type": "code",
   "execution_count": 44,
   "id": "31588b41",
   "metadata": {},
   "outputs": [
    {
     "name": "stdout",
     "output_type": "stream",
     "text": [
      "census region\n",
      "southern     84537\n",
      "west         55167\n",
      "midwest      42584\n",
      "northeast    40112\n",
      "Name: count, dtype: int64\n"
     ]
    },
    {
     "data": {
      "text/plain": [
       "0"
      ]
     },
     "execution_count": 44,
     "metadata": {},
     "output_type": "execute_result"
    }
   ],
   "source": [
    "df = pd.concat([df,df2],ignore_index=True)\n",
    "\n",
    "df['census region'] = np.where((df['state'] == 'Maine')|(df['state'] == 'New Hampshire')|(df['state'] == 'Vermont')|(df['state'] == 'Massachusetts')|\n",
    "                              (df['state'] == 'Connecticut')|(df['state'] == 'Rhode Island')|(df['state'] == 'New York')|(df['state'] == 'Pennsylvania')|\n",
    "                              (df['state'] == 'New Jersey'),'northeast',np.where((df['state'] == 'Delaware')|(df['state'] == 'Maryland')|(df['state'] == 'District of Columbia')|\n",
    "                              (df['state'] == 'Virginia')|(df['state'] == 'West Virginia')|(df['state'] == 'Kentucky')|(df['state'] == 'Tennessee')|(df['state'] == 'North Carolina')|\n",
    "                              (df['state'] == 'South Carolina')|(df['state'] == 'Georgia')|(df['state'] == 'Florida')|(df['state'] == 'Alabama')|(df['state'] == 'Mississippi')|\n",
    "                              (df['state'] == 'Louisiana')|(df['state'] == 'Oklahoma')|(df['state'] == 'Arkansas')|(df['state'] == 'Texas'),'southern',\n",
    "                              np.where((df['state'] == 'Michigan')|(df['state'] == 'Ohio')|(df['state'] == 'Indiana')|(df['state'] == 'Illinois')|(df['state'] == 'Wisconsin')|\n",
    "                              (df['state'] == 'Missouri')|(df['state'] == 'Iowa')|(df['state'] == 'Minnesota')|(df['state'] == 'North Dakota')|(df['state'] == 'South Dakota')|\n",
    "                              (df['state'] == 'Nebraska')|(df['state'] == 'Kansas'),'midwest',np.where((df['state'] == 'Montana')|(df['state'] == 'Wyoming')|(df['state'] == 'Colorado')|\n",
    "                              (df['state'] == 'New Mexico')|(df['state'] == 'Arizona')|(df['state'] == 'Utah')|(df['state'] == 'Idaho')|(df['state'] == 'Nevada')|(df['state'] == 'Washington')|\n",
    "                              (df['state'] == 'Oregon')|(df['state'] == 'California')|(df['state'] == 'Alaska')|(df['state'] == 'Hawaii'),'west','?'))))\n",
    "\n",
    "print(df['census region'].value_counts())\n",
    "\n",
    "df = df.drop(columns='Unnamed: 0')\n",
    "df = df.drop(columns='Unnamed: 0.1')\n",
    "df.dtypes\n",
    "\n",
    "df['Author'] = df[\"Author\"].replace({\"#NAME?\":\"anonymous\"})\n",
    "num_missing_replies = df['Author'].isna().sum()\n",
    "num_missing_replies"
   ]
  },
  {
   "cell_type": "code",
   "execution_count": 45,
   "id": "44888074",
   "metadata": {},
   "outputs": [
    {
     "name": "stdout",
     "output_type": "stream",
     "text": [
      "                                              Review Text  \\\n",
      "20898   \"Best hospital in the state\" Somehow my MRI is...   \n",
      "25353   \"Best hospital in the state\" Somehow my MRI is...   \n",
      "21731   \"Capital’s unlawful collections practices prev...   \n",
      "24370   \"Capital’s unlawful collections practices prev...   \n",
      "216971  \"Not the Patient\", My sister was admitted on 1...   \n",
      "...                                                   ...   \n",
      "153207                                                  👍   \n",
      "21853   😁👍👍👍 good   nice nurse and doctors  good  bles...   \n",
      "24966   😁👍👍👍 good   nice nurse and doctors  good  bles...   \n",
      "40928   🤬😡01/02/2019 WHY BE IN THIS FEILD IF YOU'RE GO...   \n",
      "217022  🤬😡01/02/2019 WHY BE IN THIS FEILD IF YOU'RE GO...   \n",
      "\n",
      "                                           Author Profile  \n",
      "20898   https://www.google.com/maps/contrib/1082131836...  \n",
      "25353   https://www.google.com/maps/contrib/1082131836...  \n",
      "21731   https://www.google.com/maps/contrib/1137279277...  \n",
      "24370   https://www.google.com/maps/contrib/1137279277...  \n",
      "216971  https://www.google.com/maps/contrib/1007726409...  \n",
      "...                                                   ...  \n",
      "153207  https://www.google.com/maps/contrib/1048326174...  \n",
      "21853   https://www.google.com/maps/contrib/1172655352...  \n",
      "24966   https://www.google.com/maps/contrib/1172655352...  \n",
      "40928   https://www.google.com/maps/contrib/1049841758...  \n",
      "217022  https://www.google.com/maps/contrib/1049841758...  \n",
      "\n",
      "[13770 rows x 2 columns]\n",
      "Empty DataFrame\n",
      "Columns: [Review Text, Author Profile]\n",
      "Index: []\n"
     ]
    }
   ],
   "source": [
    "def dupe_detection(column1, column2):\n",
    "    dupes = df.duplicated(subset = column1, keep = False)\n",
    "    duped_reviews = df[dupes].sort_values(by = column1)\n",
    "    print(duped_reviews[[column1,column2]])\n",
    "\n",
    "dupe_detection('Review Text','Author Profile')\n",
    "df = df.drop_duplicates(subset=['Review Text'])\n",
    "dupe_detection('Review Text','Author Profile')\n",
    "\n",
    "df.to_csv(\"cleaned_full_df_with_census_regions.csv\")"
   ]
  },
  {
   "cell_type": "code",
   "execution_count": 46,
   "id": "af637781",
   "metadata": {},
   "outputs": [
    {
     "data": {
      "image/png": "[encoded data removed]",
      "text/plain": [
       "<Figure size 640x480 with 1 Axes>"
      ]
     },
     "metadata": {},
     "output_type": "display_data"
    }
   ],
   "source": [
    "import matplotlib.pyplot as plt\n",
    "\n",
    "x = df['label']\n",
    "plt.hist(x)\n",
    "plt.xlabel('label')\n",
    "plt.show()"
   ]
  },
  {
   "cell_type": "code",
   "execution_count": 47,
   "id": "bd288b10",
   "metadata": {},
   "outputs": [
    {
     "data": {
      "text/plain": [
       "census region\n",
       "southern    83476\n",
       "west        51483\n",
       "Name: count, dtype: int64"
      ]
     },
     "execution_count": 47,
     "metadata": {},
     "output_type": "execute_result"
    }
   ],
   "source": [
    "cols_to_drop = df[(df['census region'] == 'northeast') | (df['census region'] == 'midwest')].index\n",
    "df.drop(cols_to_drop, inplace=True)\n",
    "\n",
    "df['census region'].value_counts()"
   ]
  },
  {
   "cell_type": "code",
   "execution_count": 48,
   "id": "3038e3e2",
   "metadata": {},
   "outputs": [],
   "source": [
    "def census_review_counts(region):\n",
    "    count1 = df[(df['census region'] == region) & (df['label'] == 'positive')]\n",
    "    count2 = df[(df['census region'] == region) & (df['label'] == 'negative')]\n",
    "    count3 = df[(df['census region'] == region) & (df['label'] == 'neutral')]\n",
    "    print(count1['label'].value_counts())\n",
    "    print(count2['label'].value_counts())\n",
    "    print(count3['label'].value_counts())"
   ]
  },
  {
   "cell_type": "code",
   "execution_count": 49,
   "id": "0e166c96",
   "metadata": {},
   "outputs": [
    {
     "name": "stdout",
     "output_type": "stream",
     "text": [
      "label\n",
      "positive    47476\n",
      "Name: count, dtype: int64\n",
      "label\n",
      "negative    33369\n",
      "Name: count, dtype: int64\n",
      "label\n",
      "neutral    2631\n",
      "Name: count, dtype: int64\n",
      "label\n",
      "positive    31535\n",
      "Name: count, dtype: int64\n",
      "label\n",
      "negative    18391\n",
      "Name: count, dtype: int64\n",
      "label\n",
      "neutral    1557\n",
      "Name: count, dtype: int64\n"
     ]
    }
   ],
   "source": [
    "census_review_counts('southern') # 47476 pos | 33369 neg | 2631 neutral | 83476 total\n",
    "census_review_counts('west') # 31535 pos | 18391 neg | 1557 neutral | 54183 total"
   ]
  },
  {
   "cell_type": "code",
   "execution_count": 50,
   "id": "3599763e",
   "metadata": {},
   "outputs": [
    {
     "name": "stdout",
     "output_type": "stream",
     "text": [
      "Significance Found\n",
      "2.4550254713598326e-56\n"
     ]
    }
   ],
   "source": [
    "import scipy.stats as stats\n",
    "alpha = 0.05\n",
    "\n",
    "observed = np.array([\n",
    "    [47476, 33369, 2631],\n",
    "    [31535, 18391, 1557]\n",
    "])\n",
    "\n",
    "chi2, p_value, degrees_of_freedom, expected_values = stats.chi2_contingency(observed)\n",
    "\n",
    "if p_value < alpha:\n",
    "    print(\"Significance Found\")\n",
    "    print(p_value)"
   ]
  },
  {
   "cell_type": "code",
   "execution_count": 51,
   "id": "e5540d49",
   "metadata": {},
   "outputs": [
    {
     "data": {
      "text/html": [
       "<div>\n",
       "<style scoped>\n",
       "    .dataframe tbody tr th:only-of-type {\n",
       "        vertical-align: middle;\n",
       "    }\n",
       "\n",
       "    .dataframe tbody tr th {\n",
       "        vertical-align: top;\n",
       "    }\n",
       "\n",
       "    .dataframe thead th {\n",
       "        text-align: right;\n",
       "    }\n",
       "</style>\n",
       "<table border=\"1\" class=\"dataframe\">\n",
       "  <thead>\n",
       "    <tr style=\"text-align: right;\">\n",
       "      <th></th>\n",
       "      <th>has owner answer</th>\n",
       "      <th>0</th>\n",
       "      <th>1</th>\n",
       "    </tr>\n",
       "    <tr>\n",
       "      <th>census region</th>\n",
       "      <th>label</th>\n",
       "      <th></th>\n",
       "      <th></th>\n",
       "    </tr>\n",
       "  </thead>\n",
       "  <tbody>\n",
       "    <tr>\n",
       "      <th rowspan=\"3\" valign=\"top\">southern</th>\n",
       "      <th>negative</th>\n",
       "      <td>17715</td>\n",
       "      <td>15654</td>\n",
       "    </tr>\n",
       "    <tr>\n",
       "      <th>neutral</th>\n",
       "      <td>1135</td>\n",
       "      <td>1496</td>\n",
       "    </tr>\n",
       "    <tr>\n",
       "      <th>positive</th>\n",
       "      <td>18032</td>\n",
       "      <td>29444</td>\n",
       "    </tr>\n",
       "    <tr>\n",
       "      <th rowspan=\"3\" valign=\"top\">west</th>\n",
       "      <th>negative</th>\n",
       "      <td>8565</td>\n",
       "      <td>9826</td>\n",
       "    </tr>\n",
       "    <tr>\n",
       "      <th>neutral</th>\n",
       "      <td>663</td>\n",
       "      <td>894</td>\n",
       "    </tr>\n",
       "    <tr>\n",
       "      <th>positive</th>\n",
       "      <td>13761</td>\n",
       "      <td>17774</td>\n",
       "    </tr>\n",
       "  </tbody>\n",
       "</table>\n",
       "</div>"
      ],
      "text/plain": [
       "has owner answer            0      1\n",
       "census region label                 \n",
       "southern      negative  17715  15654\n",
       "              neutral    1135   1496\n",
       "              positive  18032  29444\n",
       "west          negative   8565   9826\n",
       "              neutral     663    894\n",
       "              positive  13761  17774"
      ]
     },
     "execution_count": 51,
     "metadata": {},
     "output_type": "execute_result"
    }
   ],
   "source": [
    "three_way_contingency = pd.crosstab([df['census region'],df['label']],df['has owner answer'],margins=False)\n",
    "three_way_contingency"
   ]
  },
  {
   "cell_type": "code",
   "execution_count": 54,
   "id": "df16246d",
   "metadata": {},
   "outputs": [
    {
     "name": "stdout",
     "output_type": "stream",
     "text": [
      "Significance Found\n",
      "0.0\n"
     ]
    }
   ],
   "source": [
    "alpha = 0.05\n",
    "\n",
    "chi2, p_value, degrees_of_freedom, expected_values = stats.chi2_contingency(three_way_contingency)\n",
    "\n",
    "if p_value < alpha:\n",
    "    print(\"Significance Found\")\n",
    "    print(p_value)"
   ]
  },
  {
   "cell_type": "code",
   "execution_count": 55,
   "id": "afad6c4f",
   "metadata": {},
   "outputs": [
    {
     "name": "stderr",
     "output_type": "stream",
     "text": [
      "<>:1: SyntaxWarning: invalid escape sequence '\\s'\n",
      "<>:1: SyntaxWarning: invalid escape sequence '\\s'\n",
      "C:\\Users\\charlesrowe\\AppData\\Local\\Temp\\ipykernel_25896\\2740514511.py:1: SyntaxWarning: invalid escape sequence '\\s'\n",
      "  '''\n"
     ]
    },
    {
     "data": {
      "text/plain": [
       "\"\\nimport demoji\\nimport re\\n\\ndef remove_emoji(string):\\n    return demoji.replace(string, '')\\n\\ndef remove_extra_spaces(string):\\n    return re.sub(r'\\\\s{2,}',' ',str(string))\\n\\ndf['cleaned text'] = df['Review Text'].apply(remove_emoji)\\ndf['cleaned text'] = df['cleaned text'].apply(remove_extra_spaces)\\n\""
      ]
     },
     "execution_count": 55,
     "metadata": {},
     "output_type": "execute_result"
    }
   ],
   "source": [
    "'''\n",
    "import demoji\n",
    "import re\n",
    "\n",
    "def remove_emoji(string):\n",
    "    return demoji.replace(string, '')\n",
    "\n",
    "def remove_extra_spaces(string):\n",
    "    return re.sub(r'\\s{2,}',' ',str(string))\n",
    "\n",
    "df['cleaned text'] = df['Review Text'].apply(remove_emoji)\n",
    "df['cleaned text'] = df['cleaned text'].apply(remove_extra_spaces)\n",
    "'''"
   ]
  },
  {
   "cell_type": "code",
   "execution_count": 56,
   "id": "2aef0cea",
   "metadata": {},
   "outputs": [
    {
     "data": {
      "text/plain": [
       "\"\\ndef isEnglish(c):\\n    try:\\n        c.encode(encoding='utf-8').decode('ascii')\\n    except UnicodeDecodeError:\\n        return False\\n    else:\\n        return True\\n\\nnon_english = []\\nfor index, row in df.iterrows():\\n    for l in list(row['cleaned text']):\\n        for c in l:\\n            if isEnglish(c) == True:\\n                pass\\n            else:\\n                non_english.append(c)\\nprint(non_english[:10])\\n\""
      ]
     },
     "execution_count": 56,
     "metadata": {},
     "output_type": "execute_result"
    }
   ],
   "source": [
    "'''\n",
    "def isEnglish(c):\n",
    "    try:\n",
    "        c.encode(encoding='utf-8').decode('ascii')\n",
    "    except UnicodeDecodeError:\n",
    "        return False\n",
    "    else:\n",
    "        return True\n",
    "\n",
    "non_english = []\n",
    "for index, row in df.iterrows():\n",
    "    for l in list(row['cleaned text']):\n",
    "        for c in l:\n",
    "            if isEnglish(c) == True:\n",
    "                pass\n",
    "            else:\n",
    "                non_english.append(c)\n",
    "print(non_english[:10])\n",
    "'''"
   ]
  }
 ],
 "metadata": {
  "kernelspec": {
   "display_name": "Python 3",
   "language": "python",
   "name": "python3"
  },
  "language_info": {
   "codemirror_mode": {
    "name": "ipython",
    "version": 3
   },
   "file_extension": ".py",
   "mimetype": "text/x-python",
   "name": "python",
   "nbconvert_exporter": "python",
   "pygments_lexer": "ipython3",
   "version": "3.12.2"
  }
 },
 "nbformat": 4,
 "nbformat_minor": 5
}
